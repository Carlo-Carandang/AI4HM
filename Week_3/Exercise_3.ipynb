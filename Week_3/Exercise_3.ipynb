{
 "metadata": {
  "name": "",
  "signature": "sha256:6cd9270efd2744287e27a44a11f8e37f86b5e10a0079cb1730ef4e6ba6e37fc7"
 },
 "nbformat": 3,
 "nbformat_minor": 0,
 "worksheets": [
  {
   "cells": [
    {
     "cell_type": "code",
     "collapsed": false,
     "input": [
      "!date\n",
      "import numpy as np, pandas as pd, matplotlib.pyplot as plt, seaborn as sns\n",
      "%matplotlib inline\n",
      "sns.set_context('poster')\n",
      "sns.set_style('darkgrid')"
     ],
     "language": "python",
     "metadata": {},
     "outputs": []
    },
    {
     "cell_type": "code",
     "collapsed": true,
     "input": [
      "# set random seed, for reproducibility\n",
      "np.random.seed(12345)\n",
      "\n",
      "# funny little var for making notebook executable\n",
      "__________________ = None"
     ],
     "language": "python",
     "metadata": {},
     "outputs": []
    },
    {
     "cell_type": "markdown",
     "metadata": {},
     "source": [
      "Load, clean, and prepare DHS asset ownership data:"
     ]
    },
    {
     "cell_type": "code",
     "collapsed": false,
     "input": [
      "df = pd.read_csv('RWA_DHS6_2010_2011_HH_ASSETS.CSV', index_col=0)\n",
      "\n",
      "# have a look at what is in this data frame\n",
      "__________________"
     ],
     "language": "python",
     "metadata": {},
     "outputs": []
    },
    {
     "cell_type": "code",
     "collapsed": false,
     "input": [
      "cb = pd.read_csv('RWA_DHS6_2010_2011_HH_ASSETS_codebook.CSV', index_col=0)\n",
      "\n",
      "# cb stands for codebook.  have a look at what the funny column names mean\n",
      "__________________"
     ],
     "language": "python",
     "metadata": {},
     "outputs": []
    },
    {
     "cell_type": "markdown",
     "metadata": {},
     "source": [
      "Wouldn't it be nice if the column names were descriptive, instead of codes?"
     ]
    },
    {
     "cell_type": "code",
     "collapsed": false,
     "input": [
      "# find a dictionary mapping codes to descriptions\n",
      "\n",
      "# is it simply cb.to_dict?\n",
      "cb.to_dict()"
     ],
     "language": "python",
     "metadata": {},
     "outputs": []
    },
    {
     "cell_type": "code",
     "collapsed": false,
     "input": [
      "# no, not quite.  but it is in there:\n",
      "\n",
      "cb.to_dict().get(__________________)"
     ],
     "language": "python",
     "metadata": {},
     "outputs": []
    },
    {
     "cell_type": "code",
     "collapsed": false,
     "input": [
      "# you can use pd.Series.map to change all the names,\n",
      "# but you cannot do it to a list of columns directly\n",
      "\n",
      "# too bad...\n",
      "\n",
      "pd.Series(df.columns).map(cb.to_dict()['full name'])"
     ],
     "language": "python",
     "metadata": {},
     "outputs": []
    },
    {
     "cell_type": "code",
     "collapsed": false,
     "input": [
      "df.columns = pd.Series(df.columns).map(cb.to_dict()['full name'])\n",
      "\n",
      "# did we get that right?\n",
      "__________________"
     ],
     "language": "python",
     "metadata": {},
     "outputs": []
    },
    {
     "cell_type": "code",
     "collapsed": false,
     "input": [
      "# have a look at the survey results:\n",
      "\n",
      "(100*df.mean()).order().plot(kind='barh')\n",
      "plt.xlabel('Percent endorsed')"
     ],
     "language": "python",
     "metadata": {},
     "outputs": []
    },
    {
     "cell_type": "markdown",
     "metadata": {},
     "source": [
      "Now make an array of feature vectors and a corresponding array of labels:"
     ]
    },
    {
     "cell_type": "code",
     "collapsed": false,
     "input": [
      "X = np.array(df.drop('has mobile telephone', axis=1))\n",
      "y = np.array(df['has mobile telephone'])"
     ],
     "language": "python",
     "metadata": {},
     "outputs": []
    },
    {
     "cell_type": "markdown",
     "metadata": {},
     "source": [
      "And split the data into training and test sets (we'll talk more about this next week!)"
     ]
    },
    {
     "cell_type": "code",
     "collapsed": false,
     "input": [
      "train = np.random.choice(range(len(df.index)), size=len(df.index)*.8, replace=False)\n",
      "test = [i for i in (set(range(len(df.index))) - set(train))]"
     ],
     "language": "python",
     "metadata": {},
     "outputs": []
    },
    {
     "cell_type": "code",
     "collapsed": false,
     "input": [
      "X_test = X[test]\n",
      "y_test = y[test]\n",
      "\n",
      "X_train = X[train]\n",
      "y_train = y[train]"
     ],
     "language": "python",
     "metadata": {},
     "outputs": []
    },
    {
     "cell_type": "markdown",
     "metadata": {},
     "source": [
      "Does it look reasonable?"
     ]
    },
    {
     "cell_type": "code",
     "collapsed": false,
     "input": [
      "len(X_test), len(X_train)"
     ],
     "language": "python",
     "metadata": {},
     "outputs": []
    },
    {
     "cell_type": "code",
     "collapsed": false,
     "input": [
      "y_test.mean(), y_train.mean()"
     ],
     "language": "python",
     "metadata": {},
     "outputs": []
    },
    {
     "cell_type": "code",
     "collapsed": false,
     "input": [
      "X_test.mean(axis=0).round(2)"
     ],
     "language": "python",
     "metadata": {},
     "outputs": []
    },
    {
     "cell_type": "code",
     "collapsed": false,
     "input": [
      "X_train.mean(axis=0).round(2)"
     ],
     "language": "python",
     "metadata": {},
     "outputs": []
    },
    {
     "cell_type": "markdown",
     "metadata": {},
     "source": [
      "Now, let us try a range of prediction methods:\n",
      "\n",
      "# Na\u00efve Bayes"
     ]
    },
    {
     "cell_type": "code",
     "collapsed": false,
     "input": [
      "import sklearn.naive_bayes\n",
      "clf = sklearn.naive_bayes.BernoulliNB()\n",
      "clf.fit(__________________, __________________)"
     ],
     "language": "python",
     "metadata": {},
     "outputs": []
    },
    {
     "cell_type": "code",
     "collapsed": false,
     "input": [
      "y_pred = clf.predict(__________________)"
     ],
     "language": "python",
     "metadata": {},
     "outputs": []
    },
    {
     "cell_type": "code",
     "collapsed": false,
     "input": [
      "np.mean(y_pred == y_test)"
     ],
     "language": "python",
     "metadata": {},
     "outputs": []
    },
    {
     "cell_type": "markdown",
     "metadata": {},
     "source": [
      "Is that good?"
     ]
    },
    {
     "cell_type": "code",
     "collapsed": false,
     "input": [
      "y_random = np.random.choice([0,1], size=len(y_test))\n",
      "\n",
      "np.mean(y_random == y_test)"
     ],
     "language": "python",
     "metadata": {},
     "outputs": []
    },
    {
     "cell_type": "markdown",
     "metadata": {},
     "source": [
      "Better than random, worse than perfect..."
     ]
    },
    {
     "cell_type": "markdown",
     "metadata": {},
     "source": [
      "# Linear regression based prediction\n"
     ]
    },
    {
     "cell_type": "code",
     "collapsed": false,
     "input": [
      "import sklearn.linear_model\n",
      "clf = sklearn.linear_model.LinearRegression()\n",
      "clf.fit(X_train, y_train)"
     ],
     "language": "python",
     "metadata": {},
     "outputs": []
    },
    {
     "cell_type": "code",
     "collapsed": false,
     "input": [
      "y_pred = clf.predict(__________________)"
     ],
     "language": "python",
     "metadata": {},
     "outputs": []
    },
    {
     "cell_type": "code",
     "collapsed": false,
     "input": [
      "y_pred = __________________"
     ],
     "language": "python",
     "metadata": {},
     "outputs": []
    },
    {
     "cell_type": "code",
     "collapsed": false,
     "input": [
      "np.mean(y_pred == y_test)"
     ],
     "language": "python",
     "metadata": {},
     "outputs": []
    },
    {
     "cell_type": "markdown",
     "metadata": {},
     "source": [
      "Actually just about as good as N-B."
     ]
    },
    {
     "cell_type": "markdown",
     "metadata": {},
     "source": [
      "# Logistic regression"
     ]
    },
    {
     "cell_type": "code",
     "collapsed": false,
     "input": [
      "import sklearn.linear_model\n",
      "clf = sklearn.linear_model.LogisticRegression()\n",
      "clf.fit(X_train, y_train)"
     ],
     "language": "python",
     "metadata": {},
     "outputs": []
    },
    {
     "cell_type": "code",
     "collapsed": true,
     "input": [
      "y_pred = clf.predict(X_test)"
     ],
     "language": "python",
     "metadata": {},
     "outputs": []
    },
    {
     "cell_type": "code",
     "collapsed": false,
     "input": [
      "np.mean(y_pred == y_test)"
     ],
     "language": "python",
     "metadata": {},
     "outputs": []
    },
    {
     "cell_type": "markdown",
     "metadata": {},
     "source": [
      "Again, about the same..."
     ]
    },
    {
     "cell_type": "markdown",
     "metadata": {},
     "source": [
      "# Did you read about Perceptron?"
     ]
    },
    {
     "cell_type": "code",
     "collapsed": false,
     "input": [
      "import sklearn.linear_model\n",
      "clf = sklearn.linear_model.Perceptron()\n",
      "clf.fit(X_train, y_train)"
     ],
     "language": "python",
     "metadata": {},
     "outputs": []
    },
    {
     "cell_type": "code",
     "collapsed": true,
     "input": [
      "y_pred = clf.predict(X_test)"
     ],
     "language": "python",
     "metadata": {},
     "outputs": []
    },
    {
     "cell_type": "code",
     "collapsed": false,
     "input": [
      "np.mean(y_pred == y_test)"
     ],
     "language": "python",
     "metadata": {},
     "outputs": []
    },
    {
     "cell_type": "markdown",
     "metadata": {},
     "source": [
      "So it is possible to do worse.  Bonus challenge: I think you can change the parameters to get this up to 75% concordance.  Can you?"
     ]
    },
    {
     "cell_type": "markdown",
     "metadata": {},
     "source": [
      "# Decision Trees"
     ]
    },
    {
     "cell_type": "code",
     "collapsed": false,
     "input": [
      "import sklearn.tree\n",
      "clf = sklearn.tree.DecisionTreeClassifier()\n",
      "clf.fit(__________________, __________________)"
     ],
     "language": "python",
     "metadata": {},
     "outputs": []
    },
    {
     "cell_type": "code",
     "collapsed": false,
     "input": [
      "y_pred = clf.predict(__________________)"
     ],
     "language": "python",
     "metadata": {},
     "outputs": []
    },
    {
     "cell_type": "code",
     "collapsed": false,
     "input": [
      "np.mean(y_pred == __________________)"
     ],
     "language": "python",
     "metadata": {},
     "outputs": []
    },
    {
     "cell_type": "markdown",
     "metadata": {},
     "source": [
      "A tiny improvement!"
     ]
    },
    {
     "cell_type": "markdown",
     "metadata": {},
     "source": [
      "Now refactor this process, so that for any `sklearn` classifier you can call a function to find its out-of-sample predictive accuracy on cell phone ownership:"
     ]
    },
    {
     "cell_type": "code",
     "collapsed": true,
     "input": [
      "def oos_accuracy(clf, X_train=X_train, y_train=y_train, X_test=X_test, y_test=y_test):\n",
      "    __________________    "
     ],
     "language": "python",
     "metadata": {},
     "outputs": []
    },
    {
     "cell_type": "markdown",
     "metadata": {},
     "source": [
      "Figure out a way to test it:"
     ]
    },
    {
     "cell_type": "code",
     "collapsed": false,
     "input": [
      "__________________"
     ],
     "language": "python",
     "metadata": {},
     "outputs": []
    },
    {
     "cell_type": "markdown",
     "metadata": {},
     "source": [
      "Bonus challenge: Figure out a way to make it work for the linear regression predictor\n",
      "\n",
      "(Hard because we had to round the numeric predictions)"
     ]
    },
    {
     "cell_type": "code",
     "collapsed": false,
     "input": [
      "oos_accuracy(sklearn.linear_model.LinearRegression())  # got .763 before"
     ],
     "language": "python",
     "metadata": {},
     "outputs": []
    },
    {
     "cell_type": "code",
     "collapsed": true,
     "input": [
      "def fixed_oos_accuracy(clf, X_train=X_train, y_train=y_train, X_test=X_test, y_test=y_test):\n",
      "    \"\"\" Calculate out-of-sample predictive accuracy of cell phone ownership\n",
      "    prediction\n",
      "    \n",
      "    Parameters\n",
      "    ----------\n",
      "    clf : sklearn classifier or regressor\n",
      "    X_train, y_train, X_test, y_test : training and test data and labels\n",
      "    \n",
      "    Results\n",
      "    -------\n",
      "    stores trained classifier in clf, returns oos accuracy\n",
      "    \"\"\"\n",
      "    \n",
      "    __________________"
     ],
     "language": "python",
     "metadata": {},
     "outputs": []
    },
    {
     "cell_type": "code",
     "collapsed": false,
     "input": [
      "fixed_oos_accuracy(sklearn.linear_model.LinearRegression())  # got .763 before"
     ],
     "language": "python",
     "metadata": {},
     "outputs": []
    },
    {
     "cell_type": "code",
     "collapsed": true,
     "input": [],
     "language": "python",
     "metadata": {},
     "outputs": []
    }
   ],
   "metadata": {}
  }
 ]
}