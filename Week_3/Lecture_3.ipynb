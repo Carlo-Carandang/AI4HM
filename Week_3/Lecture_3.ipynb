{
 "metadata": {
  "name": "",
  "signature": "sha256:0abbb46d3a86ce0c1c642996e9daae8fbea7ae7ccbba4662403c6ad5bc578d3f"
 },
 "nbformat": 3,
 "nbformat_minor": 0,
 "worksheets": [
  {
   "cells": [
    {
     "cell_type": "markdown",
     "metadata": {
      "internals": {
       "slide_type": "subslide"
      },
      "slideshow": {
       "slide_type": "slide"
      }
     },
     "source": [
      "# Machine Learning for Health Metricians\n",
      "\n",
      "## Week 3: Basic Algorithms"
     ]
    },
    {
     "cell_type": "code",
     "collapsed": true,
     "input": [
      "import numpy as np, pandas as pd, matplotlib.pyplot as plt, seaborn as sns\n",
      "%matplotlib inline\n",
      "sns.set_context('poster')\n",
      "sns.set_style('darkgrid')"
     ],
     "language": "python",
     "metadata": {
      "internals": {
       "slide_helper": "subslide_end"
      },
      "slide_helper": "slide_end",
      "slideshow": {
       "slide_type": "skip"
      }
     },
     "outputs": []
    },
    {
     "cell_type": "markdown",
     "metadata": {
      "internals": {
       "slide_helper": "subslide_end",
       "slide_type": "subslide"
      },
      "slide_helper": "slide_end",
      "slideshow": {
       "slide_type": "slide"
      }
     },
     "source": [
      "# Any Questions?"
     ]
    },
    {
     "cell_type": "markdown",
     "metadata": {
      "internals": {
       "slide_helper": "subslide_end",
       "slide_type": "subslide"
      },
      "slide_helper": "slide_end",
      "slideshow": {
       "slide_type": "slide"
      }
     },
     "source": [
      "# Week 3\n",
      "\n",
      "* Just one class: review homework, discuss the key points from the reading, begin exercise of applying basic algorithms with `scikits-learn`\n"
     ]
    },
    {
     "cell_type": "markdown",
     "metadata": {
      "internals": {
       "slide_helper": "subslide_end",
       "slide_type": "subslide"
      },
      "slide_helper": "slide_end",
      "slideshow": {
       "slide_type": "slide"
      }
     },
     "source": [
      "* Before this week:\n",
      " * Read 2 chapters (DM 4, ISL 3)\n",
      " * Complete Predictive Accuracy computational exercise\n",
      "* During this week\u2019s classes:\n",
      " * Hands-on application to DHS data.\n",
      "* Outside of classes:\n",
      " * Read 2 chapters of course text (DM 5, ISL 5)\n",
      " * Complete \u201cPrediction\u201d computational exercise\n"
     ]
    },
    {
     "cell_type": "markdown",
     "metadata": {
      "internals": {
       "slide_helper": "subslide_end",
       "slide_type": "subslide"
      },
      "slide_helper": "slide_end",
      "slideshow": {
       "slide_type": "slide"
      }
     },
     "source": [
      "## Lecture 3 Outline:\n",
      "    \n",
      "* Homework Solutions\n",
      "* Cell phone ownership in DHS\n",
      "* Basic algorithms: Na\u00efve Bayes, Linear Models, Decision Trees\n",
      "* Exercise 3: Prediction"
     ]
    },
    {
     "cell_type": "markdown",
     "metadata": {
      "internals": {
       "slide_type": "subslide"
      },
      "slideshow": {
       "slide_type": "slide"
      }
     },
     "source": [
      "# Any (more) questions?"
     ]
    },
    {
     "cell_type": "markdown",
     "metadata": {
      "internals": {
       "slide_helper": "subslide_end"
      },
      "slide_helper": "slide_end",
      "slideshow": {
       "slide_type": "notes"
      }
     },
     "source": [
      "Anticipated questions: something about difference between statistics and machine learning, since the whole ISL chapter for this week is very familiar material on linear regression, while the DM chapter is a wild ride through a range of methods, from naive bayes to logistic regression to recursive partitioning/decision trees."
     ]
    },
    {
     "cell_type": "markdown",
     "metadata": {
      "internals": {
       "slide_type": "subslide"
      },
      "slideshow": {
       "slide_type": "slide"
      }
     },
     "source": [
      "## Homework Solutions\n",
      "\n",
      "* Searching for best $k$ value in $k$-NN"
     ]
    },
    {
     "cell_type": "markdown",
     "metadata": {
      "internals": {},
      "slideshow": {
       "slide_type": "-"
      }
     },
     "source": [
      "<img  src=\"OB8C9TQG2GRMY06GADASEF3MV3PO7FKG.png\"/>"
     ]
    },
    {
     "cell_type": "markdown",
     "metadata": {
      "internals": {
       "slide_helper": "subslide_end"
      },
      "slide_helper": "slide_end",
      "slideshow": {
       "slide_type": "notes"
      }
     },
     "source": [
      "I have a set of solutions that I can circulate, but I think I will see if anyone in class is so happy with their solution that they want to share it.  It should be easy to get it in front of everyone with the Sage cloud."
     ]
    },
    {
     "cell_type": "markdown",
     "metadata": {
      "internals": {
       "slide_helper": "subslide_end",
       "slide_type": "subslide"
      },
      "slide_helper": "slide_end",
      "slideshow": {
       "slide_type": "slide"
      }
     },
     "source": [
      "## An aside on Open Source\n",
      "\n",
      "* What is Open Source Software?"
     ]
    },
    {
     "cell_type": "markdown",
     "metadata": {
      "internals": {
       "frag_number": 12,
       "slide_type": "subslide"
      },
      "slideshow": {
       "slide_type": "slide"
      }
     },
     "source": [
      "* What is GitHub?"
     ]
    },
    {
     "cell_type": "markdown",
     "metadata": {
      "internals": {
       "slide_helper": "subslide_end"
      },
      "slide_helper": "slide_end",
      "slideshow": {
       "slide_type": "-"
      }
     },
     "source": [
      "<img  src=\"KRLOFAB77WFKIELGP5KNAF48Q7CN0D88.png\"/>"
     ]
    },
    {
     "cell_type": "markdown",
     "metadata": {
      "internals": {
       "frag_helper": "fragment_end",
       "frag_number": 14,
       "slide_type": "subslide"
      },
      "slideshow": {
       "slide_type": "slide"
      }
     },
     "source": [
      "* What is Git?"
     ]
    },
    {
     "cell_type": "markdown",
     "metadata": {
      "internals": {
       "frag_helper": "fragment_end",
       "frag_number": 14,
       "slide_helper": "subslide_end"
      },
      "slide_helper": "slide_end",
      "slideshow": {
       "slide_type": "-"
      }
     },
     "source": [
      "<img  src=\"U889W1SOUUAHAI7I2PUC6Q2RDGHGBXXK.png\"/>"
     ]
    },
    {
     "cell_type": "markdown",
     "metadata": {
      "internals": {
       "frag_helper": "fragment_end",
       "frag_number": 14,
       "slide_type": "subslide"
      },
      "slideshow": {
       "slide_type": "slide"
      }
     },
     "source": [
      "* Who wants more?"
     ]
    },
    {
     "cell_type": "markdown",
     "metadata": {
      "internals": {
       "frag_helper": "fragment_end",
       "frag_number": 14,
       "slide_helper": "subslide_end"
      },
      "slide_helper": "slide_end",
      "slideshow": {
       "slide_type": "-"
      }
     },
     "source": [
      "<img  src=\"AOBHAGNE57LIG3DO1PFG3G86JFWUH29M.png\"/>"
     ]
    },
    {
     "cell_type": "markdown",
     "metadata": {
      "internals": {
       "frag_helper": "fragment_end",
       "frag_number": 14,
       "slide_type": "subslide"
      },
      "slideshow": {
       "slide_type": "slide"
      }
     },
     "source": [
      "* Who wants in?"
     ]
    },
    {
     "cell_type": "markdown",
     "metadata": {
      "internals": {
       "frag_helper": "fragment_end",
       "frag_number": 14,
       "slide_helper": "subslide_end"
      },
      "slide_helper": "slide_end",
      "slideshow": {
       "slide_type": "-"
      }
     },
     "source": [
      "<img  src=\"CE14VHCIYJSAMP85A1G47CO3SQC7KI3U.png\"/>"
     ]
    },
    {
     "cell_type": "markdown",
     "metadata": {
      "internals": {
       "frag_helper": "fragment_end",
       "frag_number": 14,
       "slide_helper": "subslide_end",
       "slide_type": "subslide"
      },
      "slide_helper": "slide_end",
      "slideshow": {
       "slide_type": "slide"
      }
     },
     "source": [
      "# Now back to our regularly scheduled program"
     ]
    },
    {
     "cell_type": "markdown",
     "metadata": {
      "internals": {
       "frag_helper": "fragment_end",
       "frag_number": 14,
       "slide_helper": "subslide_end",
       "slide_type": "subslide"
      },
      "slide_helper": "slide_end",
      "slideshow": {
       "slide_type": "slide"
      }
     },
     "source": [
      "## Lecture 3 Outline:\n",
      "    \n",
      "* Homework Solutions\n",
      "* *Cell phone ownership in DHS*\n",
      "* Basic algorithms: Na\u00efve Bayes, Linear Models, Decision Trees\n",
      "* Exercise 3: Prediction"
     ]
    },
    {
     "cell_type": "markdown",
     "metadata": {
      "internals": {
       "frag_helper": "fragment_end",
       "frag_number": 14,
       "slide_type": "subslide"
      },
      "slideshow": {
       "slide_type": "slide"
      }
     },
     "source": [
      "## DHS Data"
     ]
    },
    {
     "cell_type": "code",
     "collapsed": false,
     "input": [
      "df = pd.read_csv('RWA_DHS6_2010_2011_HH_ASSETS.CSV', index_col=0)\n",
      "df.head()"
     ],
     "language": "python",
     "metadata": {
      "internals": {
       "frag_helper": "fragment_end",
       "frag_number": 14
      },
      "slideshow": {
       "slide_type": "-"
      }
     },
     "outputs": [
      {
       "html": [
        "<div style=\"max-height:1000px;max-width:1500px;overflow:auto;\">\n",
        "<table border=\"1\" class=\"dataframe\">\n",
        "  <thead>\n",
        "    <tr style=\"text-align: right;\">\n",
        "      <th></th>\n",
        "      <th>sh110g</th>\n",
        "      <th>hv247</th>\n",
        "      <th>hv246</th>\n",
        "      <th>hv227</th>\n",
        "      <th>sh118f</th>\n",
        "      <th>hv243a</th>\n",
        "      <th>hv243c</th>\n",
        "      <th>hv243b</th>\n",
        "      <th>hv225</th>\n",
        "      <th>hv209</th>\n",
        "      <th>hv208</th>\n",
        "      <th>hv243d</th>\n",
        "      <th>hv207</th>\n",
        "      <th>hv206</th>\n",
        "      <th>hv212</th>\n",
        "      <th>hv221</th>\n",
        "      <th>hv210</th>\n",
        "      <th>hv211</th>\n",
        "    </tr>\n",
        "  </thead>\n",
        "  <tbody>\n",
        "    <tr>\n",
        "      <th>0</th>\n",
        "      <td> 0</td>\n",
        "      <td> 1</td>\n",
        "      <td> 0</td>\n",
        "      <td> 1</td>\n",
        "      <td> 0</td>\n",
        "      <td> 1</td>\n",
        "      <td> 0</td>\n",
        "      <td> 1</td>\n",
        "      <td> 0</td>\n",
        "      <td> 0</td>\n",
        "      <td> 1</td>\n",
        "      <td> 0</td>\n",
        "      <td> 1</td>\n",
        "      <td> 1</td>\n",
        "      <td> 0</td>\n",
        "      <td> 0</td>\n",
        "      <td> 0</td>\n",
        "      <td> 0</td>\n",
        "    </tr>\n",
        "    <tr>\n",
        "      <th>1</th>\n",
        "      <td> 0</td>\n",
        "      <td> 1</td>\n",
        "      <td> 0</td>\n",
        "      <td> 0</td>\n",
        "      <td> 0</td>\n",
        "      <td> 1</td>\n",
        "      <td> 0</td>\n",
        "      <td> 0</td>\n",
        "      <td> 1</td>\n",
        "      <td> 0</td>\n",
        "      <td> 0</td>\n",
        "      <td> 0</td>\n",
        "      <td> 1</td>\n",
        "      <td> 1</td>\n",
        "      <td> 0</td>\n",
        "      <td> 0</td>\n",
        "      <td> 0</td>\n",
        "      <td> 0</td>\n",
        "    </tr>\n",
        "    <tr>\n",
        "      <th>2</th>\n",
        "      <td> 0</td>\n",
        "      <td> 1</td>\n",
        "      <td> 0</td>\n",
        "      <td> 0</td>\n",
        "      <td> 0</td>\n",
        "      <td> 1</td>\n",
        "      <td> 0</td>\n",
        "      <td> 1</td>\n",
        "      <td> 1</td>\n",
        "      <td> 0</td>\n",
        "      <td> 0</td>\n",
        "      <td> 0</td>\n",
        "      <td> 1</td>\n",
        "      <td> 0</td>\n",
        "      <td> 0</td>\n",
        "      <td> 0</td>\n",
        "      <td> 0</td>\n",
        "      <td> 1</td>\n",
        "    </tr>\n",
        "    <tr>\n",
        "      <th>3</th>\n",
        "      <td> 0</td>\n",
        "      <td> 0</td>\n",
        "      <td> 0</td>\n",
        "      <td> 1</td>\n",
        "      <td> 0</td>\n",
        "      <td> 0</td>\n",
        "      <td> 0</td>\n",
        "      <td> 0</td>\n",
        "      <td> 1</td>\n",
        "      <td> 0</td>\n",
        "      <td> 0</td>\n",
        "      <td> 0</td>\n",
        "      <td> 0</td>\n",
        "      <td> 0</td>\n",
        "      <td> 0</td>\n",
        "      <td> 0</td>\n",
        "      <td> 0</td>\n",
        "      <td> 0</td>\n",
        "    </tr>\n",
        "    <tr>\n",
        "      <th>4</th>\n",
        "      <td> 0</td>\n",
        "      <td> 0</td>\n",
        "      <td> 1</td>\n",
        "      <td> 1</td>\n",
        "      <td> 0</td>\n",
        "      <td> 0</td>\n",
        "      <td> 0</td>\n",
        "      <td> 0</td>\n",
        "      <td> 1</td>\n",
        "      <td> 0</td>\n",
        "      <td> 0</td>\n",
        "      <td> 0</td>\n",
        "      <td> 0</td>\n",
        "      <td> 0</td>\n",
        "      <td> 0</td>\n",
        "      <td> 0</td>\n",
        "      <td> 0</td>\n",
        "      <td> 0</td>\n",
        "    </tr>\n",
        "  </tbody>\n",
        "</table>\n",
        "</div>"
       ],
       "metadata": {},
       "output_type": "pyout",
       "prompt_number": 17,
       "text": [
        "   sh110g  hv247  hv246  hv227  sh118f  hv243a  hv243c  hv243b  hv225  hv209  \\\n",
        "0       0      1      0      1       0       1       0       1      0      0   \n",
        "1       0      1      0      0       0       1       0       0      1      0   \n",
        "2       0      1      0      0       0       1       0       1      1      0   \n",
        "3       0      0      0      1       0       0       0       0      1      0   \n",
        "4       0      0      1      1       0       0       0       0      1      0   \n",
        "\n",
        "   hv208  hv243d  hv207  hv206  hv212  hv221  hv210  hv211  \n",
        "0      1       0      1      1      0      0      0      0  \n",
        "1      0       0      1      1      0      0      0      0  \n",
        "2      0       0      1      0      0      0      0      1  \n",
        "3      0       0      0      0      0      0      0      0  \n",
        "4      0       0      0      0      0      0      0      0  "
       ]
      }
     ],
     "prompt_number": 17
    },
    {
     "cell_type": "code",
     "collapsed": false,
     "input": [
      "cb = pd.read_csv('RWA_DHS6_2010_2011_HH_ASSETS_codebook.CSV', index_col=0)\n",
      "cb"
     ],
     "language": "python",
     "metadata": {
      "internals": {
       "frag_helper": "fragment_end",
       "frag_number": 14,
       "slide_helper": "subslide_end"
      },
      "slide_helper": "slide_end",
      "slideshow": {
       "slide_type": "-"
      }
     },
     "outputs": [
      {
       "html": [
        "<div style=\"max-height:1000px;max-width:1500px;overflow:auto;\">\n",
        "<table border=\"1\" class=\"dataframe\">\n",
        "  <thead>\n",
        "    <tr style=\"text-align: right;\">\n",
        "      <th></th>\n",
        "      <th>full name</th>\n",
        "    </tr>\n",
        "  </thead>\n",
        "  <tbody>\n",
        "    <tr>\n",
        "      <th>hv206</th>\n",
        "      <td>                        has electricity</td>\n",
        "    </tr>\n",
        "    <tr>\n",
        "      <th>hv207</th>\n",
        "      <td>                              has radio</td>\n",
        "    </tr>\n",
        "    <tr>\n",
        "      <th>hv208</th>\n",
        "      <td>                         has television</td>\n",
        "    </tr>\n",
        "    <tr>\n",
        "      <th>hv209</th>\n",
        "      <td>                       has refrigerator</td>\n",
        "    </tr>\n",
        "    <tr>\n",
        "      <th>hv210</th>\n",
        "      <td>                            has bicycle</td>\n",
        "    </tr>\n",
        "    <tr>\n",
        "      <th>hv211</th>\n",
        "      <td>                 has motorcycle/scooter</td>\n",
        "    </tr>\n",
        "    <tr>\n",
        "      <th>hv212</th>\n",
        "      <td>                          has car/truck</td>\n",
        "    </tr>\n",
        "    <tr>\n",
        "      <th>hv221</th>\n",
        "      <td>               has telephone (landline)</td>\n",
        "    </tr>\n",
        "    <tr>\n",
        "      <th>hv225</th>\n",
        "      <td>     share toilet with other households</td>\n",
        "    </tr>\n",
        "    <tr>\n",
        "      <th>hv227</th>\n",
        "      <td>      has mosquito bed net for sleeping</td>\n",
        "    </tr>\n",
        "    <tr>\n",
        "      <th>hv243a</th>\n",
        "      <td>                   has mobile telephone</td>\n",
        "    </tr>\n",
        "    <tr>\n",
        "      <th>hv243b</th>\n",
        "      <td>                              has watch</td>\n",
        "    </tr>\n",
        "    <tr>\n",
        "      <th>hv243c</th>\n",
        "      <td>                  has animal-drawn cart</td>\n",
        "    </tr>\n",
        "    <tr>\n",
        "      <th>hv243d</th>\n",
        "      <td>                  has boat with a motor</td>\n",
        "    </tr>\n",
        "    <tr>\n",
        "      <th>hv246</th>\n",
        "      <td> owns livestock, herds, or farm animals</td>\n",
        "    </tr>\n",
        "    <tr>\n",
        "      <th>hv247</th>\n",
        "      <td>                       has bank account</td>\n",
        "    </tr>\n",
        "    <tr>\n",
        "      <th>sh110g</th>\n",
        "      <td>                               computer</td>\n",
        "    </tr>\n",
        "    <tr>\n",
        "      <th>sh118f</th>\n",
        "      <td>                     boat without motor</td>\n",
        "    </tr>\n",
        "  </tbody>\n",
        "</table>\n",
        "</div>"
       ],
       "metadata": {},
       "output_type": "pyout",
       "prompt_number": 18,
       "text": [
        "                                     full name\n",
        "hv206                          has electricity\n",
        "hv207                                has radio\n",
        "hv208                           has television\n",
        "hv209                         has refrigerator\n",
        "hv210                              has bicycle\n",
        "hv211                   has motorcycle/scooter\n",
        "hv212                            has car/truck\n",
        "hv221                 has telephone (landline)\n",
        "hv225       share toilet with other households\n",
        "hv227        has mosquito bed net for sleeping\n",
        "hv243a                    has mobile telephone\n",
        "hv243b                               has watch\n",
        "hv243c                   has animal-drawn cart\n",
        "hv243d                   has boat with a motor\n",
        "hv246   owns livestock, herds, or farm animals\n",
        "hv247                         has bank account\n",
        "sh110g                                computer\n",
        "sh118f                      boat without motor"
       ]
      }
     ],
     "prompt_number": 18
    },
    {
     "cell_type": "markdown",
     "metadata": {
      "internals": {
       "frag_helper": "fragment_end",
       "frag_number": 14,
       "slide_helper": "subslide_end",
       "slide_type": "subslide"
      },
      "slide_helper": "slide_end",
      "slideshow": {
       "slide_type": "slide"
      }
     },
     "source": [
      "## Lecture 3 Outline:\n",
      "    \n",
      "* Homework Solutions\n",
      "* Cell phone ownership in DHS\n",
      "* *Basic algorithms: Na\u00efve Bayes, Linear Models, Decision Trees*\n",
      "* Exercise 3: Prediction"
     ]
    },
    {
     "cell_type": "markdown",
     "metadata": {
      "internals": {
       "frag_helper": "fragment_end",
       "frag_number": 14,
       "slide_helper": "subslide_end",
       "slide_type": "subslide"
      },
      "slide_helper": "slide_end",
      "slideshow": {
       "slide_type": "slide"
      }
     },
     "source": [
      "## Basic Algorithms"
     ]
    },
    {
     "cell_type": "markdown",
     "metadata": {
      "internals": {
       "frag_helper": "fragment_end",
       "frag_number": 14,
       "slide_type": "subslide"
      },
      "slideshow": {
       "slide_type": "slide"
      }
     },
     "source": [
      "## Na\u00efve Bayes"
     ]
    },
    {
     "cell_type": "code",
     "collapsed": true,
     "input": [
      "import sklearn.naive_bayes\n",
      "clf = sklearn.naive_bayes.BernoulliNB()"
     ],
     "language": "python",
     "metadata": {
      "internals": {
       "frag_helper": "fragment_end",
       "frag_number": 14,
       "slide_helper": "subslide_end"
      },
      "slide_helper": "slide_end",
      "slideshow": {
       "slide_type": "-"
      }
     },
     "outputs": []
    },
    {
     "cell_type": "markdown",
     "metadata": {
      "internals": {
       "frag_helper": "fragment_end",
       "frag_number": 14,
       "slide_type": "subslide"
      },
      "slideshow": {
       "slide_type": "slide"
      }
     },
     "source": [
      "## Linear Models"
     ]
    },
    {
     "cell_type": "code",
     "collapsed": true,
     "input": [
      "import sklearn.linear_model\n",
      "clf = sklearn.linear_model.LinearRegression()"
     ],
     "language": "python",
     "metadata": {
      "internals": {
       "frag_helper": "fragment_end",
       "frag_number": 14,
       "slide_helper": "subslide_end"
      },
      "slide_helper": "slide_end",
      "slideshow": {
       "slide_type": "-"
      }
     },
     "outputs": []
    },
    {
     "cell_type": "markdown",
     "metadata": {
      "internals": {
       "frag_helper": "fragment_end",
       "frag_number": 14,
       "slide_type": "subslide"
      },
      "slideshow": {
       "slide_type": "slide"
      }
     },
     "source": [
      "## Decision Trees"
     ]
    },
    {
     "cell_type": "code",
     "collapsed": true,
     "input": [
      "import sklearn.tree\n",
      "clf = sklearn.tree.DecisionTreeClassifier()"
     ],
     "language": "python",
     "metadata": {
      "internals": {
       "frag_helper": "fragment_end",
       "frag_number": 14,
       "slide_helper": "subslide_end"
      },
      "slide_helper": "slide_end",
      "slideshow": {
       "slide_type": "-"
      }
     },
     "outputs": []
    },
    {
     "cell_type": "markdown",
     "metadata": {
      "internals": {
       "frag_helper": "fragment_end",
       "frag_number": 14,
       "slide_type": "subslide"
      },
      "slideshow": {
       "slide_type": "slide"
      }
     },
     "source": [
      "# Thought Experiment\n",
      "\n",
      "* Which do you expect to work best for predicting cell phone ownership?"
     ]
    },
    {
     "cell_type": "markdown",
     "metadata": {
      "internals": {
       "frag_helper": "fragment_end",
       "frag_number": 34,
       "slide_helper": "subslide_end"
      },
      "slide_helper": "slide_end",
      "slideshow": {
       "slide_type": "fragment"
      }
     },
     "source": [
      "# Now see if you agree with your neighbors, and try to convince each other, if not."
     ]
    },
    {
     "cell_type": "markdown",
     "metadata": {
      "internals": {
       "frag_helper": "fragment_end",
       "frag_number": 34,
       "slide_helper": "subslide_end",
       "slide_type": "subslide"
      },
      "slide_helper": "slide_end",
      "slideshow": {
       "slide_type": "slide"
      }
     },
     "source": [
      "## Lecture 3 Outline:\n",
      "    \n",
      "* Homework Solutions\n",
      "* Cell phone ownership in DHS\n",
      "* Basic algorithms: Na\u00efve Bayes, Linear Models, Decision Trees\n",
      "* *Exercise 3: Prediction*"
     ]
    },
    {
     "cell_type": "markdown",
     "metadata": {
      "internals": {
       "frag_helper": "fragment_end",
       "frag_number": 34,
       "slide_type": "subslide"
      },
      "slideshow": {
       "slide_type": "slide"
      }
     },
     "source": [
      "## Homework:\n",
      "\n",
      "* Complete the many ways of predicting cell phone ownership exercise\n",
      "* *Read*"
     ]
    },
    {
     "cell_type": "code",
     "collapsed": false,
     "input": [
      "import ipynb_style\n",
      "reload(ipynb_style)\n",
      "ipynb_style.presentation()"
     ],
     "language": "python",
     "metadata": {
      "internals": {
       "frag_helper": "fragment_end",
       "frag_number": 34,
       "slide_helper": "subslide_end"
      },
      "slide_helper": "slide_end",
      "slideshow": {
       "slide_type": "skip"
      }
     },
     "outputs": [
      {
       "html": [
        "\n",
        "<style type=\"text/css\">\n",
        "div.input {\n",
        "width: 1024px; /* about 80 chars + buffer */\n",
        "}\n",
        "\n",
        "div.text_cell {\n",
        "width: 1024px /* instead of 100%, */\n",
        "}\n",
        "\n",
        "div.text_cell_render {\n",
        "/*font-family: \"Helvetica Neue\", Arial, Helvetica, Geneva, sans-serif;*/\n",
        "font-family: \"Charis SIL\", serif; /* Make non-code text serif. */\n",
        "line-height: 145%; /* added for some line spacing of text. */\n",
        "font-size: 28pt;\n",
        "}\n",
        "\n",
        "/* Set the size of the headers */\n",
        "div.text_cell_render h1 {\n",
        "font-size: 36pt;\n",
        "}\n",
        "\n",
        "div.text_cell_render h2 {\n",
        "font-size: 32pt;\n",
        "}\n",
        "\n",
        "div.text_cell_render li {\n",
        "line-height: 1.2em;\n",
        "}\n",
        "\n",
        "div.text_cell_render p {\n",
        "font-size: 14pt;\n",
        "line-height: 1em;\n",
        "}\n",
        "\n",
        ".CodeMirror {\n",
        "font-size: 14pt;\n",
        " font-family: Consolas, monospace;\n",
        " }\n",
        "\n",
        ".rendered_html ol {list-style:decimal; margin: 1em 2em;}\n",
        "\n",
        "</style>\n"
       ],
       "metadata": {},
       "output_type": "pyout",
       "prompt_number": 16,
       "text": [
        "<IPython.core.display.HTML object>"
       ]
      }
     ],
     "prompt_number": 16
    }
   ],
   "metadata": {}
  }
 ]
}