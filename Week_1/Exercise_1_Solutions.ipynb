{
 "metadata": {
  "name": "",
  "signature": "sha256:5a7e9dc25db285892ca192316635a832b1461fe93211e5cd0b791b4565dded4c"
 },
 "nbformat": 3,
 "nbformat_minor": 0,
 "worksheets": [
  {
   "cells": [
    {
     "cell_type": "markdown",
     "metadata": {
      "internals": {
       "slide_type": "subslide"
      },
      "slideshow": {
       "slide_type": "slide"
      }
     },
     "source": [
      "# Exercise 1.0: Learning Python\n",
      "\n",
      "* From http://software-carpentry.org/v5/novice/python/index.html"
     ]
    },
    {
     "cell_type": "code",
     "collapsed": false,
     "input": [
      "# an easy way to get the data necessary for following along with part 1 of the python intro\n",
      "\n",
      "import numpy, pandas as pd\n",
      "df = pd.read_csv('inflammation-01.csv',\n",
      "                header=None)\n",
      "data = numpy.array(df)"
     ],
     "language": "python",
     "metadata": {},
     "outputs": [],
     "prompt_number": 8
    },
    {
     "cell_type": "markdown",
     "metadata": {},
     "source": [
      "1.0.1. Draw diagrams showing what variables refer to what values after each statement in the following program:\n",
      "\n",
      "    mass = 47.5\n",
      "    age = 122\n",
      "    mass = mass * 2.0\n",
      "    age = age - 20\n"
     ]
    },
    {
     "cell_type": "markdown",
     "metadata": {},
     "source": [
      "1.0.2. What does the following program print out?\n",
      "\n",
      "    first, second = 'Grace', 'Hopper'\n",
      "    third, fourth = second, first\n",
      "    print third, fourth\n"
     ]
    },
    {
     "cell_type": "code",
     "collapsed": false,
     "input": [
      "first, second = 'Grace', 'Hopper'\n",
      "third, fourth = second, first\n",
      "print third, fourth"
     ],
     "language": "python",
     "metadata": {},
     "outputs": [
      {
       "output_type": "stream",
       "stream": "stdout",
       "text": [
        "Hopper Grace\n"
       ]
      }
     ],
     "prompt_number": 9
    },
    {
     "cell_type": "markdown",
     "metadata": {},
     "source": [
      "1.0.3. \"Adding\" two strings produces their concatention: `'a' + 'b'` is `'ab'`. Write a function called fence that takes two parameters called original and wrapper and returns a new string that has the wrapper character at the beginning and end of the original:\n",
      "\n",
      "    print fence('name', '*')\n",
      "    *name*\n"
     ]
    },
    {
     "cell_type": "code",
     "collapsed": false,
     "input": [
      "def fence(orig_str, fence_char):\n",
      "    \"\"\" fence returns new string that has the wrapper character at the beginning\n",
      "    and end of the original string\"\"\"\n",
      "    \n",
      "    assert type(fence_char) == str and len(fence_char) == 1, 'fence char must be str of length one'\n",
      "    \n",
      "    return fence_char + orig_str + fence_char\n",
      "\n",
      "fence('name', '*')"
     ],
     "language": "python",
     "metadata": {},
     "outputs": [
      {
       "metadata": {},
       "output_type": "pyout",
       "prompt_number": 10,
       "text": [
        "'*name*'"
       ]
      }
     ],
     "prompt_number": 10
    },
    {
     "cell_type": "markdown",
     "metadata": {},
     "source": [
      "1.0.4. If the variable `s` refers to a string, then `s[0]` is the string's first character and `s[-1]` is its last. Write a function called outer that returns a string made up of just the first and last characters of its input:\n",
      "\n",
      "    print outer('helium')\n",
      "    hm\n"
     ]
    },
    {
     "cell_type": "code",
     "collapsed": false,
     "input": [
      "def outer(full_str):\n",
      "    return full_str[0] + full_str[-1]\n",
      "outer('helium')"
     ],
     "language": "python",
     "metadata": {},
     "outputs": [
      {
       "metadata": {},
       "output_type": "pyout",
       "prompt_number": 11,
       "text": [
        "'hm'"
       ]
      }
     ],
     "prompt_number": 11
    },
    {
     "cell_type": "markdown",
     "metadata": {},
     "source": [
      "1.0.5. We previously wrote functions called fence and outer. Draw a diagram showing how the call stack changes when we run the following:\n",
      "\n",
      "    print outer(fence('carbon', '+'))\n"
     ]
    },
    {
     "cell_type": "markdown",
     "metadata": {
      "internals": {
       "slide_type": "subslide"
      },
      "slideshow": {
       "slide_type": "slide"
      }
     },
     "source": [
      "# Exercise 1.1: Predicting Weather"
     ]
    },
    {
     "cell_type": "code",
     "collapsed": false,
     "input": [
      "import pandas as pd\n",
      "df = pd.read_csv('weather-numeric.csv')"
     ],
     "language": "python",
     "metadata": {
      "internals": {},
      "slideshow": {
       "slide_type": "-"
      }
     },
     "outputs": [],
     "prompt_number": 12
    },
    {
     "cell_type": "code",
     "collapsed": false,
     "input": [
      "df.head()"
     ],
     "language": "python",
     "metadata": {
      "internals": {},
      "slideshow": {
       "slide_type": "-"
      }
     },
     "outputs": [
      {
       "html": [
        "<div style=\"max-height:1000px;max-width:1500px;overflow:auto;\">\n",
        "<table border=\"1\" class=\"dataframe\">\n",
        "  <thead>\n",
        "    <tr style=\"text-align: right;\">\n",
        "      <th></th>\n",
        "      <th>outlook</th>\n",
        "      <th>temperature</th>\n",
        "      <th>humidity</th>\n",
        "      <th>windy</th>\n",
        "      <th>play</th>\n",
        "    </tr>\n",
        "  </thead>\n",
        "  <tbody>\n",
        "    <tr>\n",
        "      <th>0</th>\n",
        "      <td>    sunny</td>\n",
        "      <td> 85</td>\n",
        "      <td> 85</td>\n",
        "      <td> False</td>\n",
        "      <td>  no</td>\n",
        "    </tr>\n",
        "    <tr>\n",
        "      <th>1</th>\n",
        "      <td>    sunny</td>\n",
        "      <td> 80</td>\n",
        "      <td> 90</td>\n",
        "      <td>  True</td>\n",
        "      <td>  no</td>\n",
        "    </tr>\n",
        "    <tr>\n",
        "      <th>2</th>\n",
        "      <td> overcast</td>\n",
        "      <td> 83</td>\n",
        "      <td> 86</td>\n",
        "      <td> False</td>\n",
        "      <td> yes</td>\n",
        "    </tr>\n",
        "    <tr>\n",
        "      <th>3</th>\n",
        "      <td>    rainy</td>\n",
        "      <td> 70</td>\n",
        "      <td> 96</td>\n",
        "      <td> False</td>\n",
        "      <td> yes</td>\n",
        "    </tr>\n",
        "    <tr>\n",
        "      <th>4</th>\n",
        "      <td>    rainy</td>\n",
        "      <td> 68</td>\n",
        "      <td> 80</td>\n",
        "      <td> False</td>\n",
        "      <td> yes</td>\n",
        "    </tr>\n",
        "  </tbody>\n",
        "</table>\n",
        "</div>"
       ],
       "metadata": {},
       "output_type": "pyout",
       "prompt_number": 13,
       "text": [
        "    outlook  temperature  humidity  windy play\n",
        "0     sunny           85        85  False   no\n",
        "1     sunny           80        90   True   no\n",
        "2  overcast           83        86  False  yes\n",
        "3     rainy           70        96  False  yes\n",
        "4     rainy           68        80  False  yes"
       ]
      }
     ],
     "prompt_number": 13
    },
    {
     "cell_type": "code",
     "collapsed": false,
     "input": [
      "# use TAB to explore commands"
     ],
     "language": "python",
     "metadata": {
      "internals": {},
      "slideshow": {
       "slide_type": "-"
      }
     },
     "outputs": [],
     "prompt_number": 14
    },
    {
     "cell_type": "markdown",
     "metadata": {
      "internals": {},
      "slideshow": {
       "slide_type": "-"
      }
     },
     "source": [
      "## Abie's dumb predictor"
     ]
    },
    {
     "cell_type": "code",
     "collapsed": false,
     "input": [
      "def predict(s):\n",
      "    if s['outlook'] == 'sunny':\n",
      "        return 'no'\n",
      "    else:\n",
      "        return 'yes'"
     ],
     "language": "python",
     "metadata": {
      "internals": {},
      "slideshow": {
       "slide_type": "-"
      }
     },
     "outputs": [],
     "prompt_number": 15
    },
    {
     "cell_type": "code",
     "collapsed": false,
     "input": [
      "predict(df.loc[1]) # .loc[1] means \"location = row 1\""
     ],
     "language": "python",
     "metadata": {
      "internals": {},
      "slideshow": {
       "slide_type": "-"
      }
     },
     "outputs": [
      {
       "metadata": {},
       "output_type": "pyout",
       "prompt_number": 16,
       "text": [
        "'no'"
       ]
      }
     ],
     "prompt_number": 16
    },
    {
     "cell_type": "markdown",
     "metadata": {
      "internals": {},
      "slideshow": {
       "slide_type": "-"
      }
     },
     "source": [
      "## How good is this dumb predictor?"
     ]
    },
    {
     "cell_type": "code",
     "collapsed": false,
     "input": [
      "i = 0\n",
      "predict(df.loc[i]) == df.play[i]"
     ],
     "language": "python",
     "metadata": {
      "internals": {},
      "slideshow": {
       "slide_type": "-"
      }
     },
     "outputs": [
      {
       "metadata": {},
       "output_type": "pyout",
       "prompt_number": 17,
       "text": [
        "True"
       ]
      }
     ],
     "prompt_number": 17
    },
    {
     "cell_type": "code",
     "collapsed": false,
     "input": [
      "correct = 0\n",
      "total = 0\n",
      "for i in df.index:\n",
      "    # count how many predictions are correct\n",
      "    if predict(df.loc[i]) == df.play[i]:\n",
      "        correct += 1\n",
      "    total += 1"
     ],
     "language": "python",
     "metadata": {
      "internals": {},
      "slideshow": {
       "slide_type": "-"
      }
     },
     "outputs": [],
     "prompt_number": 18
    },
    {
     "cell_type": "code",
     "collapsed": false,
     "input": [
      "print correct, 'out of', total, 'correct = %.2f%%' % (100. * correct / total)"
     ],
     "language": "python",
     "metadata": {},
     "outputs": [
      {
       "output_type": "stream",
       "stream": "stdout",
       "text": [
        "10 out of 14 correct = 71.43%\n"
       ]
      }
     ],
     "prompt_number": 19
    },
    {
     "cell_type": "markdown",
     "metadata": {
      "internals": {},
      "slideshow": {
       "slide_type": "-"
      }
     },
     "source": [
      "## How much better can you do with a single rule?"
     ]
    },
    {
     "cell_type": "code",
     "collapsed": false,
     "input": [
      "# first refactor accuracy measurement into a function\n",
      "# very cool note: in Python functions can take other functions as arguments!\n",
      "\n",
      "def accuracy(predict):\n",
      "    \"\"\" measure the (\"in-sample\") accuracy of function predict\n",
      "    Parameters\n",
      "    ----------\n",
      "    predict : function that takes a row of data and produces a prediction\n",
      "    \n",
      "    Results \n",
      "    -------\n",
      "    Percent of examples where rule is correct\"\"\"\n",
      "    correct = 0\n",
      "    total = 0\n",
      "    for i in df.index:\n",
      "        # count how many predictions are correct\n",
      "        if predict(df.loc[i]) == df.play[i]:\n",
      "            correct += 1\n",
      "        total += 1\n",
      "        \n",
      "    return 100. * correct / total\n",
      "\n",
      "accuracy(predict)"
     ],
     "language": "python",
     "metadata": {},
     "outputs": [
      {
       "metadata": {},
       "output_type": "pyout",
       "prompt_number": 20,
       "text": [
        "71.42857142857143"
       ]
      }
     ],
     "prompt_number": 20
    },
    {
     "cell_type": "code",
     "collapsed": false,
     "input": [
      "# now search over all rules\n",
      "# this uses a sneaky approach to help you understand\n",
      "# the function stack\n",
      "\n",
      "acc = {} # dictionary to hold results of search\n",
      "\n",
      "for col in ['outlook', 'temperature', 'humidity', 'windy']:\n",
      "    for val in df[col].unique():\n",
      "        def predict_col_val(s):\n",
      "            if s[col] == val:\n",
      "                return 'no'\n",
      "            else:\n",
      "                return 'yes'\n",
      "        \n",
      "        acc[col,val] = accuracy(predict_col_val)\n",
      "    \n",
      "acc = pd.Series(acc)\n",
      "acc.max(), acc.argmax()"
     ],
     "language": "python",
     "metadata": {},
     "outputs": [
      {
       "metadata": {},
       "output_type": "pyout",
       "prompt_number": 28,
       "text": [
        "(71.428571428571431, ('humidity', 85))"
       ]
      }
     ],
     "prompt_number": 28
    },
    {
     "cell_type": "markdown",
     "metadata": {
      "internals": {
       "slide_helper": "subslide_end"
      },
      "slide_helper": "slide_end",
      "slideshow": {
       "slide_type": "-"
      }
     },
     "source": [
      "# Homework:\n",
      "\n",
      "* Find the best \"length-two decision list\" for `weather`\n",
      "\n",
      "* Think about machine learning projects you might do for this course (related to your IHME research?), and about elevator pitches\n",
      "\n",
      "* *Read*\n",
      "\n"
     ]
    },
    {
     "cell_type": "code",
     "collapsed": false,
     "input": [
      "# searching over all length two decision lists\n",
      "# with a similar approach, but more nesting:\n",
      "# now search over all rules\n",
      "# this uses a sneaky approach to help you understand\n",
      "# the function stack\n",
      "\n",
      "acc = {} # dictionary to hold results of search\n",
      "\n",
      "for col1 in ['outlook', 'temperature', 'humidity', 'windy']:\n",
      "    for val1 in df[col1].unique():\n",
      "        for col2 in ['outlook', 'temperature', 'humidity', 'windy']:\n",
      "            for val2 in df[col2].unique():\n",
      "                \n",
      "                # more complicated prediction function now...\n",
      "                def predict_col_val(s):\n",
      "                    if s[col1] == val1:\n",
      "                        return 'no'\n",
      "                    elif s[col2] == val2:\n",
      "                        return 'no'\n",
      "                    else:\n",
      "                        return 'yes'\n",
      "        \n",
      "                acc[col1,val1,col2,val2] = accuracy(predict_col_val)\n",
      "    \n",
      "acc = pd.Series(acc)\n",
      "acc.max(), acc.argmax()"
     ],
     "language": "python",
     "metadata": {},
     "outputs": [
      {
       "metadata": {},
       "output_type": "pyout",
       "prompt_number": 31,
       "text": [
        "(78.571428571428569, ('humidity', 70, 'outlook', 'sunny'))"
       ]
      }
     ],
     "prompt_number": 31
    },
    {
     "cell_type": "code",
     "collapsed": true,
     "input": [],
     "language": "python",
     "metadata": {},
     "outputs": []
    }
   ],
   "metadata": {}
  }
 ]
}