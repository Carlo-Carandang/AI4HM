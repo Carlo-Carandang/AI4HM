{
 "metadata": {
  "name": "2013_04_21_ML4HM_Lecture_4"
 },
 "nbformat": 3,
 "nbformat_minor": 0,
 "worksheets": [
  {
   "cells": [
    {
     "cell_type": "markdown",
     "metadata": {
      "slideshow": {
       "slide_type": "slide"
      }
     },
     "source": [
      "# Machine Learning for Health Metricians\n",
      "\n",
      "## Lecture 4: Evaluating what has been learned"
     ]
    },
    {
     "cell_type": "markdown",
     "metadata": {
      "slideshow": {
       "slide_type": "slide"
      }
     },
     "source": [
      "## Lecture 4 Outline\n",
      "\n",
      "* Homework\n",
      "* Evaluating what has been learned\n",
      "* Exercise 4: Find the best $k$ for $k$-NN"
     ]
    },
    {
     "cell_type": "markdown",
     "metadata": {
      "slideshow": {
       "slide_type": "slide"
      }
     },
     "source": [
      "## Any questions?"
     ]
    },
    {
     "cell_type": "markdown",
     "metadata": {
      "slideshow": {
       "slide_type": "subslide"
      }
     },
     "source": [
      "## Homework\n",
      "\n",
      "* Project proposal (max 300 words)"
     ]
    },
    {
     "cell_type": "markdown",
     "metadata": {
      "slideshow": {
       "slide_type": "subslide"
      }
     },
     "source": [
      "# Homework\n",
      "\n",
      "* Predicting cellphone ownership"
     ]
    },
    {
     "cell_type": "code",
     "collapsed": false,
     "input": [
      "import pandas as pd\n",
      "df = pd.read_csv('/home/j/Project/Machine-Learning/ML4HM/RWA_DHS6_2010_2011_HH_ASSETS.CSV', index_col=0)\n",
      "codebook = pd.read_csv('/home/j/Project/Machine-Learning/ML4HM/RWA_DHS6_2010_2011_HH_ASSETS_codebook.CSV', index_col=0)"
     ],
     "language": "python",
     "metadata": {
      "slideshow": {
       "slide_type": "subslide"
      }
     },
     "outputs": [],
     "prompt_number": 93
    },
    {
     "cell_type": "code",
     "collapsed": false,
     "input": [
      "codebook"
     ],
     "language": "python",
     "metadata": {
      "slideshow": {
       "slide_type": "subslide"
      }
     },
     "outputs": [
      {
       "html": [
        "<div style=\"max-height:1000px;max-width:1500px;overflow:auto;\">\n",
        "<table border=\"1\" class=\"dataframe\">\n",
        "  <thead>\n",
        "    <tr style=\"text-align: right;\">\n",
        "      <th></th>\n",
        "      <th>full name</th>\n",
        "    </tr>\n",
        "  </thead>\n",
        "  <tbody>\n",
        "    <tr>\n",
        "      <th>hv206</th>\n",
        "      <td>                        has electricity</td>\n",
        "    </tr>\n",
        "    <tr>\n",
        "      <th>hv207</th>\n",
        "      <td>                              has radio</td>\n",
        "    </tr>\n",
        "    <tr>\n",
        "      <th>hv208</th>\n",
        "      <td>                         has television</td>\n",
        "    </tr>\n",
        "    <tr>\n",
        "      <th>hv209</th>\n",
        "      <td>                       has refrigerator</td>\n",
        "    </tr>\n",
        "    <tr>\n",
        "      <th>hv210</th>\n",
        "      <td>                            has bicycle</td>\n",
        "    </tr>\n",
        "    <tr>\n",
        "      <th>hv211</th>\n",
        "      <td>                 has motorcycle/scooter</td>\n",
        "    </tr>\n",
        "    <tr>\n",
        "      <th>hv212</th>\n",
        "      <td>                          has car/truck</td>\n",
        "    </tr>\n",
        "    <tr>\n",
        "      <th>hv221</th>\n",
        "      <td>               has telephone (landline)</td>\n",
        "    </tr>\n",
        "    <tr>\n",
        "      <th>hv225</th>\n",
        "      <td>     share toilet with other households</td>\n",
        "    </tr>\n",
        "    <tr>\n",
        "      <th>hv227</th>\n",
        "      <td>      has mosquito bed net for sleeping</td>\n",
        "    </tr>\n",
        "    <tr>\n",
        "      <th>hv243a</th>\n",
        "      <td>                   has mobile telephone</td>\n",
        "    </tr>\n",
        "    <tr>\n",
        "      <th>hv243b</th>\n",
        "      <td>                              has watch</td>\n",
        "    </tr>\n",
        "    <tr>\n",
        "      <th>hv243c</th>\n",
        "      <td>                  has animal-drawn cart</td>\n",
        "    </tr>\n",
        "    <tr>\n",
        "      <th>hv243d</th>\n",
        "      <td>                  has boat with a motor</td>\n",
        "    </tr>\n",
        "    <tr>\n",
        "      <th>hv246</th>\n",
        "      <td> owns livestock, herds, or farm animals</td>\n",
        "    </tr>\n",
        "    <tr>\n",
        "      <th>hv247</th>\n",
        "      <td>                       has bank account</td>\n",
        "    </tr>\n",
        "    <tr>\n",
        "      <th>sh110g</th>\n",
        "      <td>                               computer</td>\n",
        "    </tr>\n",
        "    <tr>\n",
        "      <th>sh118f</th>\n",
        "      <td>                     boat without motor</td>\n",
        "    </tr>\n",
        "  </tbody>\n",
        "</table>\n",
        "</div>"
       ],
       "output_type": "pyout",
       "prompt_number": 94,
       "text": [
        "                                     full name\n",
        "hv206                          has electricity\n",
        "hv207                                has radio\n",
        "hv208                           has television\n",
        "hv209                         has refrigerator\n",
        "hv210                              has bicycle\n",
        "hv211                   has motorcycle/scooter\n",
        "hv212                            has car/truck\n",
        "hv221                 has telephone (landline)\n",
        "hv225       share toilet with other households\n",
        "hv227        has mosquito bed net for sleeping\n",
        "hv243a                    has mobile telephone\n",
        "hv243b                               has watch\n",
        "hv243c                   has animal-drawn cart\n",
        "hv243d                   has boat with a motor\n",
        "hv246   owns livestock, herds, or farm animals\n",
        "hv247                         has bank account\n",
        "sh110g                                computer\n",
        "sh118f                      boat without motor"
       ]
      }
     ],
     "prompt_number": 94
    },
    {
     "cell_type": "code",
     "collapsed": false,
     "input": [
      "import sklearn.neighbors\n",
      "\n",
      "X = array(df.drop(['hv243a'], axis=1))\n",
      "y = array(df.hv243a)\n",
      "\n",
      "clf = sklearn.neighbors.KNeighborsClassifier()\n",
      "clf.fit(X, y)"
     ],
     "language": "python",
     "metadata": {
      "slideshow": {
       "slide_type": "subslide"
      }
     },
     "outputs": [
      {
       "output_type": "pyout",
       "prompt_number": 95,
       "text": [
        "KNeighborsClassifier(algorithm='auto', leaf_size=30, n_neighbors=5, p=2,\n",
        "           weights='uniform')"
       ]
      }
     ],
     "prompt_number": 95
    },
    {
     "cell_type": "code",
     "collapsed": false,
     "input": [
      "y_pred = clf.predict(X)\n",
      "print 'accuracy:', mean(y == y_pred)"
     ],
     "language": "python",
     "metadata": {
      "slideshow": {
       "slide_type": "fragment"
      }
     },
     "outputs": [
      {
       "output_type": "stream",
       "stream": "stdout",
       "text": [
        "accuracy: 0.691077372737\n"
       ]
      }
     ],
     "prompt_number": 96
    },
    {
     "cell_type": "markdown",
     "metadata": {
      "slideshow": {
       "slide_type": "subslide"
      }
     },
     "source": [
      "## Is this any good?"
     ]
    },
    {
     "cell_type": "code",
     "collapsed": false,
     "input": [
      "import sklearn.tree\n",
      "clf = sklearn.tree.DecisionTreeClassifier()\n",
      "clf.fit(X, y)\n",
      "y_pred = clf.predict(X)\n",
      "print 'accuracy:', mean(y == y_pred)"
     ],
     "language": "python",
     "metadata": {
      "slideshow": {
       "slide_type": "subslide"
      }
     },
     "outputs": [
      {
       "output_type": "stream",
       "stream": "stdout",
       "text": [
        "accuracy: 0.770398636032\n"
       ]
      }
     ],
     "prompt_number": 97
    },
    {
     "cell_type": "markdown",
     "metadata": {
      "slideshow": {
       "slide_type": "slide"
      }
     },
     "source": [
      "## Evaluating what has been learned"
     ]
    },
    {
     "cell_type": "markdown",
     "metadata": {
      "slideshow": {
       "slide_type": "subslide"
      }
     },
     "source": [
      "## Training and testing\n",
      "\n",
      "* It is important that the test data is _not used in any way_ to create the classifier."
     ]
    },
    {
     "cell_type": "markdown",
     "metadata": {
      "slideshow": {
       "slide_type": "subslide"
      }
     },
     "source": [
      "## How?\n",
      "\n",
      "* stratified holdout cross-validation\n",
      "* (repeated) (stratified) $k$-fold cross-validation\n",
      "* leave-one-out cross-validation\n",
      "* bootstrap"
     ]
    },
    {
     "cell_type": "code",
     "collapsed": false,
     "input": [
      "import sklearn.cross_validation\n",
      "\n",
      "clf = sklearn.tree.DecisionTreeClassifier()\n",
      "scores = sklearn.cross_validation.cross_val_score(clf, X, y, cv=10)\n",
      "\n",
      "print scores.mean(), scores.std()"
     ],
     "language": "python",
     "metadata": {
      "slideshow": {
       "slide_type": "subslide"
      }
     },
     "outputs": [
      {
       "output_type": "stream",
       "stream": "stdout",
       "text": [
        "0.761548458649 0.010165870535\n"
       ]
      }
     ],
     "prompt_number": 98
    },
    {
     "cell_type": "code",
     "collapsed": false,
     "input": [
      "# stratified 75/25 holdout cross-validation\n",
      "cv = sklearn.cross_validation.StratifiedShuffleSplit(y, n_iter=10, test_size=.25)\n",
      "scores = sklearn.cross_validation.cross_val_score(clf, X, y, cv=cv)\n",
      "\n",
      "print scores.mean(), scores.std()"
     ],
     "language": "python",
     "metadata": {
      "slideshow": {
       "slide_type": "subslide"
      }
     },
     "outputs": [
      {
       "output_type": "stream",
       "stream": "stdout",
       "text": [
        "0.756655844156 0.00616584001303\n"
       ]
      }
     ],
     "prompt_number": 99
    },
    {
     "cell_type": "code",
     "collapsed": false,
     "input": [
      "# part of a leave-one-out cross-validation\n",
      "#cv = sklearn.cross_validation.LeaveOneOut(len(y))\n",
      "\n",
      "cv = sklearn.cross_validation.ShuffleSplit(len(y), test_size=1, n_iter=100)\n",
      "scores = sklearn.cross_validation.cross_val_score(clf, X, y, cv=cv)\n",
      "\n",
      "print scores.mean(), scores.std()"
     ],
     "language": "python",
     "metadata": {
      "slideshow": {
       "slide_type": "subslide"
      }
     },
     "outputs": [
      {
       "output_type": "stream",
       "stream": "stdout",
       "text": [
        "0.76 0.427083130081\n"
       ]
      }
     ],
     "prompt_number": 100
    },
    {
     "cell_type": "code",
     "collapsed": false,
     "input": [
      "# bootstrap cross-validation\n",
      "\n",
      "cv = sklearn.cross_validation.Bootstrap(len(y), train_size=.5, n_iter=10)\n",
      "scores = sklearn.cross_validation.cross_val_score(clf, X, y, cv=cv)\n",
      "\n",
      "print scores.mean(), scores.std()"
     ],
     "language": "python",
     "metadata": {
      "slideshow": {
       "slide_type": "subslide"
      }
     },
     "outputs": [
      {
       "output_type": "stream",
       "stream": "stdout",
       "text": [
        "0.755569990257 0.00689797968273\n"
       ]
      }
     ],
     "prompt_number": 101
    },
    {
     "cell_type": "markdown",
     "metadata": {
      "slideshow": {
       "slide_type": "slide"
      }
     },
     "source": [
      "## Exercise 4: Find the best $k$ for $k$-NN predictions of cellphone ownership"
     ]
    },
    {
     "cell_type": "code",
     "collapsed": false,
     "input": [
      "import sklearn.neighbors, sklearn.cross_validation\n",
      "\n",
      "k = 10\n",
      "X = array(df.drop(['hv243a'], axis=1))\n",
      "y = array(df.hv243a)\n",
      "\n",
      "clf = sklearn.neighbors.KNeighborsClassifier(n_neighbors=k)\n",
      "cv = sklearn.cross_validation.StratifiedShuffleSplit(y, n_iter=10, test_size=.25)\n",
      "scores = sklearn.cross_validation.cross_val_score(clf, X, y, cv=cv)\n",
      "\n",
      "print k, scores.mean(), scores.std()"
     ],
     "language": "python",
     "metadata": {
      "slideshow": {
       "slide_type": "subslide"
      }
     },
     "outputs": [
      {
       "output_type": "stream",
       "stream": "stdout",
       "text": [
        "10 0.740551948052 0.0142816183621\n"
       ]
      }
     ],
     "prompt_number": 102
    },
    {
     "cell_type": "markdown",
     "metadata": {
      "slideshow": {
       "slide_type": "slide"
      }
     },
     "source": [
      "# Homework\n",
      "\n",
      "* Project proposal feedback ($+, \\Delta$)\n",
      "* OOSPV of $k$-NN; find the best $k$."
     ]
    },
    {
     "cell_type": "code",
     "collapsed": false,
     "input": [
      "!cd /homes/abie/nbconvert/; cp /homes/abie/notebook/2013_04_21_ML4HM_Lecture_4.ipynb L4.ipynb; ./nbconvert.py --format reveal L4.ipynb"
     ],
     "language": "python",
     "metadata": {
      "slideshow": {
       "slide_type": "skip"
      }
     },
     "outputs": [
      {
       "output_type": "stream",
       "stream": "stdout",
       "text": [
        "\r\n",
        "======================================================\r\n",
        "Warning, we are deprecating this version of nbconvert,\r\n",
        "please consider using the new version.\r\n",
        "======================================================\r\n",
        "    \r\n"
       ]
      }
     ],
     "prompt_number": 103
    },
    {
     "cell_type": "code",
     "collapsed": false,
     "input": [
      "!cp /homes/abie/nbconvert/L4* /home/j/Project/Machine-Learning/ML4HM/"
     ],
     "language": "python",
     "metadata": {
      "slideshow": {
       "slide_type": "skip"
      }
     },
     "outputs": [],
     "prompt_number": 104
    },
    {
     "cell_type": "code",
     "collapsed": false,
     "input": [
      "import ipynb_style\n",
      "reload(ipynb_style)\n",
      "ipynb_style.presentation()"
     ],
     "language": "python",
     "metadata": {
      "slideshow": {
       "slide_type": "skip"
      }
     },
     "outputs": [
      {
       "html": [
        "\n",
        "<style type=\"text/css\">\n",
        "div.input {\n",
        "width: 1024px; /* about 80 chars + buffer */\n",
        "}\n",
        "\n",
        "div.text_cell {\n",
        "width: 1024px /* instead of 100%, */\n",
        "}\n",
        "\n",
        "div.text_cell_render {\n",
        "/*font-family: \"Helvetica Neue\", Arial, Helvetica, Geneva, sans-serif;*/\n",
        "font-family: \"Charis SIL\", serif; /* Make non-code text serif. */\n",
        "line-height: 145%; /* added for some line spacing of text. */\n",
        "font-size: 28pt;\n",
        "}\n",
        "\n",
        "/* Set the size of the headers */\n",
        "div.text_cell_render h1 {\n",
        "font-size: 36pt;\n",
        "}\n",
        "\n",
        "div.text_cell_render h2 {\n",
        "font-size: 32pt;\n",
        "}\n",
        "\n",
        "div.text_cell_render li {\n",
        "line-height: 1.2em;\n",
        "}\n",
        "\n",
        "div.text_cell_render p {\n",
        "font-size: 14pt;\n",
        "line-height: 1em;\n",
        "}\n",
        "\n",
        ".CodeMirror {\n",
        "font-size: 14pt;\n",
        " font-family: Consolas, monospace;\n",
        " }\n",
        "\n",
        ".rendered_html ol {list-style:decimal; margin: 1em 2em;}\n",
        "\n",
        "</style>\n"
       ],
       "output_type": "pyout",
       "prompt_number": 105,
       "text": [
        "<IPython.core.display.HTML at 0x2dffbd0>"
       ]
      }
     ],
     "prompt_number": 105
    },
    {
     "cell_type": "code",
     "collapsed": false,
     "input": [],
     "language": "python",
     "metadata": {},
     "outputs": [],
     "prompt_number": 105
    },
    {
     "cell_type": "code",
     "collapsed": false,
     "input": [],
     "language": "python",
     "metadata": {},
     "outputs": [],
     "prompt_number": 105
    }
   ],
   "metadata": {}
  }
 ]
}