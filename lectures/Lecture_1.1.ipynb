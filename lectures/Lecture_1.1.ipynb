{
 "metadata": {
  "name": "",
  "signature": "sha256:b2782706cfdb0c16328005774286d5ccf47656909914ff5aeff2cbf9ca1a3b93"
 },
 "nbformat": 3,
 "nbformat_minor": 0,
 "worksheets": [
  {
   "cells": [
    {
     "cell_type": "markdown",
     "metadata": {
      "internals": {
       "slide_type": "subslide"
      },
      "slideshow": {
       "slide_type": "slide"
      }
     },
     "source": [
      "# Artificial Intelligence for Health Metricians\n",
      "\n",
      "J://Project/Machine-Learning/ML4HM/weather-numeric.csv"
     ]
    },
    {
     "cell_type": "code",
     "collapsed": false,
     "input": [
      "import ipynb_style\n",
      "reload(ipynb_style)\n",
      "ipynb_style.presentation()"
     ],
     "language": "python",
     "metadata": {
      "internals": {
       "slide_helper": "subslide_end"
      },
      "slide_helper": "slide_end",
      "slideshow": {
       "slide_type": "skip"
      }
     },
     "outputs": [
      {
       "html": [
        "\n",
        "<style type=\"text/css\">\n",
        "div.input {\n",
        "width: 1024px; /* about 80 chars + buffer */\n",
        "}\n",
        "\n",
        "div.text_cell {\n",
        "width: 1024px /* instead of 100%, */\n",
        "}\n",
        "\n",
        "div.text_cell_render {\n",
        "/*font-family: \"Helvetica Neue\", Arial, Helvetica, Geneva, sans-serif;*/\n",
        "font-family: \"Charis SIL\", serif; /* Make non-code text serif. */\n",
        "line-height: 145%; /* added for some line spacing of text. */\n",
        "font-size: 28pt;\n",
        "}\n",
        "\n",
        "/* Set the size of the headers */\n",
        "div.text_cell_render h1 {\n",
        "font-size: 36pt;\n",
        "}\n",
        "\n",
        "div.text_cell_render h2 {\n",
        "font-size: 32pt;\n",
        "}\n",
        "\n",
        "div.text_cell_render li {\n",
        "line-height: 1.2em;\n",
        "}\n",
        "\n",
        "div.text_cell_render p {\n",
        "font-size: 14pt;\n",
        "line-height: 1em;\n",
        "}\n",
        "\n",
        ".CodeMirror {\n",
        "font-size: 14pt;\n",
        " font-family: Consolas, monospace;\n",
        " }\n",
        "\n",
        ".rendered_html ol {list-style:decimal; margin: 1em 2em;}\n",
        "\n",
        "</style>\n"
       ],
       "metadata": {},
       "output_type": "pyout",
       "prompt_number": 1,
       "text": [
        "<IPython.core.display.HTML object>"
       ]
      }
     ],
     "prompt_number": 1
    },
    {
     "cell_type": "markdown",
     "metadata": {
      "internals": {
       "slide_helper": "subslide_end",
       "slide_type": "subslide"
      },
      "slide_helper": "slide_end",
      "slideshow": {
       "slide_type": "slide"
      }
     },
     "source": [
      "# Any questions?"
     ]
    },
    {
     "cell_type": "markdown",
     "metadata": {
      "internals": {
       "slide_helper": "subslide_end",
       "slide_type": "subslide"
      },
      "slide_helper": "slide_end",
      "slideshow": {
       "slide_type": "slide"
      }
     },
     "source": [
      "* Week 1: Introduction.\n",
      "    * Class 1: What machine learning is.\n",
      "    * Class 2: Lab session on Python.\n",
      "* Before this week: Get the books, set up your computation environment;\n",
      "* During this week\u2019s classes: Learn basics of machine learning and of data analysis in Python;\n",
      "* Outside of this week\u2019s classes: \n",
      "  * Read chapters of course texts (DM 1, ISL 1, 2.1)\n",
      "  * Work through [Python Intro homework](http://nbviewer.ipython.org/github/aflaxman/AI4HM/blob/master/exercises/Exercise_1.ipynb)"
     ]
    },
    {
     "cell_type": "markdown",
     "metadata": {
      "internals": {
       "slide_type": "subslide"
      },
      "slideshow": {
       "slide_type": "slide"
      }
     },
     "source": [
      "# *Read* (and discuss)\n",
      "\n"
     ]
    },
    {
     "cell_type": "markdown",
     "metadata": {
      "internals": {
       "slide_helper": "subslide_end"
      },
      "slide_helper": "slide_end",
      "slideshow": {
       "slide_type": "notes"
      }
     },
     "source": [
      "* What was most surprising thing for you?\n",
      "* DM is about technology, ISL is about tools; is there a difference?\n",
      "* What is training and what is learning?\n",
      "* How do you know a machine is learning?\n",
      "* Are rocks smarter than dogs (as one mean-spirited critic put it)?\n",
      "* What can be missed when deciding what to learn and what to predict, e.g. sales example in ISL?\n"
     ]
    },
    {
     "cell_type": "markdown",
     "metadata": {
      "internals": {
       "slide_helper": "subslide_end",
       "slide_type": "subslide"
      },
      "slide_helper": "slide_end",
      "slideshow": {
       "slide_type": "slide"
      }
     },
     "source": [
      "# Software Carpentry Introduction to Python\n",
      "\n",
      "* http://software-carpentry.org/v5/novice/python/index.html"
     ]
    },
    {
     "cell_type": "markdown",
     "metadata": {
      "internals": {
       "slide_helper": "subslide_end",
       "slide_type": "subslide"
      },
      "slide_helper": "slide_end",
      "slideshow": {
       "slide_type": "slide"
      }
     },
     "source": [
      "## Homework:\n",
      "\n",
      "* Think about \u201cinput data\u201d, and your experiences preparing and cleaning it\n",
      "* Find the best \"length-two decision list\" for `weather` prediction\n",
      "* Keep thinking about a machine learning project\n",
      "* *Read* 2+ chapters (DM 2-3, ISL 2.2)"
     ]
    }
   ],
   "metadata": {}
  }
 ]
}