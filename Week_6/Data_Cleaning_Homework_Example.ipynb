{
 "metadata": {
  "name": "",
  "signature": "sha256:40b96484c0d5770244ba8c1372c8b409c8dae7154492fcfd07f796a956a51434"
 },
 "nbformat": 3,
 "nbformat_minor": 0,
 "worksheets": [
  {
   "cells": [
    {
     "cell_type": "code",
     "collapsed": false,
     "input": [
      "import numpy as np, pandas as pd, matplotlib.pyplot as plt, seaborn as sns\n",
      "%matplotlib inline\n",
      "sns.set_context('poster')\n",
      "sns.set_style('darkgrid')"
     ],
     "language": "python",
     "metadata": {},
     "outputs": [],
     "prompt_number": 32
    },
    {
     "cell_type": "markdown",
     "metadata": {},
     "source": [
      "# Data Cleaning Notebook\n",
      "\n",
      "Name: Abraham D. Flaxman\n",
      "\n",
      "Date: 2/11/2015\n",
      "\n",
      "## A Brief Description of the Data \n",
      "\n",
      "I will use penalized logistic regression to distinguish 10+10 exercise text from Biostats compentencies, and use the coefficient values to identify what is and is not Biostats in your proposed projects.\n",
      "\n",
      "### What is available\n",
      "\n",
      "Text from 10+10 exercise and from the SPH compentencies for degrees website (https://sph.washington.edu/prospective/programs/competencies.asp)\n",
      "\n",
      "\n",
      "### What is needed\n",
      "\n",
      "A bunch of text processing to get all this text from various files into one place."
     ]
    },
    {
     "cell_type": "code",
     "collapsed": false,
     "input": [
      "# load all 10+10 exercises\n",
      "import glob\n",
      "\n",
      "collected_work_dirs = glob.glob('/projects/46a44406-fa15-4d4a-98a8-3133426c492b/example_course-collect/Week_5/*/')"
     ],
     "language": "python",
     "metadata": {},
     "outputs": [],
     "prompt_number": 2
    },
    {
     "cell_type": "code",
     "collapsed": false,
     "input": [
      "def extract_project_idea(txt):\n",
      "    \"\"\" The final bit of the 10+10.md file is the selected project idea\n",
      "    \n",
      "    Here is a hacky way to get it.\n",
      "    \"\"\"\n",
      "    \n",
      "    txt = txt.split(\"==================================================================================\")\n",
      "    #print txt\n",
      "    return txt[-1]\n",
      "    \n",
      "#extract_project_idea(txt)"
     ],
     "language": "python",
     "metadata": {},
     "outputs": [],
     "prompt_number": 3
    },
    {
     "cell_type": "markdown",
     "metadata": {},
     "source": [
      "For each dir in the collected work dir list, load the 10+10.md file, extract the project idea, and append it to the corpus.  And label the results AI4HM."
     ]
    },
    {
     "cell_type": "code",
     "collapsed": false,
     "input": [
      "corpus_ai4hm = []\n",
      "label_ai4hm = []\n",
      "\n",
      "for dir_name in collected_work_dirs:\n",
      "    fname = dir_name + '10+10.md'\n",
      "    with open(fname) as f:\n",
      "        txt = f.read()\n",
      "        txt = extract_project_idea(txt)\n",
      "        \n",
      "        if len(txt.strip()) > 0: \n",
      "            corpus_ai4hm.append(txt)\n",
      "            label_ai4hm.append('AI4HM')"
     ],
     "language": "python",
     "metadata": {},
     "outputs": [],
     "prompt_number": 4
    },
    {
     "cell_type": "code",
     "collapsed": false,
     "input": [
      "# how many did we get?\n",
      "len(corpus_ai4hm)"
     ],
     "language": "python",
     "metadata": {},
     "outputs": [
      {
       "metadata": {},
       "output_type": "pyout",
       "prompt_number": 5,
       "text": [
        "14"
       ]
      }
     ],
     "prompt_number": 5
    },
    {
     "cell_type": "code",
     "collapsed": false,
     "input": [
      "# have a look at one\n",
      "\n",
      "print np.random.choice(corpus_ai4hm)"
     ],
     "language": "python",
     "metadata": {},
     "outputs": [
      {
       "output_type": "stream",
       "stream": "stdout",
       "text": [
        "\n",
        "\n",
        "The DEX team works with healthcare expenditure and volume data on a patient-level basis that comes from a variety of different sources and settings. This variability, along with sparseness and the wide variety of trends in the data present a challenge when trying to produce an overarching regression technique. Machine Learning Regression would allow cross-validation and would result in models that are unique to individual causes and functions, improving our estimates and alleviating the oversmoothing currently encountered.\n",
        "\n",
        "\n"
       ]
      }
     ],
     "prompt_number": 6
    },
    {
     "cell_type": "markdown",
     "metadata": {},
     "source": [
      "Now load the biostats compentencies:"
     ]
    },
    {
     "cell_type": "code",
     "collapsed": false,
     "input": [
      "corpus_biostats = []\n",
      "label_biostats = []\n",
      "\n",
      "# Biostatistics competencies for all MPH Students\n",
      "\n",
      "for txt in \"\"\"Select and interpret appropriate graphical displays and numerical summaries for both quantitative and categorical data.\n",
      "Explain the logic and interpret the results of statistical hypothesis tests and confidence intervals.\n",
      "Select appropriate measures of association of nominal and continuous variables.\n",
      "Select appropriate methods for statistical inference to compare one group to a standard, or two or more groups to each other.\n",
      "Develop or evaluate a statistical analysis plan to address the major research questions of a public health or biomedical study based on the data collected and the design of the study.\n",
      "Explain the roles of sample size, power, and precision in standard study designs.\"\"\".split('\\n'):\n",
      "    corpus_biostats.append(txt)\n",
      "    label_biostats.append('Biostats')\n"
     ],
     "language": "python",
     "metadata": {},
     "outputs": [],
     "prompt_number": 8
    },
    {
     "cell_type": "code",
     "collapsed": false,
     "input": [
      "# Upon satisfactory completion of the MPH in Biostatistics, graduates will be able to:\n",
      "\n",
      "for txt in \"\"\"Meet the generic SPH learning objectives for the MPH degree;\n",
      "Meet the Core-Specific Learning Objectives for all MPH students;\n",
      "Select and interpret appropriate graphical displays and numerical summaries for both quantitative and categorical data;\n",
      "Explain the logic and interpret the results of statistical hypothesis tests and confidence intervals;\n",
      "Select appropriate methods for statistical inference to compare one group to a standard, or two or more groups to each other;\n",
      "Use appropriate statistical techniques to perform multiple comparisons, to account for confounding or to gain precision;\n",
      "Use appropriate regression analysis techniques for continuous, binary, count and censored-time-to-event outcomes to analyze independent data from medical and other public health studies;\n",
      "Explain different modeling strategies employed in regression analysis, depending on whether the purpose of the analysis is to develop a predictive model or to make adjusted comparisons;\n",
      "Develop or evaluate a statistical analysis plan to address the major research questions of a biomedical study based on the data collected and the design of the study;\n",
      "Determine the sample size needed for a study; and\n",
      "Communicate the aims and results of regression analyses of continuous, binary, count and censored-time-to-event outcomes, to an audience of non-statistician collaborators, including a full interpretation of relevant parameter estimates.\"\"\".split('\\n'):\n",
      "    corpus_biostats.append(txt)\n",
      "    label_biostats.append('Biostats')\n"
     ],
     "language": "python",
     "metadata": {},
     "outputs": [],
     "prompt_number": 9
    },
    {
     "cell_type": "code",
     "collapsed": false,
     "input": [
      "len(corpus_biostats)"
     ],
     "language": "python",
     "metadata": {},
     "outputs": [
      {
       "metadata": {},
       "output_type": "pyout",
       "prompt_number": 10,
       "text": [
        "17"
       ]
      }
     ],
     "prompt_number": 10
    },
    {
     "cell_type": "code",
     "collapsed": false,
     "input": [
      "corpus_hme = []\n",
      "label_hme = []\n",
      "\n",
      "# Upon satisfactory completion of the MPH in Global Health, HME track, graduates will be able to:\n",
      "\n",
      "for txt in \"\"\"Meet the generic SPH learning objectives for the MPH degree;\n",
      "Meet the Core-Specific Learning Objectives for all MPH students;\n",
      "Meet the generic learning objectives of the DGH core curriculum:\n",
      "Describe the most commoncauses of morbidity and mortality globally, both communicable and non-communicable, among newborns, children, adolescents, women, and men and apply this knowledge in the design, implementation, or evaluation of health services or programs;\n",
      "Describe the major components ofhealth information systems (e.g., surveillance, national registries, surveys, administrative data) and some of the uses, challenges and limitations of gathering and using health statistics;\n",
      "Analyze the role of leading factors, institutions and policy frameworks in shaping the organization and governance of international health since the mid-20th century;\n",
      "Analyze how historical, political, and economic factors have and are shaping, maintaining and reforming health and health care systems;\n",
      "Apply scientific methods to plan, scale up and/or evaluate interventions to improve determinants of health and health systems;\n",
      "Discuss the major causes of disease burden, the pattern and variability in health issues around the globe, as well as think critically about the magnitude and complex nature of global health challenges and ways to address them;\n",
      "Identify and describe the world's most significant diseases, injuries and risk factors, including their causes, symptoms, treatment, prevention, and associated risk factors;\n",
      "Elaborate on specific topics such as: defining and quantifying health, measuring mortality and trends in adult and child mortality, diseases and risk factors in populations, the epidemiological transition, health inequalities, framework for health systems performance assessment, financing of health care;\n",
      "Compare and contrast the health status of different populations with respect to their disease burden, epidemics, human resources for health, organization and quality of health care delivery, health reforms;\n",
      "Describe the rationale, conceptual and historical basis of population health measurement;\n",
      "Critically examine different measures of population health and health system performance;\n",
      "Compare and contrast the main sources of information on population health and health system performance;\n",
      "Apply and develop statistical methods and analytic techniques;\n",
      "Demonstrate proficiency in at least two statistical packages, e.g. STATA, R, etc.;\n",
      "Demonstrate proficiency in analyzing large survey datasets and compute quantities of interest while taking into consideration complex sampling frames;\n",
      "Exhibit knowledge and technical acumen of a number of statistical models including, but not limited to: linear regression, logic and profit models, count models, hierarchical models;\n",
      "Calculate and interpret important health statistics such as disease incidence and prevalence, maternal mortality rates and ratios, disability\u2010adjusted life years, attributable burden, and avoidable risk;\n",
      "Analyze systematically the evidence presented in published research on global health problems, potential solutions, system barriers and political/economic dimensions, using appropriate techniques and methods;\n",
      "Describe and explain the use of health metrics in health policy, planning and priority setting;\n",
      "State and interpret the concepts and steps in designing impact evaluation studies;\n",
      "Describe and critique select high\u2010profiled impact evaluation studies in global health;\n",
      "Apply appropriate methods to control for confounding in evaluation studies;\n",
      "Demonstrate ability to implement statistical methods used in evaluation studies including various types of matching, instrumental variables and panel regression;\n",
      "Distinguish between the various types of evaluation studies and recognize the circumstances that they should be used in;\n",
      "Describe the key steps in survey design, list the main types of surveys and distinguish the advantages and disadvantages of each one. Categorize the bias present in available data sources for evaluation studies and demonstrate ability to correct for it using statistical techniques;\n",
      "Demonstrate ability to communicate effectively in oral and written format, and to lay and professional audiences;\n",
      "Use appropriately on\u2010line resources to perform comprehensive literature reviews;\n",
      "Demonstrate ability to organize and construct grant proposals and scientific papers; and\n",
      "Critique journal articles.\"\"\".split('\\n'):\n",
      "    corpus_hme.append(txt)\n",
      "    label_hme.append('GH-HME')\n"
     ],
     "language": "python",
     "metadata": {},
     "outputs": [],
     "prompt_number": 11
    },
    {
     "cell_type": "markdown",
     "metadata": {},
     "source": [
      "Let's see what we've got:"
     ]
    },
    {
     "cell_type": "code",
     "collapsed": false,
     "input": [
      "pd.Series(label_ai4hm + label_biostats + label_hme).value_counts()"
     ],
     "language": "python",
     "metadata": {},
     "outputs": [
      {
       "metadata": {},
       "output_type": "pyout",
       "prompt_number": 12,
       "text": [
        "GH-HME      32\n",
        "Biostats    17\n",
        "AI4HM       14\n",
        "dtype: int64"
       ]
      }
     ],
     "prompt_number": 12
    },
    {
     "cell_type": "code",
     "collapsed": false,
     "input": [
      "print '\\n'.join(corpus_hme)\n"
     ],
     "language": "python",
     "metadata": {},
     "outputs": [
      {
       "output_type": "stream",
       "stream": "stdout",
       "text": [
        "Meet the generic SPH learning objectives for the MPH degree;\n",
        "Meet the Core-Specific Learning Objectives for all MPH students;\n",
        "Meet the generic learning objectives of the DGH core curriculum:\n",
        "Describe the most commoncauses of morbidity and mortality globally, both communicable and non-communicable, among newborns, children, adolescents, women, and men and apply this knowledge in the design, implementation, or evaluation of health services or programs;\n",
        "Describe the major components ofhealth information systems (e.g., surveillance, national registries, surveys, administrative data) and some of the uses, challenges and limitations of gathering and using health statistics;\n",
        "Analyze the role of leading factors, institutions and policy frameworks in shaping the organization and governance of international health since the mid-20th century;\n",
        "Analyze how historical, political, and economic factors have and are shaping, maintaining and reforming health and health care systems;\n",
        "Apply scientific methods to plan, scale up and/or evaluate interventions to improve determinants of health and health systems;\n",
        "Discuss the major causes of disease burden, the pattern and variability in health issues around the globe, as well as think critically about the magnitude and complex nature of global health challenges and ways to address them;\n",
        "Identify and describe the world's most significant diseases, injuries and risk factors, including their causes, symptoms, treatment, prevention, and associated risk factors;\n",
        "Elaborate on specific topics such as: defining and quantifying health, measuring mortality and trends in adult and child mortality, diseases and risk factors in populations, the epidemiological transition, health inequalities, framework for health systems performance assessment, financing of health care;\n",
        "Compare and contrast the health status of different populations with respect to their disease burden, epidemics, human resources for health, organization and quality of health care delivery, health reforms;\n",
        "Describe the rationale, conceptual and historical basis of population health measurement;\n",
        "Critically examine different measures of population health and health system performance;\n",
        "Compare and contrast the main sources of information on population health and health system performance;\n",
        "Apply and develop statistical methods and analytic techniques;\n",
        "Demonstrate proficiency in at least two statistical packages, e.g. STATA, R, etc.;\n",
        "Demonstrate proficiency in analyzing large survey datasets and compute quantities of interest while taking into consideration complex sampling frames;\n",
        "Exhibit knowledge and technical acumen of a number of statistical models including, but not limited to: linear regression, logic and profit models, count models, hierarchical models;\n",
        "Calculate and interpret important health statistics such as disease incidence and prevalence, maternal mortality rates and ratios, disability\u2010adjusted life years, attributable burden, and avoidable risk;\n",
        "Analyze systematically the evidence presented in published research on global health problems, potential solutions, system barriers and political/economic dimensions, using appropriate techniques and methods;\n",
        "Describe and explain the use of health metrics in health policy, planning and priority setting;\n",
        "State and interpret the concepts and steps in designing impact evaluation studies;\n",
        "Describe and critique select high\u2010profiled impact evaluation studies in global health;\n",
        "Apply appropriate methods to control for confounding in evaluation studies;\n",
        "Demonstrate ability to implement statistical methods used in evaluation studies including various types of matching, instrumental variables and panel regression;\n",
        "Distinguish between the various types of evaluation studies and recognize the circumstances that they should be used in;\n",
        "Describe the key steps in survey design, list the main types of surveys and distinguish the advantages and disadvantages of each one. Categorize the bias present in available data sources for evaluation studies and demonstrate ability to correct for it using statistical techniques;\n",
        "Demonstrate ability to communicate effectively in oral and written format, and to lay and professional audiences;\n",
        "Use appropriately on\u2010line resources to perform comprehensive literature reviews;\n",
        "Demonstrate ability to organize and construct grant proposals and scientific papers; and\n",
        "Critique journal articles.\n"
       ]
      }
     ],
     "prompt_number": 13
    },
    {
     "cell_type": "markdown",
     "metadata": {},
     "source": [
      "## Need to get text into a format more familiar to our class"
     ]
    },
    {
     "cell_type": "code",
     "collapsed": false,
     "input": [
      "\n",
      "import sklearn.feature_extraction\n",
      "vectorizer = sklearn.feature_extraction.text.CountVectorizer(min_df=1)"
     ],
     "language": "python",
     "metadata": {},
     "outputs": [],
     "prompt_number": 14
    },
    {
     "cell_type": "code",
     "collapsed": false,
     "input": [
      "X = vectorizer.fit_transform(corpus_ai4hm + corpus_biostats)"
     ],
     "language": "python",
     "metadata": {},
     "outputs": [],
     "prompt_number": 15
    },
    {
     "cell_type": "code",
     "collapsed": false,
     "input": [
      "np.random.choice(vectorizer.get_feature_names(), size=10)"
     ],
     "language": "python",
     "metadata": {},
     "outputs": [
      {
       "metadata": {},
       "output_type": "pyout",
       "prompt_number": 16,
       "text": [
        "array([u'representations', u'clusters', u'ages', u'working', u'adding',\n",
        "       u'shifts', u'study', u'clinician', u'ihme', u'marie'], \n",
        "      dtype='<U17')"
       ]
      }
     ],
     "prompt_number": 16
    },
    {
     "cell_type": "code",
     "collapsed": false,
     "input": [
      "y = label_ai4hm + label_biostats"
     ],
     "language": "python",
     "metadata": {},
     "outputs": [],
     "prompt_number": 17
    },
    {
     "cell_type": "markdown",
     "metadata": {},
     "source": [
      "I can't resist, let's see what it does:"
     ]
    },
    {
     "cell_type": "code",
     "collapsed": false,
     "input": [
      "import sklearn.linear_model"
     ],
     "language": "python",
     "metadata": {},
     "outputs": [],
     "prompt_number": 18
    },
    {
     "cell_type": "code",
     "collapsed": false,
     "input": [
      "clf = sklearn.linear_model.LogisticRegression(penalty='l1', C=10)\n",
      "clf.fit(X, y)\n",
      "np.where(clf.coef_ != 0)"
     ],
     "language": "python",
     "metadata": {},
     "outputs": [
      {
       "metadata": {},
       "output_type": "pyout",
       "prompt_number": 22,
       "text": [
        "(array([0, 0, 0, 0, 0, 0, 0, 0]),\n",
        " array([ 52,  92, 386, 786, 787, 803, 888, 897]))"
       ]
      }
     ],
     "prompt_number": 22
    },
    {
     "cell_type": "code",
     "collapsed": false,
     "input": [
      "for i in np.where(clf.coef_ > .1)[1]:\n",
      "    print vectorizer.get_feature_names()[i],"
     ],
     "language": "python",
     "metadata": {},
     "outputs": [],
     "prompt_number": 26
    },
    {
     "cell_type": "code",
     "collapsed": false,
     "input": [
      "np.where(clf.coef_ < -.1)"
     ],
     "language": "python",
     "metadata": {},
     "outputs": [
      {
       "metadata": {},
       "output_type": "pyout",
       "prompt_number": 24,
       "text": [
        "(array([0, 0, 0, 0, 0]), array([ 92, 786, 803, 888, 897]))"
       ]
      }
     ],
     "prompt_number": 24
    },
    {
     "cell_type": "code",
     "collapsed": false,
     "input": [
      "for i in np.where(clf.coef_ < -.1)[1]:\n",
      "    print vectorizer.get_feature_names()[i],"
     ],
     "language": "python",
     "metadata": {},
     "outputs": [
      {
       "output_type": "stream",
       "stream": "stdout",
       "text": [
        "be that to with would\n"
       ]
      }
     ],
     "prompt_number": 25
    },
    {
     "cell_type": "markdown",
     "metadata": {},
     "source": [
      "Well, that did not do anything interesting...\n",
      "\n",
      "But I will not give up yet."
     ]
    },
    {
     "cell_type": "code",
     "collapsed": false,
     "input": [
      "clf = sklearn.linear_model.LogisticRegression(penalty='l2', C=10)\n",
      "clf.fit(X, y)\n",
      "np.where(clf.coef_ > .1)[1]"
     ],
     "language": "python",
     "metadata": {},
     "outputs": [
      {
       "metadata": {},
       "output_type": "pyout",
       "prompt_number": 27,
       "text": [
        "array([ 28,  39,  50,  52,  60,  77, 107, 113, 126, 132, 166, 169, 173,\n",
        "       179, 181, 185, 215, 218, 225, 226, 228, 243, 269, 283, 293, 311,\n",
        "       328, 340, 343, 368, 401, 414, 416, 444, 456, 468, 477, 480, 484,\n",
        "       494, 506, 513, 521, 528, 529, 533, 543, 593, 595, 599, 625, 626,\n",
        "       630, 650, 669, 675, 682, 696, 723, 743, 745, 748, 752, 757, 759,\n",
        "       766, 781, 784, 787, 838])"
       ]
      }
     ],
     "prompt_number": 27
    },
    {
     "cell_type": "code",
     "collapsed": false,
     "input": [
      "np.where(clf.coef_ < -.1)[1]"
     ],
     "language": "python",
     "metadata": {},
     "outputs": [
      {
       "metadata": {},
       "output_type": "pyout",
       "prompt_number": 28,
       "text": [
        "array([ 32,  48,  63,  67,  79,  92, 118, 120, 129, 150, 187, 191, 201,\n",
        "       251, 316, 320, 327, 348, 377, 386, 399, 421, 423, 447, 449, 463,\n",
        "       523, 535, 555, 569, 735, 786, 792, 797, 801, 814, 815, 842, 850,\n",
        "       854, 871, 879, 886, 888, 897])"
       ]
      }
     ],
     "prompt_number": 28
    },
    {
     "cell_type": "code",
     "collapsed": false,
     "input": [
      "for i in np.where(clf.coef_ > .1)[1]:\n",
      "    print vectorizer.get_feature_names()[i], '|',"
     ],
     "language": "python",
     "metadata": {},
     "outputs": [
      {
       "output_type": "stream",
       "stream": "stdout",
       "text": [
        "adjusted | all | analysis | and | appropriate | association | binary | both | categorical | censored | compare | comparisons | confidence | continuous | core | count | degree | depending | designs | determine | develop | displays | employed | event | explain | for | generic | graphical | group | hypothesis | inference | interpret | intervals | learning | logic | make | measures | meet | methods | modeling | mph | needed | nominal | numerical | objectives | of | or | power | precision | predictive | public | purpose | quantitative | regression | results | roles | sample | select | size | sph | standard | statistical | strategies | students | study | summaries | techniques | tests | the | use |\n"
       ]
      }
     ],
     "prompt_number": 29
    },
    {
     "cell_type": "code",
     "collapsed": false,
     "input": [
      "for i in np.where(clf.coef_ < -.1)[1]:\n",
      "    print vectorizer.get_feature_names()[i], '|',"
     ],
     "language": "python",
     "metadata": {},
     "outputs": [
      {
       "output_type": "stream",
       "stream": "stdout",
       "text": [
        "age | an | are | as | at | be | by | can | causes | clustering | countries | covariates | currently | do | from | functions | generate | have | if | in | individual | is | it | level | like | machine | not | on | over | patterns | sources | that | these | this | time | tree | trends | using | validation | variety | we | when | will | with | would |\n"
       ]
      }
     ],
     "prompt_number": 30
    },
    {
     "cell_type": "markdown",
     "metadata": {},
     "source": [
      "That was fun.  But perhaps useless.  But I'll play around a little more."
     ]
    },
    {
     "cell_type": "code",
     "collapsed": false,
     "input": [
      "vectorizer = sklearn.feature_extraction.text.CountVectorizer(ngram_range=[1,2])\n",
      "X = vectorizer.fit_transform(corpus_ai4hm + corpus_biostats)\n",
      "y = label_ai4hm + label_biostats\n",
      "\n",
      "clf = sklearn.linear_model.LogisticRegression(penalty='l2', C=100)\n",
      "clf.fit(X, y)\n",
      "\n",
      "print 'class A'\n",
      "for i in np.where(clf.coef_ > .1)[1]:\n",
      "    print vectorizer.get_feature_names()[i], '|',\n",
      "    \n",
      "print\n",
      "print\n",
      "print 'class B'\n",
      "for i in np.where(clf.coef_ < -.1)[1]:\n",
      "    print vectorizer.get_feature_names()[i], '|',\n"
     ],
     "language": "python",
     "metadata": {},
     "outputs": [
      {
       "output_type": "stream",
       "stream": "stdout",
       "text": [
        "class A\n",
        "account | account for | adjusted | adjusted comparisons | all | all mph | analysis | analysis depending | and | and categorical | and censored | and confidence | and continuous | and interpret | and numerical | and precision | appropriate | "
       ]
      },
      {
       "output_type": "stream",
       "stream": "stdout",
       "text": [
        "appropriate graphical | appropriate measures | appropriate methods | appropriate statistical | association | association of | binary | binary count | both | both quantitative | categorical | categorical data | censored | censored time | compare one | comparisons | comparisons to | "
       ]
      },
      {
       "output_type": "stream",
       "stream": "stdout",
       "text": [
        "confidence | confidence intervals | confounding | confounding or | continuous | continuous binary | continuous variables | core | core specific | count | count and | degree | depending | depending on | designs | "
       ]
      },
      {
       "output_type": "stream",
       "stream": "stdout",
       "text": [
        "determine | determine the | develop | develop predictive | different modeling | displays | displays and | each other | employed | employed in | event | event outcomes | explain | explain different | explain the | for | for all | for both | "
       ]
      },
      {
       "output_type": "stream",
       "stream": "stdout",
       "text": [
        "for confounding | for statistical | for study | for the | gain | gain precision | generic | generic sph | graphical | graphical displays | group to | groups to | hypothesis | hypothesis tests | in regression | in standard | inference | inference to | "
       ]
      },
      {
       "output_type": "stream",
       "stream": "stdout",
       "text": [
        "to account | to develop | to each | to event | to gain | to make | to perform | to standard | two or | use | use appropriate | whether the |\n",
        "\n",
        "class B\n",
        "about | age | are | as | at | be | "
       ]
      },
      {
       "output_type": "stream",
       "stream": "stdout",
       "text": [
        "by | can | causes | clustering | could | countries | covariates | currently | do | from | gbd | generate | have | if | in | "
       ]
      },
      {
       "output_type": "stream",
       "stream": "stdout",
       "text": [
        "in the | individual | is | it | level | like | machine | machine learning | not | on | over | over time | patterns | so | that | these | this | time | "
       ]
      },
      {
       "output_type": "stream",
       "stream": "stdout",
       "text": [
        "to the | tree | trends | using | variety | variety of | we | when | will | will be | with | would | would be |\n"
       ]
      }
     ]
    },
    {
     "cell_type": "code",
     "collapsed": false,
     "input": [
      "i=0"
     ],
     "language": "python",
     "metadata": {},
     "outputs": [],
     "prompt_number": 66
    },
    {
     "cell_type": "code",
     "collapsed": false,
     "input": [
      "print i\n",
      "print corpus_ai4hm[i]"
     ],
     "language": "python",
     "metadata": {},
     "outputs": [
      {
       "output_type": "stream",
       "stream": "stdout",
       "text": [
        "0\n",
        "\n",
        "\n",
        "In a perfect world, I would do:\n",
        "\n",
        "--Spectral clustering (option 2), with\n",
        "-- a fully nested distance metric (option 6), and\n",
        "-- change-over-time covariates included, with the cluster analysis rerun for each year (of ICD10 data), option 9.\n",
        "\n",
        "Realistically, I don't know that I'll have the time or the capacity to do that.  The first hurdle will definitely be a distance metric for the causes of death, and I would love your input on that.  I'll probably wind up just using k-means, but I would like to try including change-over-time covariates to see if they have a lasting effect on outputs.\n",
        "\n",
        "\n",
        "\n"
       ]
      }
     ],
     "prompt_number": 67
    },
    {
     "cell_type": "code",
     "collapsed": false,
     "input": [
      "i += 1"
     ],
     "language": "python",
     "metadata": {},
     "outputs": [],
     "prompt_number": 64
    },
    {
     "cell_type": "code",
     "collapsed": false,
     "input": [],
     "language": "python",
     "metadata": {},
     "outputs": []
    }
   ],
   "metadata": {}
  }
 ]
}