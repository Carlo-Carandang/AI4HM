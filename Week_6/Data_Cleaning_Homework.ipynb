{
 "metadata": {
  "name": "",
  "signature": "sha256:f7ca8f00d6e12f3990ccc96cfb2767cd5ec4880e0495ab777d3aa822f6c9b259"
 },
 "nbformat": 3,
 "nbformat_minor": 0,
 "worksheets": [
  {
   "cells": [
    {
     "cell_type": "code",
     "collapsed": false,
     "input": [
      "import numpy as np, pandas as pd, matplotlib.pyplot as plt, seaborn as sns\n",
      "%matplotlib inline\n",
      "sns.set_context('poster')\n",
      "sns.set_style('darkgrid')"
     ],
     "language": "python",
     "metadata": {},
     "outputs": []
    },
    {
     "cell_type": "markdown",
     "metadata": {},
     "source": [
      "# Data Cleaning Notebook\n",
      "\n",
      "Name: \n",
      "\n",
      "Date: \n",
      "\n",
      "## A Brief Description of the Data \n",
      "\n",
      "### What is available\n",
      "\n",
      "### What is needed\n"
     ]
    },
    {
     "cell_type": "code",
     "collapsed": false,
     "input": [
      "# data cleaning code goes here, if possible"
     ],
     "language": "python",
     "metadata": {},
     "outputs": []
    }
   ],
   "metadata": {}
  }
 ]
}