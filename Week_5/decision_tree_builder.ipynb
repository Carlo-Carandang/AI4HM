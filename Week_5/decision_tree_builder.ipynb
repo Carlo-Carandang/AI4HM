{
 "metadata": {
  "name": "",
  "signature": "sha256:ac3f0d7ab2c7292229f0bf423beb6d840c20b6f4a7ef57af2a6393733a8ee70a"
 },
 "nbformat": 3,
 "nbformat_minor": 0,
 "worksheets": [
  {
   "cells": [
    {
     "cell_type": "code",
     "collapsed": false,
     "input": [
      "# setup our standard computation environment\n",
      "import numpy as np, pandas as pd, matplotlib.pyplot as plt, seaborn as sns\n",
      "%matplotlib inline\n",
      "sns.set_style('darkgrid')\n",
      "sns.set_context('poster')"
     ],
     "language": "python",
     "metadata": {},
     "outputs": []
    },
    {
     "cell_type": "code",
     "collapsed": false,
     "input": [
      "# set random seed for reproducibility\n",
      "np.random.seed(12345)"
     ],
     "language": "python",
     "metadata": {},
     "outputs": []
    },
    {
     "cell_type": "code",
     "collapsed": false,
     "input": [
      "# some data, based on a real Abie project\n",
      "df = pd.DataFrame(dict(\n",
      "    age=\n",
      "        array([ 19.,  19.,  20.,  22.,  19.,  20.,  20.,  24.,  20.,  20.,  19.,\n",
      "                20.,  19.,  21.,  21.,  20.,  19.,  19.,  22.,  20.,  20.,  19.,\n",
      "                18.,  19.,  19.,  19.,  20.,  18.,  19.,  19.,  19.,  22.,  21.,\n",
      "                20.,  20.,  18.,  19.,  20.,  22.,  18.,  19.,  21.,  22.,  21.,\n",
      "                26.,  20.,  19.,  20.,  18.,  20.,  20.,  18.,  27.,  19.,  20.,\n",
      "                18.,  20.,  19.,  20.,  19.,  21.,  19.,  19.,  22.,  18.,  20.,\n",
      "                20.,  24.,  18.,  19.,  18.,  20.,  19.,  20.,  22.,  19.,  19.,\n",
      "                18.,  19.,  26.,  22.,  20.,  19.,  19.,  20.,  21.,  21.,  19.,\n",
      "                22.,  19.,  19.,  20.,  19.,  22.,  22.,  22.,  20.,  20.,  18.,\n",
      "                20.]),\n",
      "    level=\n",
      "        array([u'Undergraduate', u'Undergraduate', u'Undergraduate',\n",
      "               u'Undergraduate', u'Undergraduate', u'Undergraduate',\n",
      "               u'Undergraduate', u'Undergraduate', u'Undergraduate',\n",
      "               u'Undergraduate', u'Undergraduate', u'Undergraduate',\n",
      "               u'Undergraduate', u'Undergraduate', u'Undergraduate',\n",
      "               u'Undergraduate', u'Undergraduate', u'Undergraduate',\n",
      "               u'Undergraduate', u'Undergraduate', u'Undergraduate',\n",
      "               u'Undergraduate', u'Undergraduate', u'Undergraduate',\n",
      "               u'Undergraduate', u'Undergraduate', u'Undergraduate',\n",
      "               u'Undergraduate', u'Undergraduate', u'Undergraduate',\n",
      "               u'Undergraduate', u'Undergraduate', u'Undergraduate',\n",
      "               u'Undergraduate', u'Undergraduate', u'Undergraduate',\n",
      "               u'Undergraduate', u'Undergraduate', u'Undergraduate',\n",
      "               u'Undergraduate', u'Undergraduate', u'Undergraduate',\n",
      "               u'Undergraduate', u'Undergraduate', u'Undergraduate',\n",
      "               u'Undergraduate', u'Undergraduate', u'Undergraduate',\n",
      "               u'Undergraduate', u'Undergraduate', u'Undergraduate',\n",
      "               u'Undergraduate', u'Undergraduate', u'Undergraduate',\n",
      "               u'Undergraduate', u'Undergraduate', u'Undergraduate',\n",
      "               u'Undergraduate', u'Undergraduate', u'Undergraduate',\n",
      "               u'Undergraduate', u'Undergraduate', u'Undergraduate',\n",
      "               u'Undergraduate', u'Undergraduate', u'Undergraduate',\n",
      "               u'Undergraduate', u'Medical Student', u'Medical Student',\n",
      "               u'Medical Student', u'Medical Student', u'Medical Student',\n",
      "               u'Medical Student', u'Medical Student', u'Medical Student',\n",
      "               u'Medical Student', u'Medical Student', u'Medical Student',\n",
      "               u'Medical Student', u'Medical Student', u'Medical Student',\n",
      "               u'Medical Student', u'Medical Student', u'Medical Student',\n",
      "               u'Medical Student', u'Medical Student', u'Medical Student',\n",
      "               u'Medical Student', u'Medical Student', u'Medical Student',\n",
      "               u'Medical Student', u'Medical Student', u'Medical Student',\n",
      "               u'Medical Student', u'Medical Student', u'Medical Student',\n",
      "               u'Medical Student', u'Medical Student', u'Medical Student',\n",
      "               u'Medical Student'], dtype=object),\n",
      "    meansalt17to23=\n",
      "        array([ 0.0555556,  0.3333333,  0.7222222,  0.       ,  0.0555556,\n",
      "                0.0555556,  0.2777778,  0.2222222,  0.3333333,  0.5555556,\n",
      "                0.2777778,  0.1111111,  0.5555556,  0.5555556,  0.3333333,\n",
      "                0.5      ,  0.1666667,  0.4444444,  0.1111111,  0.6666667,\n",
      "                0.6666667,  0.2222222,  0.2222222,  0.0555556,  0.1111111,\n",
      "                0.2777778,  0.       ,  0.1666667,  0.3333333,  0.4444444,\n",
      "                0.2777778,  0.1666667,  0.2222222,  0.3333333,  0.0555556,\n",
      "                0.4444444,  0.5555556,  0.2777778,  0.3888889,  0.2222222,\n",
      "                0.2777778,  0.3888889,  0.3333333,  0.0555556,  0.4444444,\n",
      "                0.3333333,  0.5555556,  0.2222222,  0.1666667,  0.1666667,\n",
      "                0.2222222,  0.2777778,  0.1666667,  0.0555556,  0.6111111,\n",
      "                0.8333333,  0.2777778,  0.1111111,  0.9444444,  0.3333333,\n",
      "                0.2777778,  0.2222222,  0.0555556,  0.8888889,  0.0555556,\n",
      "                0.5      ,  0.       ,  0.3125   ,  0.5625   ,  0.       ,\n",
      "                0.0625   ,  0.125    ,  0.625    ,  0.0625   ,  0.125    ,\n",
      "                0.       ,  0.5625   ,  0.125    ,  0.3125   ,  0.8125   ,\n",
      "                0.4375   ,  0.       ,  0.1875   ,  0.25     ,  0.4375   ,\n",
      "                0.3125   ,  0.       ,  0.1875   ,  0.0625   ,  0.25     ,\n",
      "                0.       ,  0.5      ,  0.375    ,  0.0625   ,  0.1875   ,\n",
      "                0.1875   ,  0.4375   ,  0.375    ,  0.1875   ,  0.3125   ])\n",
      "    ))"
     ],
     "language": "python",
     "metadata": {},
     "outputs": []
    },
    {
     "cell_type": "markdown",
     "metadata": {},
     "source": [
      "Inspired by the very practical need to do some data mining (aka p-value hacking) of the results of our salt game experiment, I am going to implement my own C4.5-style decision tree algorithm.  It will be un-optimized, emphasizing simplicity over speed.  And perhaps I will make my students do it, too.  But it might be too hard."
     ]
    },
    {
     "cell_type": "markdown",
     "metadata": {},
     "source": [
      "# Need criteria for node quality to do splitting"
     ]
    },
    {
     "cell_type": "code",
     "collapsed": false,
     "input": [
      "# use negative MSE, so that higher values are better\n",
      "def neg_mse(example_indices):\n",
      "    #print example_indices\n",
      "    return -np.var(df.meansalt17to23[example_indices])\n",
      "\n",
      "# will have a special one for finding splits that have large difference between treatment and control"
     ],
     "language": "python",
     "metadata": {},
     "outputs": []
    },
    {
     "cell_type": "code",
     "collapsed": false,
     "input": [
      "# overall mse impurity\n",
      "neg_mse(df.index)"
     ],
     "language": "python",
     "metadata": {},
     "outputs": []
    },
    {
     "cell_type": "markdown",
     "metadata": {},
     "source": [
      "# Need a way to tell if a variable is numeric or categorical"
     ]
    },
    {
     "cell_type": "code",
     "collapsed": false,
     "input": [
      "# for a given split, eval split quality\n",
      "# two cases: categorical and numeric\n",
      "split = 'level'\n",
      "df[split].dtype"
     ],
     "language": "python",
     "metadata": {},
     "outputs": []
    },
    {
     "cell_type": "code",
     "collapsed": false,
     "input": [
      "split = 'age'\n",
      "df[split].dtype"
     ],
     "language": "python",
     "metadata": {},
     "outputs": []
    },
    {
     "cell_type": "code",
     "collapsed": false,
     "input": [
      "# TODO: make this a robust method\n",
      "def data_type(s):\n",
      "    if type(s) == int:\n",
      "        return 'numeric'\n",
      "    if type(s) == float:\n",
      "        return 'numeric'\n",
      "    if type(s) == str or type(s) == unicode:\n",
      "        return 'categorical'\n",
      "    if np.dtype(s) == np.dtype('O'):\n",
      "        return 'categorical'\n",
      "    elif np.dtype(s) == np.float64:\n",
      "        return 'numeric'\n",
      "assert data_type(20) == 'numeric'\n",
      "assert data_type(20.) == 'numeric'\n",
      "assert data_type('Undergraduate') == 'categorical'\n",
      "assert data_type(df['level']) == 'categorical'\n",
      "assert data_type(df['age']) == 'numeric'"
     ],
     "language": "python",
     "metadata": {},
     "outputs": []
    },
    {
     "cell_type": "code",
     "collapsed": false,
     "input": [
      "df.level.unique()"
     ],
     "language": "python",
     "metadata": {},
     "outputs": []
    },
    {
     "cell_type": "markdown",
     "metadata": {},
     "source": [
      "# Represent a decision tree as a nested dictionary"
     ]
    },
    {
     "cell_type": "code",
     "collapsed": false,
     "input": [
      "# each node is a dict, with keys for:\n",
      "#   split : str, optional; feature column that node splits on (node is leaf if not present)\n",
      "#   thresh : float, optional; if split col is numeric, value to split above and below\n",
      "#   child_VALS : dicts, with VALS = leq, greater for numeric splits, and VALS = df[split].unique() for categorical\n",
      "#   examples : rows of pd.DataFrame which pass through this node\n",
      "\n",
      "# depth 0 tree:\n",
      "dt_ex0 = {'examples': df.index}\n",
      "\n",
      "# depth 1 tree:\n",
      "dt_ex = \\\n",
      "{'examples': df.index,\n",
      " 'split': 'age',\n",
      " 'thresh': 25,\n",
      " 'child_leq': {'examples': df[df.age<=25].index},\n",
      " 'child_greater': {'examples': df[df.age>25].index},\n",
      " }\n",
      "\n",
      "# depth 2 example:\n",
      "dt_ex = \\\n",
      "{'examples': df.index,\n",
      " 'split': 'age',\n",
      " 'thresh': 25,\n",
      " 'child_leq': {'examples': df[df.age<=25].index,\n",
      "               'split': 'level',\n",
      "               'child_Undergraduate': {'examples':df[(df.age<=25)&(df.level=='Undergraduate')].index},\n",
      "               'child_Medical Student': {'examples':df[(df.age<=25)&(df.level=='Medical Student')].index},\n",
      "               'child_Resident': {'examples':df[(df.age<=25)&(df.level=='Resident')].index},\n",
      "               'child_Attending': {'examples':df[(df.age<=25)&(df.level=='Attending')].index},},\n",
      " 'child_greater': {'examples': df[df.age>25].index,\n",
      "                   'split': 'level',\n",
      "               'child_Undergraduate': {'examples':df[(df.age>25)&(df.level=='Undergraduate')].index},\n",
      "               'child_Medical Student': {'examples':df[(df.age>25)&(df.level=='Medical Student')].index},\n",
      "               'child_Resident': {'examples':df[(df.age>25)&(df.level=='Resident')].index},\n",
      "               'child_Attending': {'examples':df[(df.age>25)&(df.level=='Attending')].index},},\n",
      " }"
     ],
     "language": "python",
     "metadata": {},
     "outputs": []
    },
    {
     "cell_type": "markdown",
     "metadata": {},
     "source": [
      "# To predict for a row of data, recursively descend tree and use mean of leaf node"
     ]
    },
    {
     "cell_type": "code",
     "collapsed": false,
     "input": [
      "def predict(tree, x):\n",
      "    split = tree.get('split')\n",
      "    if split:  # internal node\n",
      "        if data_type(x[split]) == 'numeric':\n",
      "            if x[split] <= tree['thresh']:\n",
      "                return predict(tree['child_leq'], x)\n",
      "            else:\n",
      "                return predict(tree['child_greater'], x)\n",
      "        else: # data_type is 'categorical'\n",
      "            subtree = tree['child_'+str(x[split])]\n",
      "            return predict(subtree, x)\n",
      "    else:  # leaf node\n",
      "        rows = np.array(tree['examples'])\n",
      "        return df.meansalt17to23[rows].mean()\n",
      "predict(dt_ex, {'age':20, 'level':'Undergraduate'})"
     ],
     "language": "python",
     "metadata": {},
     "outputs": []
    },
    {
     "cell_type": "code",
     "collapsed": false,
     "input": [
      "for level in df.level.unique():\n",
      "    print level, predict(dt_ex, {'age':26, 'level':level})"
     ],
     "language": "python",
     "metadata": {},
     "outputs": []
    },
    {
     "cell_type": "markdown",
     "metadata": {},
     "source": [
      "# On second thought, it would be better to provide a function for prediction, that could be the mean, or something else"
     ]
    },
    {
     "cell_type": "code",
     "collapsed": false,
     "input": [
      "def mean(rows):\n",
      "    return df.meansalt17to23[rows].mean()\n",
      "\n",
      "# to predict for a row of data, recursively descend tree and use mean of leaf node\n",
      "def predict(tree, x, agg_func):\n",
      "    \"\"\" predict with decision tree `tree` for example x\n",
      "    tree : nest dict, as described above\n",
      "    x : example dict or pd.Series\n",
      "    agg_func : function that takes rows for examples and calculates prediction value\n",
      "    \"\"\"\n",
      "    \n",
      "    split = tree.get('split')\n",
      "    if split:  # internal node\n",
      "        if data_type(x[split]) == 'numeric':\n",
      "            if x[split] <= tree['thresh']:\n",
      "                return predict(tree['child_leq'], x, agg_func)\n",
      "            else:\n",
      "                return predict(tree['child_greater'], x, agg_func)\n",
      "        else: # data_type is 'categorical'\n",
      "            subtree = tree['child_'+str(x[split])]\n",
      "            return predict(subtree, x, agg_func)\n",
      "    else:  # leaf node\n",
      "        rows = np.array(tree['examples'])\n",
      "        return agg_func(rows)\n",
      "    \n",
      "predict(dt_ex, {'age':20, 'level':'Undergraduate'}, mean)"
     ],
     "language": "python",
     "metadata": {},
     "outputs": []
    },
    {
     "cell_type": "code",
     "collapsed": false,
     "input": [
      "for level in df.level.unique():\n",
      "    print level, predict(dt_ex, {'age':26, 'level':level}, mean)"
     ],
     "language": "python",
     "metadata": {},
     "outputs": []
    },
    {
     "cell_type": "code",
     "collapsed": false,
     "input": [
      "predict(dt_ex, df.loc[0], mean)"
     ],
     "language": "python",
     "metadata": {},
     "outputs": []
    },
    {
     "cell_type": "markdown",
     "metadata": {},
     "source": [
      "# Now to grow a tree, search through all candidate splits, pick best, and recurse"
     ]
    },
    {
     "cell_type": "code",
     "collapsed": false,
     "input": [
      "def fit(X, y, criteria, depth=0, max_depth=np.inf, min_examples=2):\n",
      "    \"\"\" recursively build greedy tree (depth-first)\n",
      "    \n",
      "    X : pd.DataFrame of feature vectors (as rows)\n",
      "    y : pd.Series of labels\n",
      "    criteria : function that measures quality of a set of labels (e.g. MSE or gini)\n",
      "    depth : int, current depth of recursion\n",
      "    max_depth : int, maximum depth of tree\n",
      "    min_example : int, minimum number of examples for an internal node\n",
      "    \"\"\"\n",
      "   \n",
      "    # simple cases:\n",
      "    # not enough examples\n",
      "    if len(X.index) <= min_examples:\n",
      "        return {'examples': X.index}\n",
      "    \n",
      "    # tree too deep\n",
      "    if depth >= max_depth:\n",
      "        return {'examples': X.index}\n",
      "    \n",
      "    # hard case: search for best split\n",
      "    n = float(len(X.index))\n",
      "    max_quality = -np.inf\n",
      "    best_split = None\n",
      "    \n",
      "    for split in X.columns:\n",
      "        if data_type(X[split]) == 'numeric':\n",
      "            for thresh in X[split].unique():\n",
      "                left_vals = y[X[split] <= thresh]\n",
      "                right_vals = y[X[split] > thresh]\n",
      "                quality = len(left_vals) / n * criteria(left_vals.index) \\\n",
      "                            + len(right_vals) / n * criteria(right_vals.index)\n",
      "                if quality > max_quality:\n",
      "                    max_quality = quality\n",
      "                    best_split = split\n",
      "                    best_thresh = thresh\n",
      "        else: # split var is categorical\n",
      "            quality = 0\n",
      "            for cat in X[split].unique():\n",
      "                cat_vals = y[X[split] == cat]\n",
      "                quality += len(cat_vals) / n * criteria(cat_vals.index)\n",
      "            if quality > max_quality:\n",
      "                max_quality = quality\n",
      "                best_split = split\n",
      "\n",
      "    if not best_split:\n",
      "        return {'examples': X.index}\n",
      "    else: # found a split to use, so partition on it and recurse\n",
      "        tree = {'examples': X.index,\n",
      "                'split': best_split}\n",
      "        if data_type(X[best_split]) == 'numeric':\n",
      "            tree['thresh'] = best_thresh\n",
      "\n",
      "            rows = X[best_split] <= best_thresh\n",
      "            tree['child_leq'] = fit(X[rows], y[rows], criteria, depth+1, max_depth, min_examples)\n",
      "\n",
      "            rows = X[best_split] > best_thresh\n",
      "            tree['child_greater'] = fit(X[rows], y[rows], criteria, depth+1, max_depth, min_examples)\n",
      "        \n",
      "        else: # best split var is categorical\n",
      "            for cat in X[best_split].unique():\n",
      "                rows = X[best_split] == cat\n",
      "                tree['child_'+cat] = fit(X[rows].drop(best_split, axis=1), y[rows], criteria, depth+1, max_depth, min_examples)\n",
      "    \n",
      "        return tree\n",
      "\n",
      "tree = fit(df.filter(['age', 'level']), df.meansalt17to23, neg_mse, max_depth=1)\n",
      "predict(tree, df.loc[0], mean)"
     ],
     "language": "python",
     "metadata": {},
     "outputs": []
    },
    {
     "cell_type": "markdown",
     "metadata": {},
     "source": [
      "# How do we test this?"
     ]
    },
    {
     "cell_type": "code",
     "collapsed": false,
     "input": [
      "# interactively, with a recursive tree printer\n",
      "def print_tree(tree, depth=0):\n",
      "    indent = '    '*depth\n",
      "    if 'split' in tree:\n",
      "        if 'thresh' in tree:\n",
      "            print indent + 'if X[%s] <= %.2f:' % (tree['split'], tree['thresh'])\n",
      "            print_tree(tree['child_leq'], depth+1)\n",
      "            print indent + 'else:'\n",
      "            print_tree(tree['child_greater'], depth+1)\n",
      "        else:\n",
      "            for k in tree:\n",
      "                if k.startswith('child_'):\n",
      "                    print indent + 'if X[%s] == \"%s\":' % (tree['split'], k.replace('child_', ''))\n",
      "                    print_tree(tree[k], depth+1)\n",
      "    else:\n",
      "        rows = np.array(tree['examples'])\n",
      "        print indent + 'return agg_func(%d, %d, ...) [%d examples]' % (rows[0], rows[1], len(rows))\n",
      "                                                          \n",
      "\n",
      "# depth one, see that it works right\n",
      "n=3\n",
      "tree = fit(df.loc[:n, ['age', ]], df.meansalt17to23[:n], neg_mse, max_depth=1)\n",
      "print_tree(tree)"
     ],
     "language": "python",
     "metadata": {},
     "outputs": []
    },
    {
     "cell_type": "code",
     "collapsed": false,
     "input": [
      "df.filter(['age', 'level', 'meansalt17to23']).loc[:n]"
     ],
     "language": "python",
     "metadata": {},
     "outputs": []
    },
    {
     "cell_type": "markdown",
     "metadata": {},
     "source": [
      "# Test with replication of class exercise:"
     ]
    },
    {
     "cell_type": "code",
     "collapsed": false,
     "input": [
      "np.random.seed(123456)\n",
      "\n",
      "x_true = np.linspace(0,10,1000)\n",
      "y_true = np.cos(x_true)\n",
      "\n",
      "x_train = np.random.choice(x_true, size=100)\n",
      "y_train = np.random.normal(np.cos(x_train), .4)\n",
      "\n",
      "plt.plot(x_true, y_true, label='truth')\n",
      "plt.plot(x_train, y_train, 's', label='train')\n",
      "plt.legend()"
     ],
     "language": "python",
     "metadata": {},
     "outputs": []
    },
    {
     "cell_type": "code",
     "collapsed": false,
     "input": [
      "X = pd.DataFrame({'x':x_train})\n",
      "y = pd.Series(y_train)\n",
      "\n",
      "def neg_mse(rows):\n",
      "    return -y[rows].var()\n",
      "\n",
      "def mean(rows):\n",
      "    return y[rows].mean()\n",
      "\n",
      "\n",
      "tree = fit(X, y, neg_mse, 0, 25, 25)\n",
      "print_tree(tree)"
     ],
     "language": "python",
     "metadata": {},
     "outputs": []
    },
    {
     "cell_type": "code",
     "collapsed": false,
     "input": [
      "y_pred = [predict(tree, {'x': x}, mean) for x in x_true]"
     ],
     "language": "python",
     "metadata": {},
     "outputs": []
    },
    {
     "cell_type": "code",
     "collapsed": false,
     "input": [
      "plt.plot(x_true, y_true, label='truth')\n",
      "plt.plot(x_train, y_train, 's', label='train')\n",
      "plt.plot(x_true, y_pred, label='pred')\n",
      "plt.legend()"
     ],
     "language": "python",
     "metadata": {},
     "outputs": []
    },
    {
     "cell_type": "code",
     "collapsed": false,
     "input": [],
     "language": "python",
     "metadata": {},
     "outputs": []
    }
   ],
   "metadata": {}
  }
 ]
}