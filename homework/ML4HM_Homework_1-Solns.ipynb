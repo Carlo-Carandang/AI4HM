{
 "metadata": {
  "name": "ML4HM_Homework_1-Solns"
 },
 "nbformat": 3,
 "nbformat_minor": 0,
 "worksheets": [
  {
   "cells": [
    {
     "cell_type": "markdown",
     "metadata": {},
     "source": [
      "# Homework:\n",
      "\n",
      "* Find the best \"length-two decision list\" for `weather`\n",
      "* Develop an \"elevator pitch\" for a machine learning project related to your IHME research\n",
      "* Read\n"
     ]
    },
    {
     "cell_type": "markdown",
     "metadata": {},
     "source": [
      "## Find the best length-two decision list for `weather`"
     ]
    },
    {
     "cell_type": "code",
     "collapsed": false,
     "input": [
      "import pandas as pd\n",
      "df = pd.read_csv('/home/j/Project/Machine-Learning/ML4HM/weather-numeric.csv')"
     ],
     "language": "python",
     "metadata": {},
     "outputs": [],
     "prompt_number": 1
    },
    {
     "cell_type": "code",
     "collapsed": false,
     "input": [
      "# extend predict from exercise 1 solutions to take lists for col, value, and pred\n",
      "\n",
      "def predict(s, col_list, val_list, pred_list):\n",
      "    for col, val, pred in zip(col_list, val_list, pred_list):\n",
      "        # outlook-based predict is different from form suited to other columns,\n",
      "        # since outlook is unordered\n",
      "\n",
      "        if col == 'outlook':\n",
      "            if s['outlook'] == val:\n",
      "                return pred\n",
      "\n",
      "        else:\n",
      "            if s[col] < val:\n",
      "                return pred\n",
      "    # if code reaches this point, no decision on list was followed\n",
      "    return not pred"
     ],
     "language": "python",
     "metadata": {},
     "outputs": [],
     "prompt_number": 2
    },
    {
     "cell_type": "code",
     "collapsed": false,
     "input": [
      "predict(df.xs(0), ['outlook'], ['overcast'], [True])"
     ],
     "language": "python",
     "metadata": {},
     "outputs": [
      {
       "output_type": "pyout",
       "prompt_number": 3,
       "text": [
        "False"
       ]
      }
     ],
     "prompt_number": 3
    },
    {
     "cell_type": "code",
     "collapsed": false,
     "input": [
      "# recycle function to evaluate a prediction\n",
      "bool_label = df.play.map({'yes': True, 'no':False})\n",
      "\n",
      "def prediction_quality(col_list, val_list, pred_list):\n",
      "    correct = 0\n",
      "    total = 0\n",
      "    \n",
      "    for i in df.index:\n",
      "        # count how many predictions are correct\n",
      "        if predict(df.xs(i), col_list, val_list, pred_list) == bool_label[i]:\n",
      "            correct +=1\n",
      "        \n",
      "        total += 1\n",
      "        \n",
      "    return float(correct) / total"
     ],
     "language": "python",
     "metadata": {},
     "outputs": [],
     "prompt_number": 4
    },
    {
     "cell_type": "code",
     "collapsed": false,
     "input": [
      "prediction_quality(['outlook'], ['sunny'], [False])"
     ],
     "language": "python",
     "metadata": {},
     "outputs": [
      {
       "output_type": "pyout",
       "prompt_number": 5,
       "text": [
        "0.7142857142857143"
       ]
      }
     ],
     "prompt_number": 5
    },
    {
     "cell_type": "code",
     "collapsed": false,
     "input": [
      "prediction_quality(['outlook', 'outlook'], ['overcast', 'sunny'], [True, False])"
     ],
     "language": "python",
     "metadata": {},
     "outputs": [
      {
       "output_type": "pyout",
       "prompt_number": 8,
       "text": [
        "0.7142857142857143"
       ]
      }
     ],
     "prompt_number": 8
    },
    {
     "cell_type": "code",
     "collapsed": false,
     "input": [
      "# search through all prediction rules to find the best one\n",
      "best = dict(quality=-inf)\n",
      "\n",
      "for col1 in ['outlook', 'temperature', 'humidity', 'windy']:\n",
      "    for col2 in ['outlook', 'temperature', 'humidity', 'windy']:\n",
      "        for val1 in set(df[col1]):\n",
      "            for val2 in set(df[col2]):\n",
      "                for pred1 in [True, False]:\n",
      "                    for pred2 in [True, False]:\n",
      "                        col_list = [col1, col2]\n",
      "                        val_list = [val1, val2]\n",
      "                        pred_list = [pred1, pred2]\n",
      "                        \n",
      "                        quality = prediction_quality(col_list, val_list, pred_list)\n",
      "\n",
      "                        if quality >= best['quality']:\n",
      "                            best = dict(quality=quality, \n",
      "                                        col_list=col_list,\n",
      "                                        val_list=val_list,\n",
      "                                        pred_list=pred_list)\n",
      "                \n",
      "print best"
     ],
     "language": "python",
     "metadata": {},
     "outputs": [
      {
       "output_type": "stream",
       "stream": "stdout",
       "text": [
        "{'val_list': [85, 'sunny'], 'pred_list': [True, False], 'quality': 0.8571428571428571, 'col_list': ['humidity', 'outlook']}\n"
       ]
      }
     ],
     "prompt_number": 9
    },
    {
     "cell_type": "code",
     "collapsed": false,
     "input": [
      "# make a pretty decision list from best\n",
      "def print_rule(col, val, pred):\n",
      "    if col == 'outlook':\n",
      "        print 'if %s == %s then play = %s' % (col, val, pred)\n",
      "    else:\n",
      "        print 'if %s < %d then play = %s' % (col, val, pred)\n",
      "        \n",
      "        \n",
      "for col, val, pred in zip(best['col_list'], best['val_list'], best['pred_list']):\n",
      "    print_rule(col, val, pred)\n",
      "print '   (quality = %.2f)'% best['quality']"
     ],
     "language": "python",
     "metadata": {},
     "outputs": [
      {
       "output_type": "stream",
       "stream": "stdout",
       "text": [
        "if humidity < 85 then play = True\n",
        "if outlook == sunny then play = False\n",
        "   (quality = 0.86)\n"
       ]
      }
     ],
     "prompt_number": 12
    },
    {
     "cell_type": "code",
     "collapsed": false,
     "input": [
      "from ipynb_style import clean\n",
      "clean()"
     ],
     "language": "python",
     "metadata": {},
     "outputs": [
      {
       "html": [
        "\n",
        "<style type=\"text/css\">\n",
        "div.input {\n",
        "width: 105ex; /* about 80 chars + buffer */\n",
        "}\n",
        "\n",
        "div.text_cell {\n",
        "width: 105ex /* instead of 100%, */\n",
        "}\n",
        "\n",
        "div.text_cell_render {\n",
        "/*font-family: \"Helvetica Neue\", Arial, Helvetica, Geneva, sans-serif;*/\n",
        "font-family: \"Charis SIL\", serif; /* Make non-code text serif. */\n",
        "line-height: 145%; /* added for some line spacing of text. */\n",
        "width: 105ex; /* instead of 'inherit' for shorter lines */\n",
        "}\n",
        "\n",
        "/* Set the size of the headers */\n",
        "div.text_cell_render h1 {\n",
        "font-size: 18pt;\n",
        "}\n",
        "\n",
        "div.text_cell_render h2 {\n",
        "font-size: 14pt;\n",
        "}\n",
        "\n",
        ".CodeMirror {\n",
        " font-family: Consolas, monospace;\n",
        " }\n",
        "\n",
        ".rendered_html ol {list-style:decimal; margin: 1em 2em;}\n",
        "\n",
        "</style>\n"
       ],
       "output_type": "pyout",
       "prompt_number": 13,
       "text": [
        "<IPython.core.display.HTML at 0x3743250>"
       ]
      }
     ],
     "prompt_number": 13
    },
    {
     "cell_type": "code",
     "collapsed": false,
     "input": [],
     "language": "python",
     "metadata": {},
     "outputs": []
    }
   ],
   "metadata": {}
  }
 ]
}