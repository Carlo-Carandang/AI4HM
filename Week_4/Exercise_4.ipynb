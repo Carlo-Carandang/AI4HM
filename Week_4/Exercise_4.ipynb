{
 "metadata": {
  "name": "",
  "signature": "sha256:ab1104b2fa1e12b973243b87f69f3f9905055f58647ff2aff45c6b86f2bfe065"
 },
 "nbformat": 3,
 "nbformat_minor": 0,
 "worksheets": [
  {
   "cells": [
    {
     "cell_type": "code",
     "collapsed": false,
     "input": [
      "!date\n",
      "import numpy as np, pandas as pd, matplotlib.pyplot as plt, seaborn as sns\n",
      "%matplotlib inline\n",
      "sns.set_context('poster')\n",
      "sns.set_style('darkgrid')"
     ],
     "language": "python",
     "metadata": {},
     "outputs": []
    },
    {
     "cell_type": "code",
     "collapsed": true,
     "input": [
      "# set random seed, for reproducibility\n",
      "np.random.seed(12345)"
     ],
     "language": "python",
     "metadata": {},
     "outputs": []
    },
    {
     "cell_type": "markdown",
     "metadata": {},
     "source": [
      "Load and clean PHMRC VA data:"
     ]
    },
    {
     "cell_type": "code",
     "collapsed": false,
     "input": [
      "df = pd.read_csv('IHME_PHMRC_VA_DATA_ADULT_Y2013M09D11_0.csv')"
     ],
     "language": "python",
     "metadata": {},
     "outputs": []
    },
    {
     "cell_type": "markdown",
     "metadata": {},
     "source": [
      "What do you think we should do about that warning?"
     ]
    },
    {
     "cell_type": "code",
     "collapsed": false,
     "input": [
      "# take a look at what is in the DataFrame"
     ],
     "language": "python",
     "metadata": {},
     "outputs": []
    },
    {
     "cell_type": "code",
     "collapsed": false,
     "input": [
      "# also load codebook (excel doc)\n",
      "cb = pd.read_excel('IHME_PHMRC_VA_DATA_CODEBOOK_Y2013M09D11_0.xlsx')\n",
      "cb"
     ],
     "language": "python",
     "metadata": {},
     "outputs": []
    },
    {
     "cell_type": "markdown",
     "metadata": {},
     "source": [
      "Every column that starts with `a{NUMBER}_stuff` is part of the signs and symptoms reported about an adult death:"
     ]
    },
    {
     "cell_type": "code",
     "collapsed": false,
     "input": [
      "df.filter(regex='a\\d_')"
     ],
     "language": "python",
     "metadata": {},
     "outputs": []
    },
    {
     "cell_type": "markdown",
     "metadata": {},
     "source": [
      "There is also a \"bag of words\" section from the processed results of the free-text response section:"
     ]
    },
    {
     "cell_type": "code",
     "collapsed": false,
     "input": [
      "df.filter(like='word_')"
     ],
     "language": "python",
     "metadata": {},
     "outputs": []
    },
    {
     "cell_type": "markdown",
     "metadata": {},
     "source": [
      "Make the feature vectors, by putting together everything from the adult module, and everything from the free response section."
     ]
    },
    {
     "cell_type": "code",
     "collapsed": true,
     "input": [
      "X = np.hstack((np.array(df.filter(regex='a\\d_')), np.array(df.filter(like='word_'))))"
     ],
     "language": "python",
     "metadata": {},
     "outputs": []
    },
    {
     "cell_type": "markdown",
     "metadata": {},
     "source": [
      "Did I get that right?"
     ]
    },
    {
     "cell_type": "code",
     "collapsed": false,
     "input": [
      "np.array(df.filter(regex='a\\d_')).shape, np.array(df.filter(like='word_')).shape"
     ],
     "language": "python",
     "metadata": {},
     "outputs": []
    },
    {
     "cell_type": "code",
     "collapsed": false,
     "input": [
      "X.shape"
     ],
     "language": "python",
     "metadata": {},
     "outputs": []
    },
    {
     "cell_type": "markdown",
     "metadata": {},
     "source": [
      "Actually, that won't work without more data cleaning, because `sklearn` expects the feature vectors to be numbers, not answers like \"Yes\" and \"Don't know\".\n",
      "\n",
      "So let's just use the open-response text, which has already been processed."
     ]
    },
    {
     "cell_type": "code",
     "collapsed": true,
     "input": [
      "X = np.array(df.filter(like='word_'))"
     ],
     "language": "python",
     "metadata": {},
     "outputs": []
    },
    {
     "cell_type": "markdown",
     "metadata": {},
     "source": [
      "The causes of death appear in the `gs_text34` column (obviously...)"
     ]
    },
    {
     "cell_type": "code",
     "collapsed": false,
     "input": [
      "df.gs_text34"
     ],
     "language": "python",
     "metadata": {},
     "outputs": []
    },
    {
     "cell_type": "markdown",
     "metadata": {},
     "source": [
      "For class purposes, we will simplify the prediction task: was the death due to stroke, diabetes, or something else?"
     ]
    },
    {
     "cell_type": "code",
     "collapsed": false,
     "input": [
      "df['Cause'] = df.gs_text34.map({'Stroke':'Stroke', 'Diabetes':'Diabetes'}).fillna('Other')\n",
      "y = np.array(df.Cause)"
     ],
     "language": "python",
     "metadata": {},
     "outputs": []
    },
    {
     "cell_type": "markdown",
     "metadata": {},
     "source": [
      "Did that work?"
     ]
    },
    {
     "cell_type": "code",
     "collapsed": false,
     "input": [
      "np.unique(y)"
     ],
     "language": "python",
     "metadata": {},
     "outputs": []
    },
    {
     "cell_type": "markdown",
     "metadata": {},
     "source": [
      "Now, let's train one of our (by now) standard classifiers to predict the underlying cause of death from the restricted cause list:"
     ]
    },
    {
     "cell_type": "code",
     "collapsed": false,
     "input": [
      "import sklearn.tree\n",
      "\n",
      "clf = sklearn.tree.DecisionTreeClassifier()\n",
      "clf.fit(X,y)\n",
      "\n",
      "y_pred = clf.predict(X)\n",
      "np.mean(y == y_pred)"
     ],
     "language": "python",
     "metadata": {},
     "outputs": []
    },
    {
     "cell_type": "markdown",
     "metadata": {},
     "source": [
      "Does that look good?  Too good?  If it looks too good to be true, it probably is..."
     ]
    },
    {
     "cell_type": "code",
     "collapsed": false,
     "input": [
      "import sklearn.cross_validation\n",
      "\n",
      "scores = sklearn.cross_validation.cross_val_score(clf, X, y)\n",
      "\n",
      "print scores.mean(), scores.std()"
     ],
     "language": "python",
     "metadata": {},
     "outputs": []
    },
    {
     "cell_type": "code",
     "collapsed": false,
     "input": [
      "sns.distplot(scores, rug=True)"
     ],
     "language": "python",
     "metadata": {},
     "outputs": []
    },
    {
     "cell_type": "markdown",
     "metadata": {},
     "source": [
      "What have we done here?"
     ]
    },
    {
     "cell_type": "code",
     "collapsed": false,
     "input": [
      "help(sklearn.cross_validation.cross_val_score)"
     ],
     "language": "python",
     "metadata": {},
     "outputs": []
    },
    {
     "cell_type": "markdown",
     "metadata": {},
     "source": [
      "If you read through that, you will find out:  we have done stratified K-Fold cross validation with $K = 3$.  In other words, split the data into 3 equal parts (what if it's not divisible by three?) and then use two for training and the third for testing, in all three ways.\n",
      "\n",
      "So how to do 10-fold CV as in the reading?"
     ]
    },
    {
     "cell_type": "code",
     "collapsed": false,
     "input": [
      "%%time\n",
      "\n",
      "n = len(y)\n",
      "cv = sklearn.cross_validation.KFold(___________________________)\n",
      "scores = sklearn.cross_validation.cross_val_score(clf, X, y, cv=cv)\n",
      "\n",
      "print scores.mean(), scores.std()"
     ],
     "language": "python",
     "metadata": {},
     "outputs": []
    },
    {
     "cell_type": "code",
     "collapsed": false,
     "input": [
      "sns.distplot(scores, rug=True)"
     ],
     "language": "python",
     "metadata": {},
     "outputs": []
    },
    {
     "cell_type": "markdown",
     "metadata": {},
     "source": [
      "I think it is important to stratify the sampling, although our book does not make a big deal about that:"
     ]
    },
    {
     "cell_type": "code",
     "collapsed": false,
     "input": [
      "n = len(y)\n",
      "cv = sklearn.cross_validation.StratifiedKFold(n, n_folds=10, shuffle=True)\n",
      "scores = sklearn.cross_validation.cross_val_score(clf, X, y, cv=cv)\n",
      "\n",
      "print scores.mean(), scores.std()"
     ],
     "language": "python",
     "metadata": {},
     "outputs": []
    },
    {
     "cell_type": "markdown",
     "metadata": {},
     "source": [
      "Oops, what did I get wrong here?  Can you fix it?"
     ]
    },
    {
     "cell_type": "code",
     "collapsed": false,
     "input": [
      "cv = sklearn.cross_validation.StratifiedKFold(___________________________)\n",
      "scores = sklearn.cross_validation.cross_val_score(clf, X, y, cv=cv)\n",
      "\n",
      "print scores.mean(), scores.std()"
     ],
     "language": "python",
     "metadata": {},
     "outputs": []
    },
    {
     "cell_type": "code",
     "collapsed": false,
     "input": [
      "sns.distplot(scores, rug=True)"
     ],
     "language": "python",
     "metadata": {},
     "outputs": []
    },
    {
     "cell_type": "markdown",
     "metadata": {},
     "source": [
      "And I don't want you to ever rely on just 10 samples.  How can you do ten repetitions of 10-fold cross validation?"
     ]
    },
    {
     "cell_type": "code",
     "collapsed": false,
     "input": [
      "scores = []\n",
      "for rep in range(10):\n",
      "    print rep,\n",
      "    cv = ________________________________\n",
      "    scores += ________________________________"
     ],
     "language": "python",
     "metadata": {},
     "outputs": []
    },
    {
     "cell_type": "code",
     "collapsed": false,
     "input": [
      "np.mean(scores), np.std(scores)"
     ],
     "language": "python",
     "metadata": {},
     "outputs": []
    },
    {
     "cell_type": "code",
     "collapsed": false,
     "input": [
      "sns.distplot(np.hstack(scores), rug=True)"
     ],
     "language": "python",
     "metadata": {},
     "outputs": []
    },
    {
     "cell_type": "markdown",
     "metadata": {},
     "source": [
      "Although our books make a big deal about K-Fold cross-validation, and we have gone through all of the trouble to understand what it is doing, I am partial to what is sometimes called leave-group-out cross-validation, Monte Carlo cross-validation, or just plain, old cross-validation: split the data into training and test sets randomly a bunch of times.\n",
      "\n",
      "Just to be perverse, in `sklearn` this is called `ShuffleSplit` cross-validation:"
     ]
    },
    {
     "cell_type": "code",
     "collapsed": false,
     "input": [
      "%%time\n",
      "\n",
      "n = len(y)\n",
      "cv = sklearn.cross_validation.ShuffleSplit(________________________________)\n",
      "scores = sklearn.cross_validation.cross_val_score(clf, X, y, cv=cv)\n",
      "\n",
      "print scores.mean(), scores.std()"
     ],
     "language": "python",
     "metadata": {},
     "outputs": []
    },
    {
     "cell_type": "markdown",
     "metadata": {},
     "source": [
      "Of course, you can also do a stratified version of this:"
     ]
    },
    {
     "cell_type": "code",
     "collapsed": false,
     "input": [
      "n = len(y)\n",
      "cv = sklearn.cross_validation.StratifiedShuffleSplit(n, n_iter=10, test_size=.25)\n",
      "scores = sklearn.cross_validation.cross_val_score(clf, X, y, cv=cv)\n",
      "\n",
      "print scores.mean(), scores.std()"
     ],
     "language": "python",
     "metadata": {},
     "outputs": []
    },
    {
     "cell_type": "markdown",
     "metadata": {},
     "source": [
      "Oops, what did I get wrong again?"
     ]
    },
    {
     "cell_type": "code",
     "collapsed": false,
     "input": [
      "cv = sklearn.cross_validation.StratifiedShuffleSplit(________________________________)\n",
      "scores = sklearn.cross_validation.cross_val_score(clf, X, y, cv=cv)\n",
      "\n",
      "print scores.mean(), scores.std()"
     ],
     "language": "python",
     "metadata": {},
     "outputs": []
    },
    {
     "cell_type": "markdown",
     "metadata": {},
     "source": [
      "One last way to do cross-validation, which (in my humble opinion) was not emphasized sufficiently in the reading: split based on what you are actually interested in.  In the case of VA, I am very interested in how the approach will generalize to other parts of the world.  So I could hold-out based on site:"
     ]
    },
    {
     "cell_type": "code",
     "collapsed": false,
     "input": [
      "df.site.value_counts()"
     ],
     "language": "python",
     "metadata": {},
     "outputs": []
    },
    {
     "cell_type": "code",
     "collapsed": false,
     "input": [
      "cv = sklearn.cross_validation.LeaveOneLabelOut(df.site)\n",
      "scores = sklearn.cross_validation.cross_val_score(clf, X, y, cv=cv)\n",
      "\n",
      "print scores.mean(), scores.std()"
     ],
     "language": "python",
     "metadata": {},
     "outputs": []
    },
    {
     "cell_type": "markdown",
     "metadata": {},
     "source": [
      "There is also a version that holds out $P$ labels, and lets you choose $P$:"
     ]
    },
    {
     "cell_type": "code",
     "collapsed": false,
     "input": [
      "cv = sklearn.cross_validation.LeavePLabelOut(df.site, p=2)\n",
      "scores = sklearn.cross_validation.cross_val_score(clf, X, y, cv=cv)\n",
      "\n",
      "print scores.mean(), scores.std()"
     ],
     "language": "python",
     "metadata": {},
     "outputs": []
    },
    {
     "cell_type": "markdown",
     "metadata": {},
     "source": [
      "What did I not mention that whole time?  Leave-one-out cross-validation.  That is because it takes forever."
     ]
    },
    {
     "cell_type": "code",
     "collapsed": false,
     "input": [
      "%%time\n",
      "\n",
      "n = len(y)\n",
      "cv = sklearn.cross_validation.LeaveOneOut(n)\n",
      "scores = sklearn.cross_validation.cross_val_score(clf, X, y, cv=cv)\n",
      "\n",
      "print scores.mean(), scores.std()"
     ],
     "language": "python",
     "metadata": {},
     "outputs": []
    },
    {
     "cell_type": "markdown",
     "metadata": {},
     "source": [
      "Let's return to the stratified, repeated, 10-fold cross-validation approach:"
     ]
    },
    {
     "cell_type": "code",
     "collapsed": false,
     "input": [
      "%%time\n",
      "\n",
      "scores = []\n",
      "for rep in range(10):\n",
      "    print rep,\n",
      "    cv = sklearn.cross_validation.StratifiedKFold(y, n_folds=10, shuffle=True)\n",
      "    scores += [sklearn.cross_validation.cross_val_score(clf, X, y, cv=cv)]\n",
      "    \n",
      "print"
     ],
     "language": "python",
     "metadata": {},
     "outputs": []
    },
    {
     "cell_type": "code",
     "collapsed": false,
     "input": [
      "np.mean(scores), np.std(scores)"
     ],
     "language": "python",
     "metadata": {},
     "outputs": []
    },
    {
     "cell_type": "markdown",
     "metadata": {},
     "source": [
      "Sure, we can have a couple of minutes of break-time running this thing, but how do you think this is actually doing?  Last week, we used a random prediction method as a baseline, and that is reasonable, but this week let's use something even simpler.  Predicting a single class:"
     ]
    },
    {
     "cell_type": "code",
     "collapsed": false,
     "input": [
      "y_single = 'Diabetes'\n",
      "np.mean(y == y_single)"
     ],
     "language": "python",
     "metadata": {},
     "outputs": []
    },
    {
     "cell_type": "code",
     "collapsed": false,
     "input": [
      "y_single = 'Stroke'\n",
      "np.mean(y == y_single)"
     ],
     "language": "python",
     "metadata": {},
     "outputs": []
    },
    {
     "cell_type": "code",
     "collapsed": false,
     "input": [
      "y_single = 'Other'\n",
      "np.mean(y == y_single)"
     ],
     "language": "python",
     "metadata": {},
     "outputs": []
    },
    {
     "cell_type": "markdown",
     "metadata": {},
     "source": [
      "Uh, oh...  we don't need any fancy classifiers to get 80% accuracy, and we don't need to wait around for five minutes to see how well that fancy classifier does.  We could just say \"other\" and call it a day.  To be a really fair (yet still damning) comparison, let's make a stratified, repeated 10-fold cross-validation of the baseline classifier that always says \"other\".\n",
      "\n",
      "To do so, it will help you to know how to use a `sklearn.cross_validation` object a little bit more:"
     ]
    },
    {
     "cell_type": "code",
     "collapsed": false,
     "input": [
      "cv = sklearn.cross_validation.KFold(10, n_folds=3, shuffle=False)\n",
      "for train, test in cv:\n",
      "    print train, test"
     ],
     "language": "python",
     "metadata": {},
     "outputs": []
    },
    {
     "cell_type": "markdown",
     "metadata": {},
     "source": [
      "We can use that to make a fair comparison of the decision tree to the baseline classifier that always predicts \"Other\":"
     ]
    },
    {
     "cell_type": "code",
     "collapsed": false,
     "input": [
      "scores = []\n",
      "for rep in range(10):\n",
      "    cv = sklearn.cross_validation.StratifiedKFold(y, n_folds=10, shuffle=True)\n",
      "    for train, test in cv:\n",
      "        scores.append(________________________________)\n",
      "np.mean(scores)"
     ],
     "language": "python",
     "metadata": {},
     "outputs": []
    },
    {
     "cell_type": "markdown",
     "metadata": {},
     "source": [
      "To make this really, really fair, we should use the same random splits in each experiment..."
     ]
    },
    {
     "cell_type": "code",
     "collapsed": false,
     "input": [
      "%%time\n",
      "\n",
      "scores = []\n",
      "for rep in range(10):\n",
      "    print rep,\n",
      "    cv = sklearn.cross_validation.StratifiedKFold(y, n_folds=10, shuffle=True, random_state=________________________________)\n",
      "    scores += [sklearn.cross_validation.cross_val_score(clf, X, y, cv=cv)]\n",
      "    \n",
      "print\n",
      "print np.mean(scores)"
     ],
     "language": "python",
     "metadata": {},
     "outputs": []
    },
    {
     "cell_type": "code",
     "collapsed": false,
     "input": [
      "scores = []\n",
      "for rep in range(10):\n",
      "    cv = sklearn.cross_validation.StratifiedKFold(y, n_folds=10, shuffle=True, random_state=________________________________)\n",
      "    for train, test in cv:\n",
      "        scores.append(np.mean(y[test] == 'Other'))\n",
      "np.mean(scores)"
     ],
     "language": "python",
     "metadata": {},
     "outputs": []
    },
    {
     "cell_type": "markdown",
     "metadata": {},
     "source": [
      "But that is just practicing \"defensive research\", to prepare for the pickiest of critics...\n",
      "\n",
      "What we really need to be thinking about now is what was called \"cost-sensitive learning\" in the Data Mining book."
     ]
    },
    {
     "cell_type": "code",
     "collapsed": false,
     "input": [
      "df.Cause.value_counts()"
     ],
     "language": "python",
     "metadata": {},
     "outputs": []
    },
    {
     "cell_type": "markdown",
     "metadata": {},
     "source": [
      "Make weights for examples proportional to inverse of counts:"
     ]
    },
    {
     "cell_type": "code",
     "collapsed": false,
     "input": [
      "weights = 1000. / df.Cause.value_counts()\n",
      "weights"
     ],
     "language": "python",
     "metadata": {},
     "outputs": []
    },
    {
     "cell_type": "code",
     "collapsed": true,
     "input": [
      "sample_weight = np.array(weights[y])"
     ],
     "language": "python",
     "metadata": {},
     "outputs": []
    },
    {
     "cell_type": "markdown",
     "metadata": {},
     "source": [
      "What is in `sample_weights`?"
     ]
    },
    {
     "cell_type": "code",
     "collapsed": false,
     "input": [
      "import sklearn.metrics\n",
      "y_pred = ['Other' for i in range(len(y))]\n",
      "sklearn.metrics.accuracy_score(y, y_pred, sample_weight=sample_weight)"
     ],
     "language": "python",
     "metadata": {},
     "outputs": []
    },
    {
     "cell_type": "markdown",
     "metadata": {},
     "source": [
      "Is that what you expected?\n",
      "\n",
      "This is a better metric for our classification challenge, and we should use it when building the classifier and when measuring its performance:"
     ]
    },
    {
     "cell_type": "code",
     "collapsed": false,
     "input": [
      "%%time\n",
      "\n",
      "scores = []\n",
      "for rep in range(10):\n",
      "    print rep,\n",
      "    cv = sklearn.cross_validation.StratifiedKFold(y, n_folds=10, shuffle=True, random_state=123456+rep)\n",
      "    for train, test in cv:\n",
      "        clf = sklearn.tree.DecisionTreeClassifier()\n",
      "        clf.fit(X[train], y[train], sample_weight=________________________________)\n",
      "\n",
      "        y_pred = clf.predict(X[test])\n",
      "        scores.append(sklearn.metrics.accuracy_score(y[test], y_pred, sample_weight=________________________________))\n",
      "                   \n",
      "print\n",
      "print np.mean(scores)"
     ],
     "language": "python",
     "metadata": {},
     "outputs": []
    },
    {
     "cell_type": "code",
     "collapsed": false,
     "input": [
      "scores = []\n",
      "for rep in range(10):\n",
      "    cv = sklearn.cross_validation.StratifiedKFold(y, n_folds=10, shuffle=True, random_state=123456+rep)\n",
      "    for train, test in cv:\n",
      "        y_pred = ['Other' for i in range(len(test))]\n",
      "        scores.append(sklearn.metrics.accuracy_score(y[test], y_pred, sample_weight=________________________________))\n",
      "np.mean(scores)"
     ],
     "language": "python",
     "metadata": {},
     "outputs": []
    },
    {
     "cell_type": "markdown",
     "metadata": {},
     "source": [
      "The moral is: ML methods can do something, but you have to be careful about it!\n",
      "\n",
      "This relates to a subtle point, that I think may be somewhat unique to population health metrics, where we are interested in the population-level mean of the predictions more than the individual-level predictions themselves.  I will see how far we make it through this exercise and decide if we have time to really dig into it.\n",
      "\n",
      "In short, the percent of test set examples with underlying cause Diabetes is equal to the percent of the training set with this underlying cause.  So it is not really out-of-sample, even though the actual examples are completely disjoint."
     ]
    },
    {
     "cell_type": "code",
     "collapsed": false,
     "input": [
      "def csmf_accuracy(y_true, y_pred):\n",
      "    csmf_diff = 0\n",
      "    csmf_true_min = 1.\n",
      "    for j in ['Stroke', 'Diabetes', 'Other']:\n",
      "        csmf_true_j = np.mean(np.array(y_true) == j)\n",
      "        csmf_pred_j = np.mean(np.array(y_pred) == j)\n",
      "        csmf_diff += np.abs(csmf_true_j - csmf_pred_j)\n",
      "        \n",
      "        if csmf_true_j < csmf_true_min:\n",
      "            csmf_true_min = csmf_true_j\n",
      "        #print csmf_true_j, csmf_pred_j, csmf_diff, csmf_true_min\n",
      "    return 1 - csmf_diff / (2 * (1 - csmf_true_min))\n",
      "\n",
      "\n",
      "# test this function\n",
      "y_true = ['Stroke', 'Diabetes', 'Other']\n",
      "y_pred = ['Diabetes', 'Other', 'Stroke']\n",
      "assert np.allclose(csmf_accuracy(y_true, y_pred), 1)\n",
      "\n",
      "y_true = ['Stroke', 'Stroke', 'Stroke']\n",
      "y_pred = ['Diabetes', 'Other', 'Diabetes']\n",
      "assert np.allclose(csmf_accuracy(y_true, y_pred), 0)"
     ],
     "language": "python",
     "metadata": {},
     "outputs": []
    },
    {
     "cell_type": "markdown",
     "metadata": {},
     "source": [
      "The baseline predictor is pretty good:"
     ]
    },
    {
     "cell_type": "code",
     "collapsed": false,
     "input": [
      "scores = []\n",
      "for rep in range(10):\n",
      "    cv = sklearn.cross_validation.StratifiedKFold(y, n_folds=10, shuffle=True, random_state=123456+rep)\n",
      "    for train, test in cv:\n",
      "        y_pred = ['Other' for i in range(len(test))]\n",
      "        scores.append(csmf_accuracy(y[test], y_pred))\n",
      "np.mean(scores)"
     ],
     "language": "python",
     "metadata": {},
     "outputs": []
    },
    {
     "cell_type": "markdown",
     "metadata": {},
     "source": [
      "But because the validation environment is leaking information, a different silly predictor is even better.  I call this \"Random-From-Train\":"
     ]
    },
    {
     "cell_type": "code",
     "collapsed": false,
     "input": [
      "scores = []\n",
      "for rep in range(10):\n",
      "    cv = sklearn.cross_validation.StratifiedKFold(y, n_folds=10, shuffle=True, random_state=123456+rep)\n",
      "    for train, test in cv:\n",
      "        y_pred = np.random.choice(y[train], size=len(test), replace=True)\n",
      "        scores.append(csmf_accuracy(y[test], y_pred))\n",
      "np.mean(scores)"
     ],
     "language": "python",
     "metadata": {},
     "outputs": []
    },
    {
     "cell_type": "markdown",
     "metadata": {},
     "source": [
      "To fix it, you must resample the cause distribution of the test dataset.  Super-hard extra bonus homework: figure out how to do this."
     ]
    },
    {
     "cell_type": "code",
     "collapsed": true,
     "input": [],
     "language": "python",
     "metadata": {},
     "outputs": []
    },
    {
     "cell_type": "markdown",
     "metadata": {},
     "source": [
      "Did I promise a little more for this week in the syllabus?\n",
      "\n",
      "Probability prediction:"
     ]
    },
    {
     "cell_type": "code",
     "collapsed": false,
     "input": [
      "clf.predict_proba(X[test[:10]])"
     ],
     "language": "python",
     "metadata": {},
     "outputs": []
    },
    {
     "cell_type": "markdown",
     "metadata": {},
     "source": [
      "Maybe more convincing with Naive Bayes:"
     ]
    },
    {
     "cell_type": "code",
     "collapsed": true,
     "input": [
      "import sklearn.naive_bayes"
     ],
     "language": "python",
     "metadata": {},
     "outputs": []
    },
    {
     "cell_type": "code",
     "collapsed": false,
     "input": [
      "clf = sklearn.naive_bayes.MultinomialNB()\n",
      "clf.fit(X[train], y[train], )"
     ],
     "language": "python",
     "metadata": {},
     "outputs": []
    },
    {
     "cell_type": "code",
     "collapsed": false,
     "input": [
      "clf.predict_proba(X[test[:10]])"
     ],
     "language": "python",
     "metadata": {},
     "outputs": []
    },
    {
     "cell_type": "markdown",
     "metadata": {},
     "source": [
      "Use `np.round` to make this look nicer:"
     ]
    },
    {
     "cell_type": "code",
     "collapsed": false,
     "input": [
      "np.round(________________________________, 2)"
     ],
     "language": "python",
     "metadata": {},
     "outputs": []
    },
    {
     "cell_type": "markdown",
     "metadata": {},
     "source": [
      "It is a bit hard to understand those probabilities.  What do they mean?"
     ]
    },
    {
     "cell_type": "code",
     "collapsed": false,
     "input": [
      "y[test[:10]]"
     ],
     "language": "python",
     "metadata": {},
     "outputs": []
    },
    {
     "cell_type": "markdown",
     "metadata": {},
     "source": [
      "Let us hope that the middle column is the probability of 'Other'.  The column names must be stored in the `clf` instance somewhere:"
     ]
    },
    {
     "cell_type": "code",
     "collapsed": false,
     "input": [
      "clf.classes_"
     ],
     "language": "python",
     "metadata": {},
     "outputs": []
    },
    {
     "cell_type": "markdown",
     "metadata": {},
     "source": [
      "Make that into a pretty DataFrame"
     ]
    },
    {
     "cell_type": "code",
     "collapsed": true,
     "input": [
      "pd.DataFrame(clf.predict_proba(X[test[:10]]), columns=________________________________)"
     ],
     "language": "python",
     "metadata": {},
     "outputs": []
    },
    {
     "cell_type": "markdown",
     "metadata": {},
     "source": [
      "And what about numeric prediction?  I'll give us a little something to show the mechanics, although it is a weird example.  Can you figure out what `g1_07a` is?  Hint: remember that `cb` is the codebook."
     ]
    },
    {
     "cell_type": "code",
     "collapsed": false,
     "input": [
      "def float_or_100(x):\n",
      "    try:\n",
      "        return float(x)\n",
      "    except:\n",
      "        return 100.\n",
      "    \n",
      "y = np.array(df.g1_07a.map(float_or_100))"
     ],
     "language": "python",
     "metadata": {},
     "outputs": []
    },
    {
     "cell_type": "markdown",
     "metadata": {},
     "source": [
      "Here is some MSE cross-validation:"
     ]
    },
    {
     "cell_type": "code",
     "collapsed": false,
     "input": [
      "scores = []\n",
      "cv = sklearn.cross_validation.StratifiedKFold(y, n_folds=10, shuffle=True, random_state=123456)\n",
      "\n",
      "for train, test in cv:\n",
      "    clf = sklearn.tree.DecisionTreeRegressor()\n",
      "    clf.fit(X[train], y[train])\n",
      "\n",
      "    y_pred = clf.predict(X[test])\n",
      "    scores.append(sklearn.metrics.mean_squared_error(y[test], y_pred))\n",
      "                   \n",
      "print\n",
      "print np.mean(scores)"
     ],
     "language": "python",
     "metadata": {},
     "outputs": []
    },
    {
     "cell_type": "markdown",
     "metadata": {},
     "source": [
      "I prefer root mean squared error, myself.  I find it more interpretable:"
     ]
    },
    {
     "cell_type": "code",
     "collapsed": false,
     "input": [
      "np.mean(_______________________)"
     ],
     "language": "python",
     "metadata": {},
     "outputs": []
    },
    {
     "cell_type": "markdown",
     "metadata": {},
     "source": [
      "There is also a mean absolute error in `sklearn`.  "
     ]
    },
    {
     "cell_type": "code",
     "collapsed": false,
     "input": [
      "sklearn.metrics.mean_absolute_error"
     ],
     "language": "python",
     "metadata": {},
     "outputs": []
    },
    {
     "cell_type": "markdown",
     "metadata": {},
     "source": [
      "Can you make a custom error function that doesn't charge for the missing values we clipped to 100?"
     ]
    },
    {
     "cell_type": "code",
     "collapsed": true,
     "input": [
      "def rmse_when_not_100(a, b):\n",
      "    diff = a-b\n",
      "    rows = _______________________\n",
      "    return np.sqrt(np.mean(diff[rows]**2))"
     ],
     "language": "python",
     "metadata": {},
     "outputs": []
    },
    {
     "cell_type": "code",
     "collapsed": false,
     "input": [
      "cv = sklearn.cross_validation.StratifiedKFold(y, n_folds=10, shuffle=True, random_state=123456)\n",
      "\n",
      "for train, test in cv:\n",
      "    clf = sklearn.tree.DecisionTreeRegressor()\n",
      "    clf.fit(X[train], y[train], sample_weight=sample_weight[train])\n",
      "\n",
      "    y_pred = clf.predict(X[test])\n",
      "    scores.append(rmse_when_not_100(y[test], y_pred))\n",
      "                   \n",
      "print\n",
      "print np.mean(scores)"
     ],
     "language": "python",
     "metadata": {},
     "outputs": []
    },
    {
     "cell_type": "markdown",
     "metadata": {},
     "source": [
      "Is this any good?  How can you tell?"
     ]
    },
    {
     "cell_type": "code",
     "collapsed": true,
     "input": [],
     "language": "python",
     "metadata": {},
     "outputs": []
    }
   ],
   "metadata": {}
  }
 ]
}