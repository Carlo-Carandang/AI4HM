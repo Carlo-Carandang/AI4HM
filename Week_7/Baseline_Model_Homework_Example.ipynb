{
 "metadata": {
  "name": "",
  "signature": "sha256:a8872d470938facc803d38a74e23a6e050be7ad721eb681dd302966a96a4ad91"
 },
 "nbformat": 3,
 "nbformat_minor": 0,
 "worksheets": [
  {
   "cells": [
    {
     "cell_type": "code",
     "collapsed": false,
     "input": [
      "import numpy as np, pandas as pd, matplotlib.pyplot as plt, seaborn as sns\n",
      "%matplotlib inline\n",
      "sns.set_context('poster')\n",
      "sns.set_style('darkgrid')"
     ],
     "language": "python",
     "metadata": {},
     "outputs": [],
     "prompt_number": 24
    },
    {
     "cell_type": "markdown",
     "metadata": {},
     "source": [
      "# Baseline Model Notebook\n",
      "\n",
      "Name: Abraham D. Flaxman\n",
      "\n",
      "Date: 2/17/2015\n",
      "\n",
      "## A Brief Recap of the Data (which may have changed since last week...)\n",
      "\n",
      "Text from Biostats and Global Health Metrics compentencies, the SPH compentencies for degrees website (https://sph.washington.edu/prospective/programs/competencies.asp)\n",
      "\n",
      "## A Brief Description of the Baseline Model\n",
      "\n",
      "I will start with penalized logistic regression, with an L2 penalty, and explore a range of $C$ values.\n",
      "\n",
      "## A Brief Description of the Metric(s) of Success\n",
      "\n",
      "Accuracy of predictions of whether a compentency is for biostats or GHM.\n",
      "\n",
      "## A Brief Description of how to measure the performance of the baseline model\n",
      "\n",
      "I will use accuracy (out-of-sample, of course), with a 10-fold cross-validation (1 replicate, for now, to keep things relatively speedy).  When I find the best $C$ value, I will have a look at the corresponding $\\beta$ values for the whole dataset, and see if they are interesting.\n",
      "\n",
      "# Now to try it out"
     ]
    },
    {
     "cell_type": "code",
     "collapsed": false,
     "input": [
      "corpus_biostats = []\n",
      "label_biostats = []\n",
      "\n",
      "# Biostatistics competencies for all MPH Students\n",
      "\n",
      "for txt in \"\"\"Select and interpret appropriate graphical displays and numerical summaries for both quantitative and categorical data.\n",
      "Explain the logic and interpret the results of statistical hypothesis tests and confidence intervals.\n",
      "Select appropriate measures of association of nominal and continuous variables.\n",
      "Select appropriate methods for statistical inference to compare one group to a standard, or two or more groups to each other.\n",
      "Develop or evaluate a statistical analysis plan to address the major research questions of a public health or biomedical study based on the data collected and the design of the study.\n",
      "Explain the roles of sample size, power, and precision in standard study designs.\"\"\".split('\\n'):\n",
      "    corpus_biostats.append(txt)\n",
      "    label_biostats.append('Biostats')\n",
      "\n",
      "# Upon satisfactory completion of the MPH in Biostatistics, graduates will be able to:\n",
      "\n",
      "for txt in \"\"\"Meet the generic SPH learning objectives for the MPH degree;\n",
      "Meet the Core-Specific Learning Objectives for all MPH students;\n",
      "Select and interpret appropriate graphical displays and numerical summaries for both quantitative and categorical data;\n",
      "Explain the logic and interpret the results of statistical hypothesis tests and confidence intervals;\n",
      "Select appropriate methods for statistical inference to compare one group to a standard, or two or more groups to each other;\n",
      "Use appropriate statistical techniques to perform multiple comparisons, to account for confounding or to gain precision;\n",
      "Use appropriate regression analysis techniques for continuous, binary, count and censored-time-to-event outcomes to analyze independent data from medical and other public health studies;\n",
      "Explain different modeling strategies employed in regression analysis, depending on whether the purpose of the analysis is to develop a predictive model or to make adjusted comparisons;\n",
      "Develop or evaluate a statistical analysis plan to address the major research questions of a biomedical study based on the data collected and the design of the study;\n",
      "Determine the sample size needed for a study; and\n",
      "Communicate the aims and results of regression analyses of continuous, binary, count and censored-time-to-event outcomes, to an audience of non-statistician collaborators, including a full interpretation of relevant parameter estimates.\"\"\".split('\\n'):\n",
      "    corpus_biostats.append(txt)\n",
      "    label_biostats.append('Biostats')\n"
     ],
     "language": "python",
     "metadata": {},
     "outputs": [],
     "prompt_number": 2
    },
    {
     "cell_type": "code",
     "collapsed": false,
     "input": [
      "corpus_hme = []\n",
      "label_hme = []\n",
      "\n",
      "# Upon satisfactory completion of the MPH in Global Health, HME track, graduates will be able to:\n",
      "\n",
      "for txt in \"\"\"Meet the generic SPH learning objectives for the MPH degree;\n",
      "Meet the Core-Specific Learning Objectives for all MPH students;\n",
      "Meet the generic learning objectives of the DGH core curriculum:\n",
      "Describe the most commoncauses of morbidity and mortality globally, both communicable and non-communicable, among newborns, children, adolescents, women, and men and apply this knowledge in the design, implementation, or evaluation of health services or programs;\n",
      "Describe the major components ofhealth information systems (e.g., surveillance, national registries, surveys, administrative data) and some of the uses, challenges and limitations of gathering and using health statistics;\n",
      "Analyze the role of leading factors, institutions and policy frameworks in shaping the organization and governance of international health since the mid-20th century;\n",
      "Analyze how historical, political, and economic factors have and are shaping, maintaining and reforming health and health care systems;\n",
      "Apply scientific methods to plan, scale up and/or evaluate interventions to improve determinants of health and health systems;\n",
      "Discuss the major causes of disease burden, the pattern and variability in health issues around the globe, as well as think critically about the magnitude and complex nature of global health challenges and ways to address them;\n",
      "Identify and describe the world's most significant diseases, injuries and risk factors, including their causes, symptoms, treatment, prevention, and associated risk factors;\n",
      "Elaborate on specific topics such as: defining and quantifying health, measuring mortality and trends in adult and child mortality, diseases and risk factors in populations, the epidemiological transition, health inequalities, framework for health systems performance assessment, financing of health care;\n",
      "Compare and contrast the health status of different populations with respect to their disease burden, epidemics, human resources for health, organization and quality of health care delivery, health reforms;\n",
      "Describe the rationale, conceptual and historical basis of population health measurement;\n",
      "Critically examine different measures of population health and health system performance;\n",
      "Compare and contrast the main sources of information on population health and health system performance;\n",
      "Apply and develop statistical methods and analytic techniques;\n",
      "Demonstrate proficiency in at least two statistical packages, e.g. STATA, R, etc.;\n",
      "Demonstrate proficiency in analyzing large survey datasets and compute quantities of interest while taking into consideration complex sampling frames;\n",
      "Exhibit knowledge and technical acumen of a number of statistical models including, but not limited to: linear regression, logic and profit models, count models, hierarchical models;\n",
      "Calculate and interpret important health statistics such as disease incidence and prevalence, maternal mortality rates and ratios, disability\u2010adjusted life years, attributable burden, and avoidable risk;\n",
      "Analyze systematically the evidence presented in published research on global health problems, potential solutions, system barriers and political/economic dimensions, using appropriate techniques and methods;\n",
      "Describe and explain the use of health metrics in health policy, planning and priority setting;\n",
      "State and interpret the concepts and steps in designing impact evaluation studies;\n",
      "Describe and critique select high\u2010profiled impact evaluation studies in global health;\n",
      "Apply appropriate methods to control for confounding in evaluation studies;\n",
      "Demonstrate ability to implement statistical methods used in evaluation studies including various types of matching, instrumental variables and panel regression;\n",
      "Distinguish between the various types of evaluation studies and recognize the circumstances that they should be used in;\n",
      "Describe the key steps in survey design, list the main types of surveys and distinguish the advantages and disadvantages of each one. Categorize the bias present in available data sources for evaluation studies and demonstrate ability to correct for it using statistical techniques;\n",
      "Demonstrate ability to communicate effectively in oral and written format, and to lay and professional audiences;\n",
      "Use appropriately on\u2010line resources to perform comprehensive literature reviews;\n",
      "Demonstrate ability to organize and construct grant proposals and scientific papers; and\n",
      "Critique journal articles.\"\"\".split('\\n'):\n",
      "    corpus_hme.append(txt)\n",
      "    label_hme.append('GH-HME')\n"
     ],
     "language": "python",
     "metadata": {},
     "outputs": [],
     "prompt_number": 3
    },
    {
     "cell_type": "code",
     "collapsed": false,
     "input": [
      "import sklearn.feature_extraction\n",
      "vectorizer = sklearn.feature_extraction.text.CountVectorizer(min_df=1)"
     ],
     "language": "python",
     "metadata": {},
     "outputs": [],
     "prompt_number": 4
    },
    {
     "cell_type": "code",
     "collapsed": false,
     "input": [
      "X = vectorizer.fit_transform(corpus_hme + corpus_biostats)"
     ],
     "language": "python",
     "metadata": {},
     "outputs": [],
     "prompt_number": 5
    },
    {
     "cell_type": "code",
     "collapsed": false,
     "input": [
      "y = np.array(label_hme + label_biostats)"
     ],
     "language": "python",
     "metadata": {},
     "outputs": [],
     "prompt_number": 17
    },
    {
     "cell_type": "code",
     "collapsed": false,
     "input": [
      "import sklearn.linear_model"
     ],
     "language": "python",
     "metadata": {},
     "outputs": [],
     "prompt_number": 18
    },
    {
     "cell_type": "markdown",
     "metadata": {},
     "source": [
      "Try it out with an arbitrary value of C:"
     ]
    },
    {
     "cell_type": "code",
     "collapsed": false,
     "input": [
      "clf = sklearn.linear_model.LogisticRegression(penalty='l2', C=10)\n",
      "clf.fit(X, y)\n",
      "\n",
      "for i in np.where(clf.coef_ > .5)[1]:\n",
      "    print vectorizer.get_feature_names()[i],\n",
      "    \n",
      "print\n",
      "print\n",
      "for i in np.where(clf.coef_ < -.5)[1]:\n",
      "    print vectorizer.get_feature_names()[i],\n",
      "    "
     ],
     "language": "python",
     "metadata": {},
     "outputs": [
      {
       "output_type": "stream",
       "stream": "stdout",
       "text": [
        "apply articles critique curriculum demonstrate describe dgh evaluation health in journal methods models studies\n",
        "\n",
        "analysis appropriate confidence continuous data explain for hypothesis interpret intervals or precision results sample select size study tests\n"
       ]
      }
     ],
     "prompt_number": 29
    },
    {
     "cell_type": "code",
     "collapsed": false,
     "input": [
      "import sklearn.cross_validation, pandas as pd"
     ],
     "language": "python",
     "metadata": {},
     "outputs": [],
     "prompt_number": 30
    },
    {
     "cell_type": "code",
     "collapsed": false,
     "input": [
      "C_list = [.01, .1, 1., 10., 100.]\n",
      "\n",
      "scores = {}\n",
      "for C in C_list:\n",
      "    scores[C] = []\n",
      "    \n",
      "cv = sklearn.cross_validation.StratifiedKFold(y, n_folds=10)\n",
      "for train, test in cv:\n",
      "    for C in C_list:\n",
      "        clf = sklearn.linear_model.LogisticRegression(penalty='l2', C=C)\n",
      "        clf.fit(X[train], y[train])\n",
      "        \n",
      "        y_pred = clf.predict(X[test])\n",
      "        scores[C].append(np.mean(y_pred == y[test]))\n",
      "\n",
      "pd.DataFrame(scores).mean()"
     ],
     "language": "python",
     "metadata": {},
     "outputs": [
      {
       "metadata": {},
       "output_type": "pyout",
       "prompt_number": 31,
       "text": [
        "0.01      0.640000\n",
        "0.10      0.721667\n",
        "1.00      0.848333\n",
        "10.00     0.848333\n",
        "100.00    0.848333\n",
        "dtype: float64"
       ]
      }
     ],
     "prompt_number": 31
    },
    {
     "cell_type": "code",
     "collapsed": false,
     "input": [
      "clf = sklearn.linear_model.LogisticRegression(penalty='l2', C=1)\n",
      "clf.fit(X, y)\n",
      "\n",
      "for i in np.where(clf.coef_ > .1)[1]:\n",
      "    print vectorizer.get_feature_names()[i],\n",
      "    \n",
      "print\n",
      "print\n",
      "for i in np.where(clf.coef_ < -.1)[1]:\n",
      "    print vectorizer.get_feature_names()[i],\n"
     ],
     "language": "python",
     "metadata": {},
     "outputs": [
      {
       "output_type": "stream",
       "stream": "stdout",
       "text": [
        "ability analytic and apply appropriately articles at comprehensive control core critique curriculum demonstrate describe dgh distinguish etc evaluation factors generic health historical impact in journal knowledge learning least line literature meet methods models objectives packages performance population proficiency resources reviews risk scientific stata steps studies system systems types used using various\n",
        "\n",
        "analysis appropriate association binary both categorical censored comparisons confidence continuous count data designs determine displays event explain for from graphical hypothesis independent interpret intervals logic measures medical needed nominal numerical of or other outcomes power precision public quantitative regression results "
       ]
      },
      {
       "output_type": "stream",
       "stream": "stdout",
       "text": [
        "roles sample select size standard statistical study summaries tests the time to variables\n"
       ]
      }
     ],
     "prompt_number": 35
    },
    {
     "cell_type": "markdown",
     "metadata": {},
     "source": [
      "## How did it do?\n",
      "\n",
      "Not perfect, but not hopeless...  some of the words do make sense, but a lot of them should have been considered \"stop words\" and ignored.  85% correct is pretty good, actually, and I'm not sure much better is possible.\n",
      "\n",
      "## What are the most promising directions to explore next?\n",
      "\n",
      "Data cleaning: by using different options in the vectorizer I can get results that I like better\n",
      "Non-linear models: kernalized SVMs can explore all interactions, but will not be easily interpretable; decision trees might give some more interesting balance."
     ]
    },
    {
     "cell_type": "code",
     "collapsed": false,
     "input": [],
     "language": "python",
     "metadata": {},
     "outputs": []
    }
   ],
   "metadata": {}
  }
 ]
}