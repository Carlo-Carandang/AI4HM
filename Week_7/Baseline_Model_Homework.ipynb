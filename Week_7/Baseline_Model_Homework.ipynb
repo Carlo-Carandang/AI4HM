{
 "metadata": {
  "name": "",
  "signature": "sha256:c3d1e2d3c1ee335a16042002028180f73eb2537cf8e57d375dd27482d1276a98"
 },
 "nbformat": 3,
 "nbformat_minor": 0,
 "worksheets": [
  {
   "cells": [
    {
     "cell_type": "code",
     "collapsed": false,
     "input": [
      "import numpy as np, pandas as pd, matplotlib.pyplot as plt, seaborn as sns\n",
      "%matplotlib inline\n",
      "sns.set_context('poster')\n",
      "sns.set_style('darkgrid')"
     ],
     "language": "python",
     "metadata": {},
     "outputs": [],
     "prompt_number": 1
    },
    {
     "cell_type": "markdown",
     "metadata": {},
     "source": [
      "# Baseline Model Notebook\n",
      "\n",
      "Name:\n",
      "\n",
      "Date:\n",
      "\n",
      "## A Brief Recap of the Data (which may have changed since last week...)\n",
      "\n",
      "## A Brief Description of the Baseline Model\n",
      "\n",
      "## A Brief Description of the Metric(s) of Success\n",
      "\n",
      "## A Brief Description of how to measure the performance of the baseline model\n",
      "\n",
      "# Now to try it out"
     ]
    },
    {
     "cell_type": "code",
     "collapsed": false,
     "input": [
      "__________________________________"
     ],
     "language": "python",
     "metadata": {},
     "outputs": []
    },
    {
     "cell_type": "markdown",
     "metadata": {},
     "source": [
      "## How did it do?\n",
      "\n",
      "## What are the most promising directions to explore next?\n"
     ]
    },
    {
     "cell_type": "code",
     "collapsed": false,
     "input": [],
     "language": "python",
     "metadata": {},
     "outputs": []
    }
   ],
   "metadata": {}
  }
 ]
}