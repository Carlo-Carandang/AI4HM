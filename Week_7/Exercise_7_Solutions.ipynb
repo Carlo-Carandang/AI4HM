{
 "metadata": {
  "name": "",
  "signature": "sha256:4d4e0e606a6e1a726cdedbcfcf1b2e4f9cf343025998785ef68716448ab91a33"
 },
 "nbformat": 3,
 "nbformat_minor": 0,
 "worksheets": [
  {
   "cells": [
    {
     "cell_type": "code",
     "collapsed": false,
     "input": [
      "import numpy as np, pandas as pd, matplotlib.pyplot as plt, seaborn as sns\n",
      "%matplotlib inline\n",
      "sns.set_context('poster')\n",
      "sns.set_style('darkgrid')"
     ],
     "language": "python",
     "metadata": {},
     "outputs": [],
     "prompt_number": 1
    },
    {
     "cell_type": "code",
     "collapsed": false,
     "input": [
      "# set random seed, for reproducibility\n",
      "np.random.seed(12345)"
     ],
     "language": "python",
     "metadata": {},
     "outputs": [],
     "prompt_number": 2
    },
    {
     "cell_type": "markdown",
     "metadata": {},
     "source": [
      "Download Hep C replication archive from http://ghdx.healthdata.org/record/hepatitis-c-prevalence-1990-and-2005-all-gbd-regions, and extract `input_data.csv`"
     ]
    },
    {
     "cell_type": "markdown",
     "metadata": {},
     "source": [
      "Or, since H: drive is preventing me from loading that into Sage Cloud, let's look at the good, old weather data from Week 1 of class:"
     ]
    },
    {
     "cell_type": "code",
     "collapsed": false,
     "input": [
      "df = pd.read_csv('weather-numeric.csv')\n",
      "df"
     ],
     "language": "python",
     "metadata": {},
     "outputs": [
      {
       "html": [
        "<div style=\"max-height:1000px;max-width:1500px;overflow:auto;\">\n",
        "<table border=\"1\" class=\"dataframe\">\n",
        "  <thead>\n",
        "    <tr style=\"text-align: right;\">\n",
        "      <th></th>\n",
        "      <th>outlook</th>\n",
        "      <th>temperature</th>\n",
        "      <th>humidity</th>\n",
        "      <th>windy</th>\n",
        "      <th>play</th>\n",
        "    </tr>\n",
        "  </thead>\n",
        "  <tbody>\n",
        "    <tr>\n",
        "      <th>0 </th>\n",
        "      <td>    sunny</td>\n",
        "      <td> 85</td>\n",
        "      <td> 85</td>\n",
        "      <td> False</td>\n",
        "      <td>  no</td>\n",
        "    </tr>\n",
        "    <tr>\n",
        "      <th>1 </th>\n",
        "      <td>    sunny</td>\n",
        "      <td> 80</td>\n",
        "      <td> 90</td>\n",
        "      <td>  True</td>\n",
        "      <td>  no</td>\n",
        "    </tr>\n",
        "    <tr>\n",
        "      <th>2 </th>\n",
        "      <td> overcast</td>\n",
        "      <td> 83</td>\n",
        "      <td> 86</td>\n",
        "      <td> False</td>\n",
        "      <td> yes</td>\n",
        "    </tr>\n",
        "    <tr>\n",
        "      <th>3 </th>\n",
        "      <td>    rainy</td>\n",
        "      <td> 70</td>\n",
        "      <td> 96</td>\n",
        "      <td> False</td>\n",
        "      <td> yes</td>\n",
        "    </tr>\n",
        "    <tr>\n",
        "      <th>4 </th>\n",
        "      <td>    rainy</td>\n",
        "      <td> 68</td>\n",
        "      <td> 80</td>\n",
        "      <td> False</td>\n",
        "      <td> yes</td>\n",
        "    </tr>\n",
        "    <tr>\n",
        "      <th>5 </th>\n",
        "      <td>    rainy</td>\n",
        "      <td> 65</td>\n",
        "      <td> 70</td>\n",
        "      <td>  True</td>\n",
        "      <td>  no</td>\n",
        "    </tr>\n",
        "    <tr>\n",
        "      <th>6 </th>\n",
        "      <td> overcast</td>\n",
        "      <td> 64</td>\n",
        "      <td> 65</td>\n",
        "      <td>  True</td>\n",
        "      <td> yes</td>\n",
        "    </tr>\n",
        "    <tr>\n",
        "      <th>7 </th>\n",
        "      <td>    sunny</td>\n",
        "      <td> 72</td>\n",
        "      <td> 95</td>\n",
        "      <td> False</td>\n",
        "      <td>  no</td>\n",
        "    </tr>\n",
        "    <tr>\n",
        "      <th>8 </th>\n",
        "      <td>    sunny</td>\n",
        "      <td> 69</td>\n",
        "      <td> 70</td>\n",
        "      <td> False</td>\n",
        "      <td> yes</td>\n",
        "    </tr>\n",
        "    <tr>\n",
        "      <th>9 </th>\n",
        "      <td>    rainy</td>\n",
        "      <td> 75</td>\n",
        "      <td> 80</td>\n",
        "      <td> False</td>\n",
        "      <td> yes</td>\n",
        "    </tr>\n",
        "    <tr>\n",
        "      <th>10</th>\n",
        "      <td>    sunny</td>\n",
        "      <td> 75</td>\n",
        "      <td> 70</td>\n",
        "      <td>  True</td>\n",
        "      <td> yes</td>\n",
        "    </tr>\n",
        "    <tr>\n",
        "      <th>11</th>\n",
        "      <td> overcast</td>\n",
        "      <td> 72</td>\n",
        "      <td> 90</td>\n",
        "      <td>  True</td>\n",
        "      <td> yes</td>\n",
        "    </tr>\n",
        "    <tr>\n",
        "      <th>12</th>\n",
        "      <td> overcast</td>\n",
        "      <td> 81</td>\n",
        "      <td> 75</td>\n",
        "      <td> False</td>\n",
        "      <td> yes</td>\n",
        "    </tr>\n",
        "    <tr>\n",
        "      <th>13</th>\n",
        "      <td>    rainy</td>\n",
        "      <td> 71</td>\n",
        "      <td> 91</td>\n",
        "      <td>  True</td>\n",
        "      <td>  no</td>\n",
        "    </tr>\n",
        "  </tbody>\n",
        "</table>\n",
        "</div>"
       ],
       "metadata": {},
       "output_type": "pyout",
       "prompt_number": 3,
       "text": [
        "     outlook  temperature  humidity  windy play\n",
        "0      sunny           85        85  False   no\n",
        "1      sunny           80        90   True   no\n",
        "2   overcast           83        86  False  yes\n",
        "3      rainy           70        96  False  yes\n",
        "4      rainy           68        80  False  yes\n",
        "5      rainy           65        70   True   no\n",
        "6   overcast           64        65   True  yes\n",
        "7      sunny           72        95  False   no\n",
        "8      sunny           69        70  False  yes\n",
        "9      rainy           75        80  False  yes\n",
        "10     sunny           75        70   True  yes\n",
        "11  overcast           72        90   True  yes\n",
        "12  overcast           81        75  False  yes\n",
        "13     rainy           71        91   True   no"
       ]
      }
     ],
     "prompt_number": 3
    },
    {
     "cell_type": "markdown",
     "metadata": {},
     "source": [
      "# Mapping from categorical data to dummy variables\n",
      "\n",
      "A.k.a. One-hot encoding (http://en.wikipedia.org/wiki/One-hot ):"
     ]
    },
    {
     "cell_type": "code",
     "collapsed": false,
     "input": [
      "df.outlook.value_counts()"
     ],
     "language": "python",
     "metadata": {},
     "outputs": [
      {
       "metadata": {},
       "output_type": "pyout",
       "prompt_number": 4,
       "text": [
        "rainy       5\n",
        "sunny       5\n",
        "overcast    4\n",
        "dtype: int64"
       ]
      }
     ],
     "prompt_number": 4
    },
    {
     "cell_type": "code",
     "collapsed": false,
     "input": [
      "X = np.array(df.filter(['outlook', 'temperature']))\n",
      "y = np.array(df.play)"
     ],
     "language": "python",
     "metadata": {},
     "outputs": [],
     "prompt_number": 5
    },
    {
     "cell_type": "code",
     "collapsed": false,
     "input": [
      "import sklearn.svm"
     ],
     "language": "python",
     "metadata": {},
     "outputs": [],
     "prompt_number": 6
    },
    {
     "cell_type": "code",
     "collapsed": false,
     "input": [
      "clf = sklearn.svm.SVC()\n",
      "clf.fit(X, y)"
     ],
     "language": "python",
     "metadata": {},
     "outputs": [
      {
       "ename": "ValueError",
       "evalue": "could not convert string to float: rainy",
       "output_type": "pyerr",
       "traceback": [
        "\u001b[1;31m---------------------------------------------------------------------------\u001b[0m\n\u001b[1;31mValueError\u001b[0m                                Traceback (most recent call last)",
        "\u001b[1;32m<ipython-input-7-1c49827b6ff0>\u001b[0m in \u001b[0;36m<module>\u001b[1;34m()\u001b[0m\n\u001b[0;32m      1\u001b[0m \u001b[0mclf\u001b[0m \u001b[1;33m=\u001b[0m \u001b[0msklearn\u001b[0m\u001b[1;33m.\u001b[0m\u001b[0msvm\u001b[0m\u001b[1;33m.\u001b[0m\u001b[0mSVC\u001b[0m\u001b[1;33m(\u001b[0m\u001b[1;33m)\u001b[0m\u001b[1;33m\u001b[0m\u001b[0m\n\u001b[1;32m----> 2\u001b[1;33m \u001b[0mclf\u001b[0m\u001b[1;33m.\u001b[0m\u001b[0mfit\u001b[0m\u001b[1;33m(\u001b[0m\u001b[0mX\u001b[0m\u001b[1;33m,\u001b[0m \u001b[0my\u001b[0m\u001b[1;33m)\u001b[0m\u001b[1;33m\u001b[0m\u001b[0m\n\u001b[0m",
        "\u001b[1;32m/usr/local/sage/sage-6.4/local/lib/python2.7/site-packages/sklearn/svm/base.py\u001b[0m in \u001b[0;36mfit\u001b[1;34m(self, X, y, sample_weight)\u001b[0m\n\u001b[0;32m    135\u001b[0m         \u001b[0mself\u001b[0m\u001b[1;33m.\u001b[0m\u001b[0m_sparse\u001b[0m \u001b[1;33m=\u001b[0m \u001b[0msparse\u001b[0m \u001b[1;32mand\u001b[0m \u001b[1;32mnot\u001b[0m \u001b[0mcallable\u001b[0m\u001b[1;33m(\u001b[0m\u001b[0mself\u001b[0m\u001b[1;33m.\u001b[0m\u001b[0mkernel\u001b[0m\u001b[1;33m)\u001b[0m\u001b[1;33m\u001b[0m\u001b[0m\n\u001b[0;32m    136\u001b[0m \u001b[1;33m\u001b[0m\u001b[0m\n\u001b[1;32m--> 137\u001b[1;33m         \u001b[0mX\u001b[0m \u001b[1;33m=\u001b[0m \u001b[0matleast2d_or_csr\u001b[0m\u001b[1;33m(\u001b[0m\u001b[0mX\u001b[0m\u001b[1;33m,\u001b[0m \u001b[0mdtype\u001b[0m\u001b[1;33m=\u001b[0m\u001b[0mnp\u001b[0m\u001b[1;33m.\u001b[0m\u001b[0mfloat64\u001b[0m\u001b[1;33m,\u001b[0m \u001b[0morder\u001b[0m\u001b[1;33m=\u001b[0m\u001b[1;34m'C'\u001b[0m\u001b[1;33m)\u001b[0m\u001b[1;33m\u001b[0m\u001b[0m\n\u001b[0m\u001b[0;32m    138\u001b[0m         \u001b[0my\u001b[0m \u001b[1;33m=\u001b[0m \u001b[0mself\u001b[0m\u001b[1;33m.\u001b[0m\u001b[0m_validate_targets\u001b[0m\u001b[1;33m(\u001b[0m\u001b[0my\u001b[0m\u001b[1;33m)\u001b[0m\u001b[1;33m\u001b[0m\u001b[0m\n\u001b[0;32m    139\u001b[0m \u001b[1;33m\u001b[0m\u001b[0m\n",
        "\u001b[1;32m/usr/local/sage/sage-6.4/local/lib/python2.7/site-packages/sklearn/utils/validation.py\u001b[0m in \u001b[0;36matleast2d_or_csr\u001b[1;34m(X, dtype, order, copy, force_all_finite)\u001b[0m\n\u001b[0;32m    163\u001b[0m     return _atleast2d_or_sparse(X, dtype, order, copy, sp.csr_matrix,\n\u001b[0;32m    164\u001b[0m                                 \u001b[1;34m\"tocsr\"\u001b[0m\u001b[1;33m,\u001b[0m \u001b[0msp\u001b[0m\u001b[1;33m.\u001b[0m\u001b[0misspmatrix_csr\u001b[0m\u001b[1;33m,\u001b[0m\u001b[1;33m\u001b[0m\u001b[0m\n\u001b[1;32m--> 165\u001b[1;33m                                 force_all_finite)\n\u001b[0m\u001b[0;32m    166\u001b[0m \u001b[1;33m\u001b[0m\u001b[0m\n\u001b[0;32m    167\u001b[0m \u001b[1;33m\u001b[0m\u001b[0m\n",
        "\u001b[1;32m/usr/local/sage/sage-6.4/local/lib/python2.7/site-packages/sklearn/utils/validation.py\u001b[0m in \u001b[0;36m_atleast2d_or_sparse\u001b[1;34m(X, dtype, order, copy, sparse_class, convmethod, check_same_type, force_all_finite)\u001b[0m\n\u001b[0;32m    140\u001b[0m     \u001b[1;32melse\u001b[0m\u001b[1;33m:\u001b[0m\u001b[1;33m\u001b[0m\u001b[0m\n\u001b[0;32m    141\u001b[0m         X = array2d(X, dtype=dtype, order=order, copy=copy,\n\u001b[1;32m--> 142\u001b[1;33m                     force_all_finite=force_all_finite)\n\u001b[0m\u001b[0;32m    143\u001b[0m     \u001b[1;32mreturn\u001b[0m \u001b[0mX\u001b[0m\u001b[1;33m\u001b[0m\u001b[0m\n\u001b[0;32m    144\u001b[0m \u001b[1;33m\u001b[0m\u001b[0m\n",
        "\u001b[1;32m/usr/local/sage/sage-6.4/local/lib/python2.7/site-packages/sklearn/utils/validation.py\u001b[0m in \u001b[0;36marray2d\u001b[1;34m(X, dtype, order, copy, force_all_finite)\u001b[0m\n\u001b[0;32m    118\u001b[0m         raise TypeError('A sparse matrix was passed, but dense data '\n\u001b[0;32m    119\u001b[0m                         'is required. Use X.toarray() to convert to dense.')\n\u001b[1;32m--> 120\u001b[1;33m     \u001b[0mX_2d\u001b[0m \u001b[1;33m=\u001b[0m \u001b[0mnp\u001b[0m\u001b[1;33m.\u001b[0m\u001b[0masarray\u001b[0m\u001b[1;33m(\u001b[0m\u001b[0mnp\u001b[0m\u001b[1;33m.\u001b[0m\u001b[0matleast_2d\u001b[0m\u001b[1;33m(\u001b[0m\u001b[0mX\u001b[0m\u001b[1;33m)\u001b[0m\u001b[1;33m,\u001b[0m \u001b[0mdtype\u001b[0m\u001b[1;33m=\u001b[0m\u001b[0mdtype\u001b[0m\u001b[1;33m,\u001b[0m \u001b[0morder\u001b[0m\u001b[1;33m=\u001b[0m\u001b[0morder\u001b[0m\u001b[1;33m)\u001b[0m\u001b[1;33m\u001b[0m\u001b[0m\n\u001b[0m\u001b[0;32m    121\u001b[0m     \u001b[1;32mif\u001b[0m \u001b[0mforce_all_finite\u001b[0m\u001b[1;33m:\u001b[0m\u001b[1;33m\u001b[0m\u001b[0m\n\u001b[0;32m    122\u001b[0m         \u001b[0m_assert_all_finite\u001b[0m\u001b[1;33m(\u001b[0m\u001b[0mX_2d\u001b[0m\u001b[1;33m)\u001b[0m\u001b[1;33m\u001b[0m\u001b[0m\n",
        "\u001b[1;32m/usr/local/sage/sage-6.4/local/lib/python2.7/site-packages/numpy/core/numeric.pyc\u001b[0m in \u001b[0;36masarray\u001b[1;34m(a, dtype, order)\u001b[0m\n\u001b[0;32m    458\u001b[0m \u001b[1;33m\u001b[0m\u001b[0m\n\u001b[0;32m    459\u001b[0m     \"\"\"\n\u001b[1;32m--> 460\u001b[1;33m     \u001b[1;32mreturn\u001b[0m \u001b[0marray\u001b[0m\u001b[1;33m(\u001b[0m\u001b[0ma\u001b[0m\u001b[1;33m,\u001b[0m \u001b[0mdtype\u001b[0m\u001b[1;33m,\u001b[0m \u001b[0mcopy\u001b[0m\u001b[1;33m=\u001b[0m\u001b[0mFalse\u001b[0m\u001b[1;33m,\u001b[0m \u001b[0morder\u001b[0m\u001b[1;33m=\u001b[0m\u001b[0morder\u001b[0m\u001b[1;33m)\u001b[0m\u001b[1;33m\u001b[0m\u001b[0m\n\u001b[0m\u001b[0;32m    461\u001b[0m \u001b[1;33m\u001b[0m\u001b[0m\n\u001b[0;32m    462\u001b[0m \u001b[1;32mdef\u001b[0m \u001b[0masanyarray\u001b[0m\u001b[1;33m(\u001b[0m\u001b[0ma\u001b[0m\u001b[1;33m,\u001b[0m \u001b[0mdtype\u001b[0m\u001b[1;33m=\u001b[0m\u001b[0mNone\u001b[0m\u001b[1;33m,\u001b[0m \u001b[0morder\u001b[0m\u001b[1;33m=\u001b[0m\u001b[0mNone\u001b[0m\u001b[1;33m)\u001b[0m\u001b[1;33m:\u001b[0m\u001b[1;33m\u001b[0m\u001b[0m\n",
        "\u001b[1;31mValueError\u001b[0m: could not convert string to float: rainy"
       ]
      }
     ],
     "prompt_number": 7
    },
    {
     "cell_type": "markdown",
     "metadata": {},
     "source": [
      "What's the problem?"
     ]
    },
    {
     "cell_type": "code",
     "collapsed": false,
     "input": [
      "# SVC not smart enough to handle strings"
     ],
     "language": "python",
     "metadata": {},
     "outputs": [],
     "prompt_number": 8
    },
    {
     "cell_type": "markdown",
     "metadata": {},
     "source": [
      "The solution: one-hot encoding."
     ]
    },
    {
     "cell_type": "code",
     "collapsed": false,
     "input": [
      "# can do this manually:\n",
      "for val in df.outlook.unique():\n",
      "    print 'adding column', val\n",
      "    df[val] = (df.outlook == val)"
     ],
     "language": "python",
     "metadata": {},
     "outputs": [
      {
       "output_type": "stream",
       "stream": "stdout",
       "text": [
        "adding column sunny\n",
        "adding column overcast\n",
        "adding column rainy\n"
       ]
      }
     ],
     "prompt_number": 9
    },
    {
     "cell_type": "code",
     "collapsed": false,
     "input": [
      "X = np.array(df.filter(['sunny', 'overcast', 'rainy', 'temperature']))\n",
      "y = np.array(df.play)\n",
      "\n",
      "clf = sklearn.svm.SVC()\n",
      "clf.fit(X, y)"
     ],
     "language": "python",
     "metadata": {},
     "outputs": [
      {
       "metadata": {},
       "output_type": "pyout",
       "prompt_number": 10,
       "text": [
        "SVC(C=1.0, cache_size=200, class_weight=None, coef0=0.0, degree=3, gamma=0.0,\n",
        "  kernel='rbf', max_iter=-1, probability=False, random_state=None,\n",
        "  shrinking=True, tol=0.001, verbose=False)"
       ]
      }
     ],
     "prompt_number": 10
    },
    {
     "cell_type": "code",
     "collapsed": false,
     "input": [
      "y_pred = clf.predict(X)\n",
      "np.mean(y_pred == y)"
     ],
     "language": "python",
     "metadata": {},
     "outputs": [
      {
       "metadata": {},
       "output_type": "pyout",
       "prompt_number": 11,
       "text": [
        "0.8571428571428571"
       ]
      }
     ],
     "prompt_number": 11
    },
    {
     "cell_type": "markdown",
     "metadata": {},
     "source": [
      "Impressed?"
     ]
    },
    {
     "cell_type": "code",
     "collapsed": false,
     "input": [
      "# NO, not oos"
     ],
     "language": "python",
     "metadata": {},
     "outputs": [],
     "prompt_number": 12
    },
    {
     "cell_type": "markdown",
     "metadata": {},
     "source": [
      "# Shifting and scaling numeric variables"
     ]
    },
    {
     "cell_type": "code",
     "collapsed": false,
     "input": [
      "df.temperature"
     ],
     "language": "python",
     "metadata": {},
     "outputs": [
      {
       "metadata": {},
       "output_type": "pyout",
       "prompt_number": 13,
       "text": [
        "0     85\n",
        "1     80\n",
        "2     83\n",
        "3     70\n",
        "4     68\n",
        "5     65\n",
        "6     64\n",
        "7     72\n",
        "8     69\n",
        "9     75\n",
        "10    75\n",
        "11    72\n",
        "12    81\n",
        "13    71\n",
        "Name: temperature, dtype: int64"
       ]
      }
     ],
     "prompt_number": 13
    },
    {
     "cell_type": "code",
     "collapsed": false,
     "input": [
      "df.temperature.mean()"
     ],
     "language": "python",
     "metadata": {},
     "outputs": [
      {
       "metadata": {},
       "output_type": "pyout",
       "prompt_number": 14,
       "text": [
        "73.571428571428569"
       ]
      }
     ],
     "prompt_number": 14
    },
    {
     "cell_type": "code",
     "collapsed": false,
     "input": [
      "df.temperature.std()"
     ],
     "language": "python",
     "metadata": {},
     "outputs": [
      {
       "metadata": {},
       "output_type": "pyout",
       "prompt_number": 15,
       "text": [
        "6.5716674586297126"
       ]
      }
     ],
     "prompt_number": 15
    },
    {
     "cell_type": "code",
     "collapsed": false,
     "input": [
      "df['normalized_temp'] = (df.temperature - df.temperature.mean()) / df.temperature.std()"
     ],
     "language": "python",
     "metadata": {},
     "outputs": [],
     "prompt_number": 16
    },
    {
     "cell_type": "code",
     "collapsed": false,
     "input": [
      "sns.distplot(df.normalized_temp)"
     ],
     "language": "python",
     "metadata": {},
     "outputs": [
      {
       "metadata": {},
       "output_type": "pyout",
       "prompt_number": 17,
       "text": [
        "<matplotlib.axes.AxesSubplot at 0x7f024b3c10d0>"
       ]
      },
      {
       "metadata": {},
       "output_type": "display_data",
       "png": "[encoded data removed]",
       "text": [
        "<matplotlib.figure.Figure at 0x7f024b3c15d0>"
       ]
      }
     ],
     "prompt_number": 17
    },
    {
     "cell_type": "markdown",
     "metadata": {},
     "source": [
      "# Interactions"
     ]
    },
    {
     "cell_type": "code",
     "collapsed": false,
     "input": [
      "df['hot_and_humid'] = df.temperature * df.humidity"
     ],
     "language": "python",
     "metadata": {},
     "outputs": [],
     "prompt_number": 18
    },
    {
     "cell_type": "code",
     "collapsed": false,
     "input": [
      "sns.distplot(df.hot_and_humid)"
     ],
     "language": "python",
     "metadata": {},
     "outputs": [
      {
       "metadata": {},
       "output_type": "pyout",
       "prompt_number": 19,
       "text": [
        "<matplotlib.axes.AxesSubplot at 0x7f024b2bd810>"
       ]
      },
      {
       "metadata": {},
       "output_type": "display_data",
       "png": "[encoded data removed]",
       "text": [
        "<matplotlib.figure.Figure at 0x7f024b280210>"
       ]
      }
     ],
     "prompt_number": 19
    },
    {
     "cell_type": "markdown",
     "metadata": {},
     "source": [
      "Should we have normalized that somehow?  Could do before or after multiplying..."
     ]
    },
    {
     "cell_type": "code",
     "collapsed": false,
     "input": [
      "df.hot_and_humid = (df.hot_and_humid - df.hot_and_humid.mean()) / df.hot_and_humid.std()\n",
      "\n",
      "sns.distplot(df.hot_and_humid)"
     ],
     "language": "python",
     "metadata": {},
     "outputs": [
      {
       "metadata": {},
       "output_type": "pyout",
       "prompt_number": 20,
       "text": [
        "<matplotlib.axes.AxesSubplot at 0x7f024b2058d0>"
       ]
      },
      {
       "metadata": {},
       "output_type": "display_data",
       "png": "[encoded data removed]",
       "text": [
        "<matplotlib.figure.Figure at 0x7f024b20dd50>"
       ]
      }
     ],
     "prompt_number": 20
    },
    {
     "cell_type": "markdown",
     "metadata": {},
     "source": [
      "OR"
     ]
    },
    {
     "cell_type": "code",
     "collapsed": false,
     "input": [
      "df['normalized_humidity'] = (df.humidity - df.humidity.mean()) / df.humidity.std()"
     ],
     "language": "python",
     "metadata": {},
     "outputs": [],
     "prompt_number": 21
    },
    {
     "cell_type": "code",
     "collapsed": false,
     "input": [
      "df.hot_and_humid = df.normalized_temp * df.normalized_humidity\n",
      "sns.distplot(df.hot_and_humid)"
     ],
     "language": "python",
     "metadata": {},
     "outputs": [
      {
       "metadata": {},
       "output_type": "pyout",
       "prompt_number": 22,
       "text": [
        "<matplotlib.axes.AxesSubplot at 0x7f024b0e25d0>"
       ]
      },
      {
       "metadata": {},
       "output_type": "display_data",
       "png": "[encoded data removed]",
       "text": [
        "<matplotlib.figure.Figure at 0x7f024b280250>"
       ]
      }
     ],
     "prompt_number": 22
    },
    {
     "cell_type": "markdown",
     "metadata": {},
     "source": [
      "There are fancier things you can consider, too.  And we will perhaps return to them in the Data Transformations week.  If you need one for your project, start with Box-Cox transform: http://en.wikipedia.org/wiki/Power_transform#Box.E2.80.93Cox_transformation"
     ]
    },
    {
     "cell_type": "markdown",
     "metadata": {},
     "source": [
      "# Let's have a look at `input_data.csv` now"
     ]
    },
    {
     "cell_type": "code",
     "collapsed": false,
     "input": [
      "df = pd.read_csv('input_data.csv')\n",
      "df.head()"
     ],
     "language": "python",
     "metadata": {},
     "outputs": [
      {
       "html": [
        "<div style=\"max-height:1000px;max-width:1500px;overflow:auto;\">\n",
        "<table border=\"1\" class=\"dataframe\">\n",
        "  <thead>\n",
        "    <tr style=\"text-align: right;\">\n",
        "      <th></th>\n",
        "      <th>index</th>\n",
        "      <th>age_end</th>\n",
        "      <th>age_start</th>\n",
        "      <th>age_weights</th>\n",
        "      <th>area</th>\n",
        "      <th>data_type</th>\n",
        "      <th>effective_sample_size</th>\n",
        "      <th>lower_ci</th>\n",
        "      <th>sex</th>\n",
        "      <th>standard_error</th>\n",
        "      <th>upper_ci</th>\n",
        "      <th>value</th>\n",
        "      <th>year_end</th>\n",
        "      <th>year_start</th>\n",
        "      <th>z_bias</th>\n",
        "    </tr>\n",
        "  </thead>\n",
        "  <tbody>\n",
        "    <tr>\n",
        "      <th>0</th>\n",
        "      <td> 0</td>\n",
        "      <td> 65</td>\n",
        "      <td> 18</td>\n",
        "      <td>NaN</td>\n",
        "      <td> ARG</td>\n",
        "      <td> p</td>\n",
        "      <td> 12891</td>\n",
        "      <td>NaN</td>\n",
        "      <td>  total</td>\n",
        "      <td>-99</td>\n",
        "      <td>NaN</td>\n",
        "      <td> 0.0071</td>\n",
        "      <td> 1992</td>\n",
        "      <td> 1991</td>\n",
        "      <td> 1</td>\n",
        "    </tr>\n",
        "    <tr>\n",
        "      <th>1</th>\n",
        "      <td> 1</td>\n",
        "      <td> 89</td>\n",
        "      <td>  3</td>\n",
        "      <td>NaN</td>\n",
        "      <td> ARG</td>\n",
        "      <td> p</td>\n",
        "      <td>   196</td>\n",
        "      <td>NaN</td>\n",
        "      <td>  total</td>\n",
        "      <td>-99</td>\n",
        "      <td>NaN</td>\n",
        "      <td> 0.0000</td>\n",
        "      <td> 1993</td>\n",
        "      <td> 1993</td>\n",
        "      <td> 1</td>\n",
        "    </tr>\n",
        "    <tr>\n",
        "      <th>2</th>\n",
        "      <td> 2</td>\n",
        "      <td> 24</td>\n",
        "      <td> 20</td>\n",
        "      <td>NaN</td>\n",
        "      <td> AUS</td>\n",
        "      <td> p</td>\n",
        "      <td>  1348</td>\n",
        "      <td>NaN</td>\n",
        "      <td>  total</td>\n",
        "      <td>-99</td>\n",
        "      <td>NaN</td>\n",
        "      <td> 0.0530</td>\n",
        "      <td> 1998</td>\n",
        "      <td> 1996</td>\n",
        "      <td> 1</td>\n",
        "    </tr>\n",
        "    <tr>\n",
        "      <th>3</th>\n",
        "      <td> 3</td>\n",
        "      <td> 39</td>\n",
        "      <td> 30</td>\n",
        "      <td>NaN</td>\n",
        "      <td> AUS</td>\n",
        "      <td> p</td>\n",
        "      <td>  1452</td>\n",
        "      <td>NaN</td>\n",
        "      <td>  total</td>\n",
        "      <td>-99</td>\n",
        "      <td>NaN</td>\n",
        "      <td> 0.0110</td>\n",
        "      <td> 1998</td>\n",
        "      <td> 1996</td>\n",
        "      <td> 1</td>\n",
        "    </tr>\n",
        "    <tr>\n",
        "      <th>4</th>\n",
        "      <td> 4</td>\n",
        "      <td> 49</td>\n",
        "      <td> 15</td>\n",
        "      <td>NaN</td>\n",
        "      <td> AUS</td>\n",
        "      <td> p</td>\n",
        "      <td>  1537</td>\n",
        "      <td>NaN</td>\n",
        "      <td> female</td>\n",
        "      <td>-99</td>\n",
        "      <td>NaN</td>\n",
        "      <td> 0.0111</td>\n",
        "      <td> 1995</td>\n",
        "      <td> 1995</td>\n",
        "      <td> 1</td>\n",
        "    </tr>\n",
        "  </tbody>\n",
        "</table>\n",
        "</div>"
       ],
       "metadata": {},
       "output_type": "pyout",
       "prompt_number": 23,
       "text": [
        "   index  age_end  age_start  age_weights area data_type  \\\n",
        "0      0       65         18          NaN  ARG         p   \n",
        "1      1       89          3          NaN  ARG         p   \n",
        "2      2       24         20          NaN  AUS         p   \n",
        "3      3       39         30          NaN  AUS         p   \n",
        "4      4       49         15          NaN  AUS         p   \n",
        "\n",
        "   effective_sample_size  lower_ci     sex  standard_error  upper_ci   value  \\\n",
        "0                  12891       NaN   total             -99       NaN  0.0071   \n",
        "1                    196       NaN   total             -99       NaN  0.0000   \n",
        "2                   1348       NaN   total             -99       NaN  0.0530   \n",
        "3                   1452       NaN   total             -99       NaN  0.0110   \n",
        "4                   1537       NaN  female             -99       NaN  0.0111   \n",
        "\n",
        "   year_end  year_start  z_bias  \n",
        "0      1992        1991       1  \n",
        "1      1993        1993       1  \n",
        "2      1998        1996       1  \n",
        "3      1998        1996       1  \n",
        "4      1995        1995       1  "
       ]
      }
     ],
     "prompt_number": 23
    },
    {
     "cell_type": "markdown",
     "metadata": {},
     "source": [
      "Other fun features you could consider adding, based on special case you are dealing with:"
     ]
    },
    {
     "cell_type": "code",
     "collapsed": false,
     "input": [
      "# age interval contains specific ages:\n",
      "for a in np.arange(0,81,5):\n",
      "    df['includes_age_'+str(a)] = 1. * ((df.age_start <= a) & (df.age_end < a))"
     ],
     "language": "python",
     "metadata": {},
     "outputs": [],
     "prompt_number": 24
    },
    {
     "cell_type": "code",
     "collapsed": false,
     "input": [
      "df.filter(like='age').head()"
     ],
     "language": "python",
     "metadata": {},
     "outputs": [
      {
       "html": [
        "<div style=\"max-height:1000px;max-width:1500px;overflow:auto;\">\n",
        "<table border=\"1\" class=\"dataframe\">\n",
        "  <thead>\n",
        "    <tr style=\"text-align: right;\">\n",
        "      <th></th>\n",
        "      <th>age_end</th>\n",
        "      <th>age_start</th>\n",
        "      <th>age_weights</th>\n",
        "      <th>includes_age_0</th>\n",
        "      <th>includes_age_5</th>\n",
        "      <th>includes_age_10</th>\n",
        "      <th>includes_age_15</th>\n",
        "      <th>includes_age_20</th>\n",
        "      <th>includes_age_25</th>\n",
        "      <th>includes_age_30</th>\n",
        "      <th>includes_age_35</th>\n",
        "      <th>includes_age_40</th>\n",
        "      <th>includes_age_45</th>\n",
        "      <th>includes_age_50</th>\n",
        "      <th>includes_age_55</th>\n",
        "      <th>includes_age_60</th>\n",
        "      <th>includes_age_65</th>\n",
        "      <th>includes_age_70</th>\n",
        "      <th>includes_age_75</th>\n",
        "      <th>includes_age_80</th>\n",
        "    </tr>\n",
        "  </thead>\n",
        "  <tbody>\n",
        "    <tr>\n",
        "      <th>0</th>\n",
        "      <td> 65</td>\n",
        "      <td> 18</td>\n",
        "      <td>NaN</td>\n",
        "      <td> 0</td>\n",
        "      <td> 0</td>\n",
        "      <td> 0</td>\n",
        "      <td> 0</td>\n",
        "      <td> 0</td>\n",
        "      <td> 0</td>\n",
        "      <td> 0</td>\n",
        "      <td> 0</td>\n",
        "      <td> 0</td>\n",
        "      <td> 0</td>\n",
        "      <td> 0</td>\n",
        "      <td> 0</td>\n",
        "      <td> 0</td>\n",
        "      <td> 0</td>\n",
        "      <td> 1</td>\n",
        "      <td> 1</td>\n",
        "      <td> 1</td>\n",
        "    </tr>\n",
        "    <tr>\n",
        "      <th>1</th>\n",
        "      <td> 89</td>\n",
        "      <td>  3</td>\n",
        "      <td>NaN</td>\n",
        "      <td> 0</td>\n",
        "      <td> 0</td>\n",
        "      <td> 0</td>\n",
        "      <td> 0</td>\n",
        "      <td> 0</td>\n",
        "      <td> 0</td>\n",
        "      <td> 0</td>\n",
        "      <td> 0</td>\n",
        "      <td> 0</td>\n",
        "      <td> 0</td>\n",
        "      <td> 0</td>\n",
        "      <td> 0</td>\n",
        "      <td> 0</td>\n",
        "      <td> 0</td>\n",
        "      <td> 0</td>\n",
        "      <td> 0</td>\n",
        "      <td> 0</td>\n",
        "    </tr>\n",
        "    <tr>\n",
        "      <th>2</th>\n",
        "      <td> 24</td>\n",
        "      <td> 20</td>\n",
        "      <td>NaN</td>\n",
        "      <td> 0</td>\n",
        "      <td> 0</td>\n",
        "      <td> 0</td>\n",
        "      <td> 0</td>\n",
        "      <td> 0</td>\n",
        "      <td> 1</td>\n",
        "      <td> 1</td>\n",
        "      <td> 1</td>\n",
        "      <td> 1</td>\n",
        "      <td> 1</td>\n",
        "      <td> 1</td>\n",
        "      <td> 1</td>\n",
        "      <td> 1</td>\n",
        "      <td> 1</td>\n",
        "      <td> 1</td>\n",
        "      <td> 1</td>\n",
        "      <td> 1</td>\n",
        "    </tr>\n",
        "    <tr>\n",
        "      <th>3</th>\n",
        "      <td> 39</td>\n",
        "      <td> 30</td>\n",
        "      <td>NaN</td>\n",
        "      <td> 0</td>\n",
        "      <td> 0</td>\n",
        "      <td> 0</td>\n",
        "      <td> 0</td>\n",
        "      <td> 0</td>\n",
        "      <td> 0</td>\n",
        "      <td> 0</td>\n",
        "      <td> 0</td>\n",
        "      <td> 1</td>\n",
        "      <td> 1</td>\n",
        "      <td> 1</td>\n",
        "      <td> 1</td>\n",
        "      <td> 1</td>\n",
        "      <td> 1</td>\n",
        "      <td> 1</td>\n",
        "      <td> 1</td>\n",
        "      <td> 1</td>\n",
        "    </tr>\n",
        "    <tr>\n",
        "      <th>4</th>\n",
        "      <td> 49</td>\n",
        "      <td> 15</td>\n",
        "      <td>NaN</td>\n",
        "      <td> 0</td>\n",
        "      <td> 0</td>\n",
        "      <td> 0</td>\n",
        "      <td> 0</td>\n",
        "      <td> 0</td>\n",
        "      <td> 0</td>\n",
        "      <td> 0</td>\n",
        "      <td> 0</td>\n",
        "      <td> 0</td>\n",
        "      <td> 0</td>\n",
        "      <td> 1</td>\n",
        "      <td> 1</td>\n",
        "      <td> 1</td>\n",
        "      <td> 1</td>\n",
        "      <td> 1</td>\n",
        "      <td> 1</td>\n",
        "      <td> 1</td>\n",
        "    </tr>\n",
        "  </tbody>\n",
        "</table>\n",
        "</div>"
       ],
       "metadata": {},
       "output_type": "pyout",
       "prompt_number": 25,
       "text": [
        "   age_end  age_start  age_weights  includes_age_0  includes_age_5  \\\n",
        "0       65         18          NaN               0               0   \n",
        "1       89          3          NaN               0               0   \n",
        "2       24         20          NaN               0               0   \n",
        "3       39         30          NaN               0               0   \n",
        "4       49         15          NaN               0               0   \n",
        "\n",
        "   includes_age_10  includes_age_15  includes_age_20  includes_age_25  \\\n",
        "0                0                0                0                0   \n",
        "1                0                0                0                0   \n",
        "2                0                0                0                1   \n",
        "3                0                0                0                0   \n",
        "4                0                0                0                0   \n",
        "\n",
        "   includes_age_30  includes_age_35  includes_age_40  includes_age_45  \\\n",
        "0                0                0                0                0   \n",
        "1                0                0                0                0   \n",
        "2                1                1                1                1   \n",
        "3                0                0                1                1   \n",
        "4                0                0                0                0   \n",
        "\n",
        "   includes_age_50  includes_age_55  includes_age_60  includes_age_65  \\\n",
        "0                0                0                0                0   \n",
        "1                0                0                0                0   \n",
        "2                1                1                1                1   \n",
        "3                1                1                1                1   \n",
        "4                1                1                1                1   \n",
        "\n",
        "   includes_age_70  includes_age_75  includes_age_80  \n",
        "0                1                1                1  \n",
        "1                0                0                0  \n",
        "2                1                1                1  \n",
        "3                1                1                1  \n",
        "4                1                1                1  "
       ]
      }
     ],
     "prompt_number": 25
    },
    {
     "cell_type": "code",
     "collapsed": false,
     "input": [
      "# geographic hierarchy, dummy coded:\n",
      "import json, networkx as nx"
     ],
     "language": "python",
     "metadata": {},
     "outputs": [],
     "prompt_number": 26
    },
    {
     "cell_type": "code",
     "collapsed": false,
     "input": [
      "hierarchy = json.load(file('hierarchy.json'))\n",
      "type(hierarchy)"
     ],
     "language": "python",
     "metadata": {},
     "outputs": [
      {
       "metadata": {},
       "output_type": "pyout",
       "prompt_number": 27,
       "text": [
        "dict"
       ]
      }
     ],
     "prompt_number": 27
    },
    {
     "cell_type": "code",
     "collapsed": false,
     "input": [
      "G = nx.DiGraph()\n",
      "for n, n_props in hierarchy['nodes']:\n",
      "    G.add_node(n)"
     ],
     "language": "python",
     "metadata": {},
     "outputs": [],
     "prompt_number": 28
    },
    {
     "cell_type": "code",
     "collapsed": false,
     "input": [
      "for u, v, edge_props in hierarchy['edges']:\n",
      "    G.add_edge(u,v)"
     ],
     "language": "python",
     "metadata": {},
     "outputs": [],
     "prompt_number": 29
    },
    {
     "cell_type": "code",
     "collapsed": false,
     "input": [
      "def region_containing(country):\n",
      "    parents = G.predecessors(country)\n",
      "    assert len(parents) == 1\n",
      "    return parents[0]\n",
      "\n",
      "df['region'] = df.area.map(region_containing)"
     ],
     "language": "python",
     "metadata": {},
     "outputs": [],
     "prompt_number": 30
    },
    {
     "cell_type": "code",
     "collapsed": false,
     "input": [
      "df['super-region'] = df.region.map(region_containing)"
     ],
     "language": "python",
     "metadata": {},
     "outputs": [],
     "prompt_number": 31
    },
    {
     "cell_type": "code",
     "collapsed": false,
     "input": [
      "df['super-region']"
     ],
     "language": "python",
     "metadata": {},
     "outputs": [
      {
       "metadata": {},
       "output_type": "pyout",
       "prompt_number": 32,
       "text": [
        "0     super-region_0\n",
        "1     super-region_0\n",
        "2     super-region_0\n",
        "3     super-region_0\n",
        "4     super-region_0\n",
        "5     super-region_2\n",
        "6     super-region_0\n",
        "7     super-region_0\n",
        "8     super-region_0\n",
        "9     super-region_0\n",
        "10    super-region_1\n",
        "11    super-region_1\n",
        "12    super-region_1\n",
        "13    super-region_1\n",
        "14    super-region_1\n",
        "...\n",
        "2569    all\n",
        "2570    all\n",
        "2571    all\n",
        "2572    all\n",
        "2573    all\n",
        "2574    all\n",
        "2575    all\n",
        "2576    all\n",
        "2577    all\n",
        "2578    all\n",
        "2579    all\n",
        "2580    all\n",
        "2581    all\n",
        "2582    all\n",
        "2583    all\n",
        "Name: super-region, Length: 2584, dtype: object"
       ]
      }
     ],
     "prompt_number": 32
    },
    {
     "cell_type": "markdown",
     "metadata": {},
     "source": [
      "# challenge: do a one-hot encoding of region and super-region"
     ]
    },
    {
     "cell_type": "code",
     "collapsed": false,
     "input": [
      "for r in df.region.unique():\n",
      "    print 'adding column', r\n",
      "    df[r] = (df.region == r)"
     ],
     "language": "python",
     "metadata": {},
     "outputs": [
      {
       "output_type": "stream",
       "stream": "stdout",
       "text": [
        "adding column latin_america_southern\n",
        "adding column australasia\n",
        "adding column sub-saharan_africa_east\n",
        "adding column europe_western\n",
        "adding column europe_central\n",
        "adding column latin_america_tropical\n",
        "adding column asia_south\n",
        "adding column sub-saharan_africa_central\n",
        "adding column north_america_high_income\n",
        "adding column asia_east\n",
        "adding column sub-saharan_africa_west\n",
        "adding column north_africa_middle_east\n",
        "adding column caribbean\n",
        "adding column asia_southeast\n",
        "adding column asia_pacific_high_income\n",
        "adding column asia_central\n",
        "adding column latin_america_central\n",
        "adding column oceania\n",
        "adding column europe_eastern\n",
        "adding column sub-saharan_africa_southern\n",
        "adding column super-region_0\n",
        "adding column super-region_5\n",
        "adding column super-region_6\n",
        "adding column super-region_1\n",
        "adding column super-region_2\n",
        "adding column super-region_4\n",
        "adding column super-region_3\n"
       ]
      }
     ],
     "prompt_number": 35
    },
    {
     "cell_type": "code",
     "collapsed": false,
     "input": [
      "for r in df['super-region'].unique():\n",
      "    print 'adding column', r\n",
      "    df[r] = (df['super-region'] == r)"
     ],
     "language": "python",
     "metadata": {},
     "outputs": [
      {
       "output_type": "stream",
       "stream": "stdout",
       "text": [
        "adding column super-region_0\n",
        "adding column super-region_2\n",
        "adding column super-region_1\n",
        "adding column super-region_6\n",
        "adding column super-region_4\n",
        "adding column super-region_5\n",
        "adding column super-region_3\n",
        "adding column all\n"
       ]
      }
     ],
     "prompt_number": 37
    },
    {
     "cell_type": "markdown",
     "metadata": {},
     "source": [
      "This \"hierarchical-hot\" might be good for ICD codes, too.  Someone should check..."
     ]
    }
   ],
   "metadata": {}
  }
 ]
}