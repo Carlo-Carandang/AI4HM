{
 "metadata": {
  "name": "ML4HM_Exercise_9"
 },
 "nbformat": 3,
 "nbformat_minor": 0,
 "worksheets": [
  {
   "cells": [
    {
     "cell_type": "code",
     "collapsed": false,
     "input": [
      "from sklearn.datasets import make_classification\n",
      "\n",
      "# Build a classification task using 3 informative features\n",
      "X, y = make_classification(n_samples=1000, n_features=25, n_informative=3,\n",
      "                           n_redundant=2, n_repeated=0, n_classes=8,\n",
      "                           n_clusters_per_class=1, random_state=0, shuffle=False)\n"
     ],
     "language": "python",
     "metadata": {},
     "outputs": []
    },
    {
     "cell_type": "markdown",
     "metadata": {},
     "source": [
      "Univariate selection"
     ]
    },
    {
     "cell_type": "code",
     "collapsed": false,
     "input": [
      "from sklearn.feature_selection import SelectPercentile, f_classif, chi2\n",
      "\n",
      "selector = SelectPercentile(f_classif, percentile=10)\n",
      "selector.fit(X, y)\n",
      "scores = -np.log10(selector.pvalues_)\n",
      "scores /= scores.max()\n"
     ],
     "language": "python",
     "metadata": {},
     "outputs": []
    },
    {
     "cell_type": "code",
     "collapsed": false,
     "input": [
      "# plot the scores"
     ],
     "language": "python",
     "metadata": {},
     "outputs": []
    },
    {
     "cell_type": "code",
     "collapsed": false,
     "input": [
      "X_transform = selector.fit_transform(X, y)"
     ],
     "language": "python",
     "metadata": {},
     "outputs": []
    },
    {
     "cell_type": "markdown",
     "metadata": {},
     "source": [
      "Recursive feature elimination"
     ]
    },
    {
     "cell_type": "code",
     "collapsed": false,
     "input": [
      "from sklearn.svm import SVC\n",
      "from sklearn.feature_selection import RFE\n",
      "\n",
      "# Create the RFE object and rank each pixel\n",
      "svc = SVC(kernel=\"linear\", C=1)\n",
      "rfe = RFE(estimator=svc, n_features_to_select=1, step=1)\n",
      "rfe.fit(X, y)\n"
     ],
     "language": "python",
     "metadata": {},
     "outputs": []
    },
    {
     "cell_type": "code",
     "collapsed": false,
     "input": [
      "rfe.ranking_"
     ],
     "language": "python",
     "metadata": {},
     "outputs": []
    },
    {
     "cell_type": "markdown",
     "metadata": {},
     "source": [
      "To find the best, use cross validation"
     ]
    },
    {
     "cell_type": "code",
     "collapsed": false,
     "input": [
      "from sklearn.feature_selection import RFECV\n",
      "from sklearn.cross_validation import StratifiedKFold\n",
      "from sklearn.metrics import zero_one_loss\n",
      "\n",
      "svc = SVC(kernel=\"linear\")\n",
      "rfecv = RFECV(estimator=svc, step=1, cv=StratifiedKFold(y, 2),\n",
      "              loss_func=zero_one_loss)\n",
      "rfecv.fit(X, y)\n"
     ],
     "language": "python",
     "metadata": {},
     "outputs": []
    },
    {
     "cell_type": "code",
     "collapsed": false,
     "input": [
      "rfecv.cv_scores_"
     ],
     "language": "python",
     "metadata": {},
     "outputs": []
    },
    {
     "cell_type": "markdown",
     "metadata": {},
     "source": [
      "We didn't quite get to ensemble methods. Too bad.  Here is something you can do with them, though.  I can't resist throwing it in."
     ]
    },
    {
     "cell_type": "code",
     "collapsed": false,
     "input": [
      "from sklearn.ensemble import ExtraTreesClassifier\n",
      "\n",
      "forest = ExtraTreesClassifier(n_estimators=250,\n",
      "                              random_state=0)\n",
      "\n",
      "forest.fit(X, y)\n",
      "importances = forest.feature_importances_\n",
      "std = np.std([tree.feature_importances_ for tree in forest.estimators_],\n",
      "             axis=0)\n"
     ],
     "language": "python",
     "metadata": {},
     "outputs": []
    },
    {
     "cell_type": "code",
     "collapsed": false,
     "input": [
      "bar(range(len(importances)), importances, yerr=std, color='grey')\n"
     ],
     "language": "python",
     "metadata": {},
     "outputs": []
    },
    {
     "cell_type": "markdown",
     "metadata": {},
     "source": [
      "How do you think you discretize an array in Python?"
     ]
    },
    {
     "cell_type": "code",
     "collapsed": false,
     "input": [
      "n = 32\n",
      "p = 4\n",
      "X = rand(n,p)"
     ],
     "language": "python",
     "metadata": {},
     "outputs": [],
     "prompt_number": 3
    },
    {
     "cell_type": "markdown",
     "metadata": {},
     "source": [
      "PCA"
     ]
    },
    {
     "cell_type": "code",
     "collapsed": false,
     "input": [
      "from sklearn.decomposition import PCA\n",
      "\n",
      "pca = PCA(n_components=2)\n",
      "X_transform = pca.fit_transform(X)\n"
     ],
     "language": "python",
     "metadata": {},
     "outputs": []
    },
    {
     "cell_type": "markdown",
     "metadata": {},
     "source": [
      "Random projection"
     ]
    },
    {
     "cell_type": "code",
     "collapsed": false,
     "input": [
      ">>> import numpy as np\n",
      ">>> from sklearn import random_projection\n",
      "\n",
      ">>> X = np.random.rand(100, 10000)\n",
      ">>> transformer = random_projection.GaussianRandomProjection()\n",
      ">>> X_new = transformer.fit_transform(X)\n",
      ">>> X_new.shape\n"
     ],
     "language": "python",
     "metadata": {},
     "outputs": []
    }
   ],
   "metadata": {}
  }
 ]
}