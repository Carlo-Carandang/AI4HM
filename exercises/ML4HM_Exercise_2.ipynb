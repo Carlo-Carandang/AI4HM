{
 "metadata": {
  "name": "ML4HM_Exercise_2"
 },
 "nbformat": 3,
 "nbformat_minor": 0,
 "worksheets": [
  {
   "cells": [
    {
     "cell_type": "markdown",
     "metadata": {},
     "source": [
      "# Exercise 2: Reproducing ISL Figure 2.9 and 2.17"
     ]
    },
    {
     "cell_type": "code",
     "collapsed": false,
     "input": [
      "import sklearn.datasets, sklearn.neighbors"
     ],
     "language": "python",
     "metadata": {},
     "outputs": []
    },
    {
     "cell_type": "code",
     "collapsed": false,
     "input": [
      "iris = sklearn.datasets.load_iris()\n",
      "print iris.DESCR"
     ],
     "language": "python",
     "metadata": {},
     "outputs": []
    },
    {
     "cell_type": "code",
     "collapsed": false,
     "input": [
      "X = iris.data[:, :2]  # we only take the first two features. We could\n",
      "                      # avoid this ugly slicing by using a two-dim dataset\n",
      "y = iris.target"
     ],
     "language": "python",
     "metadata": {},
     "outputs": []
    },
    {
     "cell_type": "code",
     "collapsed": false,
     "input": [
      "n_neighbors=15\n",
      "weights='uniform'\n",
      "clf = sklearn.neighbors.KNeighborsClassifier(n_neighbors, weights)\n",
      "clf.fit(X, y)"
     ],
     "language": "python",
     "metadata": {},
     "outputs": []
    },
    {
     "cell_type": "code",
     "collapsed": false,
     "input": [
      "# explore the decision boundary. For that, we will predict each\n",
      "# point in the mesh [x_min, m_max]x[y_min, y_max].\n",
      "h = .02\n",
      "\n",
      "x_min, x_max = X[:, 0].min() - 1, X[:, 0].max() + 1\n",
      "y_min, y_max = X[:, 1].min() - 1, X[:, 1].max() + 1\n",
      "xx, yy = np.meshgrid(np.arange(x_min, x_max, h),\n",
      "                     np.arange(y_min, y_max, h))\n",
      "\n",
      "Z = clf.predict(np.c_[xx.ravel(), yy.ravel()])"
     ],
     "language": "python",
     "metadata": {},
     "outputs": []
    },
    {
     "cell_type": "code",
     "collapsed": false,
     "input": [
      "# Create color maps\n",
      "from matplotlib.colors import ListedColormap\n",
      "cmap_light = ListedColormap(['#FFAAAA', '#AAFFAA', '#AAAAFF'])\n",
      "cmap_bold = ListedColormap(['#FF0000', '#00FF00', '#0000FF'])"
     ],
     "language": "python",
     "metadata": {},
     "outputs": []
    },
    {
     "cell_type": "code",
     "collapsed": false,
     "input": [
      "# Put the result into a color plot\n",
      "figure(figsize=(8,5))\n",
      "\n",
      "Z = Z.reshape(xx.shape)\n",
      "pcolormesh(xx, yy, Z, cmap=cmap_light)\n",
      "\n",
      "# Plot also the training points\n",
      "scatter(X[:, 0], X[:, 1], c=y, cmap=cmap_bold)\n",
      "title(\"3-Class classification (k = %i, weights = '%s')\"\n",
      "             % (n_neighbors, weights))\n",
      "\n",
      "axis('tight')\n",
      "pass"
     ],
     "language": "python",
     "metadata": {},
     "outputs": []
    },
    {
     "cell_type": "markdown",
     "metadata": {},
     "source": [
      "## Load the ISL data"
     ]
    },
    {
     "cell_type": "code",
     "collapsed": false,
     "input": [
      "df = pd.read_csv('/home/j/Project/Machine-Learning/ML4HM/ISL/Fig_2_9_data.csv', index_col=0)"
     ],
     "language": "python",
     "metadata": {},
     "outputs": []
    },
    {
     "cell_type": "code",
     "collapsed": false,
     "input": [
      "# fix the color names\n",
      "\n",
      "df['color'] = df['Y'].map({'red': 'orange', 'blue': 'purple'})"
     ],
     "language": "python",
     "metadata": {},
     "outputs": []
    },
    {
     "cell_type": "code",
     "collapsed": false,
     "input": [
      "# make Figure 2.9\n",
      "\n",
      "figure(figsize=(8,8))\n",
      "for g, dfg in df.groupby('color'):\n",
      "    plot(dfg['X.1'], dfg['X.2'], 'o', mec=g, color='none', mew=3, ms=8)"
     ],
     "language": "python",
     "metadata": {},
     "outputs": []
    }
   ],
   "metadata": {}
  }
 ]
}