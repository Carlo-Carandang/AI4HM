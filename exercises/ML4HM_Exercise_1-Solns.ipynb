{
 "metadata": {
  "name": "ML4HM_Exercise_1-Solns"
 },
 "nbformat": 3,
 "nbformat_minor": 0,
 "worksheets": [
  {
   "cells": [
    {
     "cell_type": "markdown",
     "metadata": {},
     "source": [
      "# Exercise 1: Predicting Weather (Solutions)"
     ]
    },
    {
     "cell_type": "code",
     "collapsed": false,
     "input": [
      "import pandas as pd\n",
      "df = pd.read_csv('/home/j/Project/Machine-Learning/ML4HM/weather-numeric.csv')"
     ],
     "language": "python",
     "metadata": {},
     "outputs": [],
     "prompt_number": 1
    },
    {
     "cell_type": "code",
     "collapsed": false,
     "input": [
      "df.head()"
     ],
     "language": "python",
     "metadata": {},
     "outputs": [
      {
       "html": [
        "<div style=\"max-height:1000px;max-width:1500px;overflow:auto;\">\n",
        "<table border=\"1\" class=\"dataframe\">\n",
        "  <thead>\n",
        "    <tr style=\"text-align: right;\">\n",
        "      <th></th>\n",
        "      <th>outlook</th>\n",
        "      <th>temperature</th>\n",
        "      <th>humidity</th>\n",
        "      <th>windy</th>\n",
        "      <th>play</th>\n",
        "    </tr>\n",
        "  </thead>\n",
        "  <tbody>\n",
        "    <tr>\n",
        "      <th>0</th>\n",
        "      <td>    sunny</td>\n",
        "      <td> 85</td>\n",
        "      <td> 85</td>\n",
        "      <td> False</td>\n",
        "      <td>  no</td>\n",
        "    </tr>\n",
        "    <tr>\n",
        "      <th>1</th>\n",
        "      <td>    sunny</td>\n",
        "      <td> 80</td>\n",
        "      <td> 90</td>\n",
        "      <td>  True</td>\n",
        "      <td>  no</td>\n",
        "    </tr>\n",
        "    <tr>\n",
        "      <th>2</th>\n",
        "      <td> overcast</td>\n",
        "      <td> 83</td>\n",
        "      <td> 86</td>\n",
        "      <td> False</td>\n",
        "      <td> yes</td>\n",
        "    </tr>\n",
        "    <tr>\n",
        "      <th>3</th>\n",
        "      <td>    rainy</td>\n",
        "      <td> 70</td>\n",
        "      <td> 96</td>\n",
        "      <td> False</td>\n",
        "      <td> yes</td>\n",
        "    </tr>\n",
        "    <tr>\n",
        "      <th>4</th>\n",
        "      <td>    rainy</td>\n",
        "      <td> 68</td>\n",
        "      <td> 80</td>\n",
        "      <td> False</td>\n",
        "      <td> yes</td>\n",
        "    </tr>\n",
        "  </tbody>\n",
        "</table>\n",
        "</div>"
       ],
       "output_type": "pyout",
       "prompt_number": 2,
       "text": [
        "    outlook  temperature  humidity  windy play\n",
        "0     sunny           85        85  False   no\n",
        "1     sunny           80        90   True   no\n",
        "2  overcast           83        86  False  yes\n",
        "3     rainy           70        96  False  yes\n",
        "4     rainy           68        80  False  yes"
       ]
      }
     ],
     "prompt_number": 2
    },
    {
     "cell_type": "code",
     "collapsed": false,
     "input": [
      "# use TAB to explore commands"
     ],
     "language": "python",
     "metadata": {},
     "outputs": [],
     "prompt_number": 3
    },
    {
     "cell_type": "markdown",
     "metadata": {},
     "source": [
      "## Abie's dumb predictor"
     ]
    },
    {
     "cell_type": "code",
     "collapsed": false,
     "input": [
      "def predict(s):\n",
      "    if s['outlook'] == 'sunny':\n",
      "        return 'no'\n",
      "    else:\n",
      "        return 'yes'"
     ],
     "language": "python",
     "metadata": {},
     "outputs": [],
     "prompt_number": 4
    },
    {
     "cell_type": "code",
     "collapsed": false,
     "input": [
      "predict(df.xs(1)) # xs means \"cross-section\" aka row"
     ],
     "language": "python",
     "metadata": {},
     "outputs": [
      {
       "output_type": "pyout",
       "prompt_number": 5,
       "text": [
        "'no'"
       ]
      }
     ],
     "prompt_number": 5
    },
    {
     "cell_type": "markdown",
     "metadata": {},
     "source": [
      "## How good is this dumb predictor?"
     ]
    },
    {
     "cell_type": "code",
     "collapsed": false,
     "input": [
      "i = 0\n",
      "predict(df.xs(i)) == df.play[i]"
     ],
     "language": "python",
     "metadata": {},
     "outputs": [
      {
       "output_type": "pyout",
       "prompt_number": 6,
       "text": [
        "True"
       ]
      }
     ],
     "prompt_number": 6
    },
    {
     "cell_type": "code",
     "collapsed": false,
     "input": [
      "correct = 0\n",
      "total = 0\n",
      "\n",
      "for i in df.index:\n",
      "    # count how many predictions are correct\n",
      "    if predict(df.xs(i)) == df.play[i]:\n",
      "        correct +=1\n",
      "    \n",
      "    total += 1\n",
      "    \n",
      "print 'fraction correct:', float(correct) / total"
     ],
     "language": "python",
     "metadata": {},
     "outputs": [
      {
       "output_type": "stream",
       "stream": "stdout",
       "text": [
        "fraction correct: 0.714285714286\n"
       ]
      }
     ],
     "prompt_number": 7
    },
    {
     "cell_type": "markdown",
     "metadata": {},
     "source": [
      "## How much better can you do with a single rule?"
     ]
    },
    {
     "cell_type": "code",
     "collapsed": false,
     "input": [
      "# each column could be the basis for a single-rule decision (besides 'play')\n",
      "df.columns"
     ],
     "language": "python",
     "metadata": {},
     "outputs": [
      {
       "output_type": "pyout",
       "prompt_number": 8,
       "text": [
        "Index([outlook, temperature, humidity, windy, play], dtype=object)"
       ]
      }
     ],
     "prompt_number": 8
    },
    {
     "cell_type": "code",
     "collapsed": false,
     "input": [
      "# each value in a column could be used for the decision\n",
      "col = 'temperature'\n",
      "set(df[col])"
     ],
     "language": "python",
     "metadata": {},
     "outputs": [
      {
       "output_type": "pyout",
       "prompt_number": 10,
       "text": [
        "set([64, 65, 68, 69, 70, 71, 72, 75, 80, 81, 83, 85])"
       ]
      }
     ],
     "prompt_number": 10
    },
    {
     "cell_type": "code",
     "collapsed": false,
     "input": [
      "# outlook-based predict is different from form suited to other columns, since outlook is unordered\n",
      "def predict(s, col, val, pred):\n",
      "    if col == 'outlook':\n",
      "        if s['outlook'] == val:\n",
      "            return pred\n",
      "        else:\n",
      "            return not pred\n",
      "    else:\n",
      "        if s[col] < val:\n",
      "            return pred\n",
      "        else:\n",
      "            return not pred"
     ],
     "language": "python",
     "metadata": {},
     "outputs": [],
     "prompt_number": 11
    },
    {
     "cell_type": "code",
     "collapsed": false,
     "input": [
      "predict(df.xs(0), 'outlook', 'overcast', True)"
     ],
     "language": "python",
     "metadata": {},
     "outputs": [
      {
       "output_type": "pyout",
       "prompt_number": 13,
       "text": [
        "False"
       ]
      }
     ],
     "prompt_number": 13
    },
    {
     "cell_type": "code",
     "collapsed": false,
     "input": [
      "# make a function to evaluate a prediction\n",
      "bool_label = df.play.map({'yes': True, 'no':False})\n",
      "\n",
      "def prediction_quality(col, val, pred):\n",
      "    correct = 0\n",
      "    total = 0\n",
      "    \n",
      "    for i in df.index:\n",
      "        # count how many predictions are correct\n",
      "        if predict(df.xs(i), col, val, pred) == bool_label[i]:\n",
      "            correct +=1\n",
      "        \n",
      "        total += 1\n",
      "        \n",
      "    return float(correct) / total"
     ],
     "language": "python",
     "metadata": {},
     "outputs": [],
     "prompt_number": 18
    },
    {
     "cell_type": "code",
     "collapsed": false,
     "input": [
      "prediction_quality('outlook', 'sunny', False)"
     ],
     "language": "python",
     "metadata": {},
     "outputs": [
      {
       "output_type": "pyout",
       "prompt_number": 19,
       "text": [
        "0.7142857142857143"
       ]
      }
     ],
     "prompt_number": 19
    },
    {
     "cell_type": "code",
     "collapsed": false,
     "input": [
      "prediction_quality('outlook', 'overcast', True)"
     ],
     "language": "python",
     "metadata": {},
     "outputs": [
      {
       "output_type": "pyout",
       "prompt_number": 21,
       "text": [
        "0.6428571428571429"
       ]
      }
     ],
     "prompt_number": 21
    },
    {
     "cell_type": "code",
     "collapsed": false,
     "input": [
      "# search through all prediction rules to find the best one\n",
      "best = dict(quality=-inf)\n",
      "\n",
      "for col in ['outlook', 'temperature', 'humidity', 'windy']:\n",
      "    for val in set(df[col]):\n",
      "        for pred in [True, False]:\n",
      "            quality = prediction_quality(col, val, pred)\n",
      "            if quality >= best['quality']:\n",
      "                best = dict(quality=quality, col=col, val=val, pred=pred)\n",
      "                \n",
      "print best"
     ],
     "language": "python",
     "metadata": {},
     "outputs": [
      {
       "output_type": "stream",
       "stream": "stdout",
       "text": [
        "{'pred': True, 'quality': 0.7142857142857143, 'col': 'humidity', 'val': 91}\n"
       ]
      }
     ],
     "prompt_number": 24
    },
    {
     "cell_type": "markdown",
     "metadata": {},
     "source": [
      "# Looks like that dumb predictor was not so dumb after all..."
     ]
    },
    {
     "cell_type": "code",
     "collapsed": false,
     "input": [],
     "language": "python",
     "metadata": {},
     "outputs": []
    }
   ],
   "metadata": {}
  }
 ]
}