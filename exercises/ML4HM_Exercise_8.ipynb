{
 "metadata": {
  "name": "ML4HM_Exercise_8"
 },
 "nbformat": 3,
 "nbformat_minor": 0,
 "worksheets": [
  {
   "cells": [
    {
     "cell_type": "code",
     "collapsed": false,
     "input": [
      "import pandas as pd, sklearn.cluster as cluster\n",
      "df = pd.read_csv('/home/j/Project/Machine-Learning/ML4HM/ISL/Fig_2_9_data.csv', index_col=0)\n",
      "X = array(df.filter(like='X'))"
     ],
     "language": "python",
     "metadata": {},
     "outputs": [],
     "prompt_number": 1
    },
    {
     "cell_type": "code",
     "collapsed": false,
     "input": [
      "plot(X[:,0], X[:,1], 'o', color='none', mec='k', mew=2, ms=7, alpha=.95)"
     ],
     "language": "python",
     "metadata": {},
     "outputs": []
    },
    {
     "cell_type": "markdown",
     "metadata": {},
     "source": [
      "## k-Means"
     ]
    },
    {
     "cell_type": "code",
     "collapsed": false,
     "input": [
      "labels = cluster.KMeans(n_clusters=2).fit_predict(X)"
     ],
     "language": "python",
     "metadata": {},
     "outputs": []
    },
    {
     "cell_type": "code",
     "collapsed": false,
     "input": [
      "for l in unique(label):\n",
      "    plot(X[label==l, 0], X[label==l, 1], 'o',\n",
      "         color='none', mec='kr'[l], mew=2, ms=7, alpha=.95)"
     ],
     "language": "python",
     "metadata": {},
     "outputs": []
    },
    {
     "cell_type": "markdown",
     "metadata": {},
     "source": [
      "## Other Methods"
     ]
    },
    {
     "cell_type": "code",
     "collapsed": false,
     "input": [
      "clf = cluster.Ward(n_clusters=10)\n",
      "label = clf.fit_predict(X)"
     ],
     "language": "python",
     "metadata": {},
     "outputs": []
    },
    {
     "cell_type": "code",
     "collapsed": false,
     "input": [
      "import sklearn.mixture as mixture\n",
      "clf = mixture.GMM(n_components=4)\n",
      "clf.fit(X)\n",
      "label = clf.predict_proba(X)"
     ],
     "language": "python",
     "metadata": {},
     "outputs": []
    },
    {
     "cell_type": "code",
     "collapsed": false,
     "input": [
      "cluster.AffinityPropagation"
     ],
     "language": "python",
     "metadata": {},
     "outputs": []
    },
    {
     "cell_type": "code",
     "collapsed": false,
     "input": [
      "cluster.SpectralClustering"
     ],
     "language": "python",
     "metadata": {},
     "outputs": []
    },
    {
     "cell_type": "markdown",
     "metadata": {},
     "source": [
      "## Exercise"
     ]
    },
    {
     "cell_type": "code",
     "collapsed": false,
     "input": [
      "import json\n",
      "posts = json.load(file('/home/j/Project/Machine-Learning/ML4HM/blog_posts.json'))"
     ],
     "language": "python",
     "metadata": {},
     "outputs": []
    },
    {
     "cell_type": "code",
     "collapsed": false,
     "input": [
      "posts[0][:300]"
     ],
     "language": "python",
     "metadata": {},
     "outputs": []
    },
    {
     "cell_type": "markdown",
     "metadata": {},
     "source": [
      "* http://scikit-learn.github.io/scikit-learn-tutorial/working_with_text_data.html"
     ]
    },
    {
     "cell_type": "code",
     "collapsed": false,
     "input": [
      ">>> from sklearn.feature_extraction.text import CountVectorizer\n",
      ">>> count_vect = CountVectorizer()\n",
      ">>> X_train_counts = count_vect.fit_transform(posts)\n",
      ">>> X_train_counts.shape"
     ],
     "language": "python",
     "metadata": {},
     "outputs": []
    }
   ],
   "metadata": {}
  }
 ]
}