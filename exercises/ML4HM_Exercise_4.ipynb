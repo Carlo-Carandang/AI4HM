{
 "metadata": {
  "name": "ML4HM_Exercise_4"
 },
 "nbformat": 3,
 "nbformat_minor": 0,
 "worksheets": [
  {
   "cells": [
    {
     "cell_type": "markdown",
     "metadata": {},
     "source": [
      "## Exercise 4: Find the best $k$ for $k$-NN predictions of cellphone ownership"
     ]
    },
    {
     "cell_type": "code",
     "collapsed": false,
     "input": [
      "import pandas as pd\n",
      "df = pd.read_csv('/home/j/Project/Machine-Learning/ML4HM/RWA_DHS6_2010_2011_HH_ASSETS.CSV', index_col=0)\n",
      "codebook = pd.read_csv('/home/j/Project/Machine-Learning/ML4HM/RWA_DHS6_2010_2011_HH_ASSETS_codebook.CSV', index_col=0)"
     ],
     "language": "python",
     "metadata": {},
     "outputs": []
    },
    {
     "cell_type": "code",
     "collapsed": false,
     "input": [
      "X = array(df.drop(['hv243a'], axis=1))\n",
      "y = array(df.hv243a)"
     ],
     "language": "python",
     "metadata": {},
     "outputs": []
    },
    {
     "cell_type": "code",
     "collapsed": false,
     "input": [
      "import sklearn.neighbors, sklearn.cross_validation\n",
      "\n",
      "k = 10\n",
      "X = array(df.drop(['hv243a'], axis=1))\n",
      "y = array(df.hv243a)\n",
      "\n",
      "clf = sklearn.neighbors.KNeighborsClassifier(n_neighbors=k)\n",
      "cv = sklearn.cross_validation.StratifiedShuffleSplit(y, n_iter=10, test_size=.25)\n",
      "scores = sklearn.cross_validation.cross_val_score(clf, X, y, cv=cv)\n",
      "\n",
      "print k, scores.mean(), scores.std()"
     ],
     "language": "python",
     "metadata": {},
     "outputs": []
    }
   ],
   "metadata": {}
  }
 ]
}