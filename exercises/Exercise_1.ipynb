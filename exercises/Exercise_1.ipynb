{
 "metadata": {
  "name": "",
  "signature": "sha256:f1c8a3bd15fa894edd8691b68419ae0766f6268f857ca25ffe39e88bf76ddbcd"
 },
 "nbformat": 3,
 "nbformat_minor": 0,
 "worksheets": [
  {
   "cells": [
    {
     "cell_type": "markdown",
     "metadata": {
      "internals": {
       "slide_type": "subslide"
      },
      "slideshow": {
       "slide_type": "slide"
      }
     },
     "source": [
      "# Exercise 1.0: Learning Python\n",
      "\n",
      "* From http://software-carpentry.org/v5/novice/python/index.html"
     ]
    },
    {
     "cell_type": "code",
     "collapsed": false,
     "input": [
      "# an easy way to get the data necessary for following along with part 1 of the python intro\n",
      "\n",
      "import numpy, pandas as pd\n",
      "df = pd.read_csv('https://github.com/swcarpentry/patient-data/raw/master/inflammation-01.csv',\n",
      "                header=None)\n",
      "data = numpy.array(df)"
     ],
     "language": "python",
     "metadata": {},
     "outputs": [],
     "prompt_number": 13
    },
    {
     "cell_type": "markdown",
     "metadata": {},
     "source": [
      "1.0.1. Draw diagrams showing what variables refer to what values after each statement in the following program:\n",
      "\n",
      "    mass = 47.5\n",
      "    age = 122\n",
      "    mass = mass * 2.0\n",
      "    age = age - 20\n"
     ]
    },
    {
     "cell_type": "markdown",
     "metadata": {},
     "source": [
      "1.0.2. What does the following program print out?\n",
      "\n",
      "    first, second = 'Grace', 'Hopper'\n",
      "    third, fourth = second, first\n",
      "    print third, fourth\n"
     ]
    },
    {
     "cell_type": "markdown",
     "metadata": {},
     "source": [
      "1.0.3. \"Adding\" two strings produces their concatention: `'a' + 'b'` is `'ab'`. Write a function called fence that takes two parameters called original and wrapper and returns a new string that has the wrapper character at the beginning and end of the original:\n",
      "\n",
      "    print fence('name', '*')\n",
      "    *name*\n"
     ]
    },
    {
     "cell_type": "markdown",
     "metadata": {},
     "source": [
      "1.0.4. If the variable `s` refers to a string, then `s[0]` is the string's first character and `s[-1]` is its last. Write a function called outer that returns a string made up of just the first and last characters of its input:\n",
      "\n",
      "    print outer('helium')\n",
      "    hm\n"
     ]
    },
    {
     "cell_type": "markdown",
     "metadata": {},
     "source": [
      "1.0.5. We previously wrote functions called fence and outer. Draw a diagram showing how the call stack changes when we run the following:\n",
      "\n",
      "    print outer(fence('carbon', '+'))\n"
     ]
    },
    {
     "cell_type": "markdown",
     "metadata": {
      "internals": {
       "slide_type": "subslide"
      },
      "slideshow": {
       "slide_type": "slide"
      }
     },
     "source": [
      "# Exercise 1.1: Predicting Weather"
     ]
    },
    {
     "cell_type": "code",
     "collapsed": false,
     "input": [
      "import pandas as pd\n",
      "df = pd.read_csv('https://github.com/aflaxman/AI4HM/raw/master/data/weather-numeric.csv')"
     ],
     "language": "python",
     "metadata": {
      "internals": {},
      "slideshow": {
       "slide_type": "-"
      }
     },
     "outputs": []
    },
    {
     "cell_type": "code",
     "collapsed": false,
     "input": [
      "df.head()"
     ],
     "language": "python",
     "metadata": {
      "internals": {},
      "slideshow": {
       "slide_type": "-"
      }
     },
     "outputs": []
    },
    {
     "cell_type": "code",
     "collapsed": false,
     "input": [
      "# use TAB to explore commands"
     ],
     "language": "python",
     "metadata": {
      "internals": {},
      "slideshow": {
       "slide_type": "-"
      }
     },
     "outputs": []
    },
    {
     "cell_type": "markdown",
     "metadata": {
      "internals": {},
      "slideshow": {
       "slide_type": "-"
      }
     },
     "source": [
      "## Abie's dumb predictor"
     ]
    },
    {
     "cell_type": "code",
     "collapsed": false,
     "input": [
      "def predict(s):\n",
      "    if s['outlook'] == 'sunny':\n",
      "        return 'no'\n",
      "    else:\n",
      "        return 'yes'"
     ],
     "language": "python",
     "metadata": {
      "internals": {},
      "slideshow": {
       "slide_type": "-"
      }
     },
     "outputs": []
    },
    {
     "cell_type": "code",
     "collapsed": false,
     "input": [
      "predict(df.loc[1]) # .loc[1] means \"location = row 1\""
     ],
     "language": "python",
     "metadata": {
      "internals": {},
      "slideshow": {
       "slide_type": "-"
      }
     },
     "outputs": []
    },
    {
     "cell_type": "markdown",
     "metadata": {
      "internals": {},
      "slideshow": {
       "slide_type": "-"
      }
     },
     "source": [
      "## How good is this dumb predictor?"
     ]
    },
    {
     "cell_type": "code",
     "collapsed": false,
     "input": [
      "i = 0\n",
      "predict(df.loc[i]) == df.play[i]"
     ],
     "language": "python",
     "metadata": {
      "internals": {},
      "slideshow": {
       "slide_type": "-"
      }
     },
     "outputs": []
    },
    {
     "cell_type": "code",
     "collapsed": false,
     "input": [
      "for i in df.index:\n",
      "    # count how many predictions are correct\n",
      "    pass"
     ],
     "language": "python",
     "metadata": {
      "internals": {},
      "slideshow": {
       "slide_type": "-"
      }
     },
     "outputs": []
    },
    {
     "cell_type": "markdown",
     "metadata": {
      "internals": {},
      "slideshow": {
       "slide_type": "-"
      }
     },
     "source": [
      "## How much better can you do with a single rule?"
     ]
    },
    {
     "cell_type": "markdown",
     "metadata": {
      "internals": {
       "slide_helper": "subslide_end"
      },
      "slide_helper": "slide_end",
      "slideshow": {
       "slide_type": "-"
      }
     },
     "source": [
      "# Homework:\n",
      "\n",
      "* Find the best \"length-two decision list\" for `weather`\n",
      "\n",
      "* Think about machine learning projects you might do for this course (related to your IHME research?), and about elevator pitches\n",
      "\n",
      "* *Read*\n",
      "\n"
     ]
    }
   ],
   "metadata": {}
  }
 ]
}