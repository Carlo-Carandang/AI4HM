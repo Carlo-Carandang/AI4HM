{
 "metadata": {
  "name": "ML4HM_Exercise_3"
 },
 "nbformat": 3,
 "nbformat_minor": 0,
 "worksheets": [
  {
   "cells": [
    {
     "cell_type": "markdown",
     "metadata": {},
     "source": [
      "# Exercise 3: Applying many ML methods"
     ]
    },
    {
     "cell_type": "code",
     "collapsed": false,
     "input": [
      "# what to apply them to?  perhaps my simulated data would be good.\n",
      "\n",
      "import random, pymc as mc\n",
      "def simulate(n, p, seed):\n",
      "    random.seed(123456+seed)\n",
      "    mc.np.random.seed(123456+seed)\n",
      "    \n",
      "    # make A clusters, beta distributed\n",
      "    A = 5\n",
      "    X_true = mc.rbeta(.5, .5, size=(A,p))\n",
      "    y_true = mc.rbeta(1, 1, size=A)\n",
      "    \n",
      "    \n",
      "    X = zeros((n,p))\n",
      "    p_true = zeros(n)\n",
      "    for i in range(n):\n",
      "        a_i = random.randrange(A)\n",
      "        X[i] = mc.rbernoulli(X_true[a_i])\n",
      "        p_true[i] = y_true[a_i]\n",
      "    \n",
      "    y = mc.rbinomial(1, p_true)\n",
      "    \n",
      "    test = random.sample(range(n), n/4)\n",
      "    train = list(set(range(n)) - set(test))\n",
      "    \n",
      "    X_train = X[train]\n",
      "    y_train = y[train]\n",
      "    \n",
      "    X_test = X[test]\n",
      "    y_test = y[test]\n",
      "\n",
      "    return locals()"
     ],
     "language": "python",
     "metadata": {},
     "outputs": []
    },
    {
     "cell_type": "code",
     "collapsed": false,
     "input": [
      "data = simulate(n=1000, p=10, seed=0)"
     ],
     "language": "python",
     "metadata": {},
     "outputs": []
    },
    {
     "cell_type": "markdown",
     "metadata": {},
     "source": [
      "# Methods\n",
      "\n",
      "## OneR / Hyperpipes\n"
     ]
    },
    {
     "cell_type": "code",
     "collapsed": false,
     "input": [
      "import sklearn.tree\n",
      "clf = sklearn.tree.DecisionTreeClassifier(max_depth=1)\n",
      "clf.fit(data['X'], data['y'])"
     ],
     "language": "python",
     "metadata": {},
     "outputs": []
    },
    {
     "cell_type": "code",
     "collapsed": false,
     "input": [
      "y_pred = clf.predict(data['X'])\n",
      "print 'in-sample accuracy:', mean(y_pred == data['y'])"
     ],
     "language": "python",
     "metadata": {},
     "outputs": []
    },
    {
     "cell_type": "markdown",
     "metadata": {},
     "source": [
      "## Naive Bayes"
     ]
    },
    {
     "cell_type": "markdown",
     "metadata": {},
     "source": [
      "## Additional Methods"
     ]
    },
    {
     "cell_type": "markdown",
     "metadata": {},
     "source": [
      "# Application to RWA DHS data"
     ]
    },
    {
     "cell_type": "code",
     "collapsed": false,
     "input": [
      "import pandas as pd\n",
      "df = pd.read_csv('/home/j/Project/Machine-Learning/ML4HM/RWA_DHS6_2010_2011_HH_ASSETS.CSV')\n",
      "codebook = pd.read_csv('/home/j/Project/Machine-Learning/ML4HM/RWA_DHS6_2010_2011_HH_ASSETS_codebook.CSV')"
     ],
     "language": "python",
     "metadata": {},
     "outputs": []
    },
    {
     "cell_type": "code",
     "collapsed": false,
     "input": [],
     "language": "python",
     "metadata": {},
     "outputs": []
    }
   ],
   "metadata": {}
  }
 ]
}