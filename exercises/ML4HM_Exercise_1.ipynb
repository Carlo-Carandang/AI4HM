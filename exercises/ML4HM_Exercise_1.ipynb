{
 "metadata": {
  "name": "",
  "signature": "sha256:88c90a69da1e677156d5e9786ac66d2673526c83fd1cc6a42c0d1acdbc7548de"
 },
 "nbformat": 3,
 "nbformat_minor": 0,
 "worksheets": [
  {
   "cells": [
    {
     "cell_type": "markdown",
     "metadata": {
      "internals": {
       "slide_type": "subslide"
      },
      "slideshow": {
       "slide_type": "slide"
      }
     },
     "source": [
      "# Exercise 1: Predicting Weather"
     ]
    },
    {
     "cell_type": "code",
     "collapsed": false,
     "input": [
      "import pandas as pd\n",
      "df = pd.read_csv('../data/weather-numeric.csv')"
     ],
     "language": "python",
     "metadata": {
      "internals": {},
      "slideshow": {
       "slide_type": "-"
      }
     },
     "outputs": [],
     "prompt_number": 1
    },
    {
     "cell_type": "code",
     "collapsed": false,
     "input": [
      "df.head()"
     ],
     "language": "python",
     "metadata": {
      "internals": {},
      "slideshow": {
       "slide_type": "-"
      }
     },
     "outputs": [
      {
       "html": [
        "<div style=\"max-height:1000px;max-width:1500px;overflow:auto;\">\n",
        "<table border=\"1\" class=\"dataframe\">\n",
        "  <thead>\n",
        "    <tr style=\"text-align: right;\">\n",
        "      <th></th>\n",
        "      <th>outlook</th>\n",
        "      <th>temperature</th>\n",
        "      <th>humidity</th>\n",
        "      <th>windy</th>\n",
        "      <th>play</th>\n",
        "    </tr>\n",
        "  </thead>\n",
        "  <tbody>\n",
        "    <tr>\n",
        "      <th>0</th>\n",
        "      <td>    sunny</td>\n",
        "      <td> 85</td>\n",
        "      <td> 85</td>\n",
        "      <td> False</td>\n",
        "      <td>  no</td>\n",
        "    </tr>\n",
        "    <tr>\n",
        "      <th>1</th>\n",
        "      <td>    sunny</td>\n",
        "      <td> 80</td>\n",
        "      <td> 90</td>\n",
        "      <td>  True</td>\n",
        "      <td>  no</td>\n",
        "    </tr>\n",
        "    <tr>\n",
        "      <th>2</th>\n",
        "      <td> overcast</td>\n",
        "      <td> 83</td>\n",
        "      <td> 86</td>\n",
        "      <td> False</td>\n",
        "      <td> yes</td>\n",
        "    </tr>\n",
        "    <tr>\n",
        "      <th>3</th>\n",
        "      <td>    rainy</td>\n",
        "      <td> 70</td>\n",
        "      <td> 96</td>\n",
        "      <td> False</td>\n",
        "      <td> yes</td>\n",
        "    </tr>\n",
        "    <tr>\n",
        "      <th>4</th>\n",
        "      <td>    rainy</td>\n",
        "      <td> 68</td>\n",
        "      <td> 80</td>\n",
        "      <td> False</td>\n",
        "      <td> yes</td>\n",
        "    </tr>\n",
        "  </tbody>\n",
        "</table>\n",
        "</div>"
       ],
       "metadata": {},
       "output_type": "pyout",
       "prompt_number": 3,
       "text": [
        "    outlook  temperature  humidity  windy play\n",
        "0     sunny           85        85  False   no\n",
        "1     sunny           80        90   True   no\n",
        "2  overcast           83        86  False  yes\n",
        "3     rainy           70        96  False  yes\n",
        "4     rainy           68        80  False  yes"
       ]
      }
     ],
     "prompt_number": 3
    },
    {
     "cell_type": "code",
     "collapsed": false,
     "input": [
      "# use TAB to explore commands"
     ],
     "language": "python",
     "metadata": {
      "internals": {},
      "slideshow": {
       "slide_type": "-"
      }
     },
     "outputs": [],
     "prompt_number": 4
    },
    {
     "cell_type": "markdown",
     "metadata": {
      "internals": {},
      "slideshow": {
       "slide_type": "-"
      }
     },
     "source": [
      "## Abie's dumb predictor"
     ]
    },
    {
     "cell_type": "code",
     "collapsed": false,
     "input": [
      "def predict(s):\n",
      "    if s['outlook'] == 'sunny':\n",
      "        return 'no'\n",
      "    else:\n",
      "        return 'yes'"
     ],
     "language": "python",
     "metadata": {
      "internals": {},
      "slideshow": {
       "slide_type": "-"
      }
     },
     "outputs": [],
     "prompt_number": 5
    },
    {
     "cell_type": "code",
     "collapsed": false,
     "input": [
      "predict(df.loc[1]) # .loc[1] means \"location = row 1\""
     ],
     "language": "python",
     "metadata": {
      "internals": {},
      "slideshow": {
       "slide_type": "-"
      }
     },
     "outputs": [
      {
       "metadata": {},
       "output_type": "pyout",
       "prompt_number": 6,
       "text": [
        "'no'"
       ]
      }
     ],
     "prompt_number": 6
    },
    {
     "cell_type": "markdown",
     "metadata": {
      "internals": {},
      "slideshow": {
       "slide_type": "-"
      }
     },
     "source": [
      "## How good is this dumb predictor?"
     ]
    },
    {
     "cell_type": "code",
     "collapsed": false,
     "input": [
      "i = 0\n",
      "predict(df.loc[i]) == df.play[i]"
     ],
     "language": "python",
     "metadata": {
      "internals": {},
      "slideshow": {
       "slide_type": "-"
      }
     },
     "outputs": [
      {
       "metadata": {},
       "output_type": "pyout",
       "prompt_number": 8,
       "text": [
        "True"
       ]
      }
     ],
     "prompt_number": 8
    },
    {
     "cell_type": "code",
     "collapsed": false,
     "input": [
      "for i in df.index:\n",
      "    # count how many predictions are correct\n",
      "    pass"
     ],
     "language": "python",
     "metadata": {
      "internals": {},
      "slideshow": {
       "slide_type": "-"
      }
     },
     "outputs": [],
     "prompt_number": 9
    },
    {
     "cell_type": "markdown",
     "metadata": {
      "internals": {},
      "slideshow": {
       "slide_type": "-"
      }
     },
     "source": [
      "## How much better can you do with a single rule?"
     ]
    },
    {
     "cell_type": "markdown",
     "metadata": {
      "internals": {
       "slide_helper": "subslide_end"
      },
      "slide_helper": "slide_end",
      "slideshow": {
       "slide_type": "-"
      }
     },
     "source": [
      "# Homework:\n",
      "\n",
      "* Find the best \"length-two decision list\" for `weather`\n",
      "\n",
      "* Think about machine learning projects you might do for this course (related to your IHME research?), and about elevator pitches\n",
      "\n",
      "* *Read*\n",
      "\n"
     ]
    },
    {
     "cell_type": "code",
     "collapsed": false,
     "input": [
      "from ipynb_style import clean\n",
      "clean()"
     ],
     "language": "python",
     "metadata": {},
     "outputs": [
      {
       "html": [
        "\n",
        "<style type=\"text/css\">\n",
        "div.input {\n",
        "width: 105ex; /* about 80 chars + buffer */\n",
        "}\n",
        "\n",
        "div.text_cell {\n",
        "width: 105ex /* instead of 100%, */\n",
        "}\n",
        "\n",
        "div.text_cell_render {\n",
        "/*font-family: \"Helvetica Neue\", Arial, Helvetica, Geneva, sans-serif;*/\n",
        "font-family: \"Charis SIL\", serif; /* Make non-code text serif. */\n",
        "line-height: 145%; /* added for some line spacing of text. */\n",
        "width: 105ex; /* instead of 'inherit' for shorter lines */\n",
        "}\n",
        "\n",
        "/* Set the size of the headers */\n",
        "div.text_cell_render h1 {\n",
        "font-size: 18pt;\n",
        "}\n",
        "\n",
        "div.text_cell_render h2 {\n",
        "font-size: 14pt;\n",
        "}\n",
        "\n",
        ".CodeMirror {\n",
        " font-family: Consolas, monospace;\n",
        " }\n",
        "\n",
        ".rendered_html ol {list-style:decimal; margin: 1em 2em;}\n",
        "\n",
        "</style>\n"
       ],
       "metadata": {},
       "output_type": "pyout",
       "prompt_number": 10,
       "text": [
        "<IPython.core.display.HTML object>"
       ]
      }
     ],
     "prompt_number": 10
    }
   ],
   "metadata": {}
  }
 ]
}