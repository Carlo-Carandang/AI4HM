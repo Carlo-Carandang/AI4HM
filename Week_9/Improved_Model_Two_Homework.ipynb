{
 "metadata": {
  "name": "",
  "signature": "sha256:4fbc6ce3d404867d4eec577d99d53bff825ddc7a1696ab03aaebaea7892f6261"
 },
 "nbformat": 3,
 "nbformat_minor": 0,
 "worksheets": [
  {
   "cells": [
    {
     "cell_type": "code",
     "collapsed": false,
     "input": [
      "import numpy as np, pandas as pd, matplotlib.pyplot as plt, seaborn as sns\n",
      "%matplotlib inline\n",
      "sns.set_context('poster')\n",
      "sns.set_style('darkgrid')"
     ],
     "language": "python",
     "metadata": {},
     "outputs": [],
     "prompt_number": 1
    },
    {
     "cell_type": "markdown",
     "metadata": {},
     "source": [
      "# Improved Model One Notebook\n",
      "\n",
      "Name:\n",
      "\n",
      "Date:\n",
      "\n",
      "## A Brief Recap of the Data\n",
      " (note anything that has changed since last week)\n",
      " \n",
      "## A Brief Description of the Baseline Model\n",
      " (note anything that has changed since last week)\n",
      " \n",
      "## A Brief Description of the Metric(s) of Success\n",
      " (note anything that has changed since last week)\n",
      " \n",
      "## A Brief Description of how to measure the performance of the baseline model\n",
      " (note anything that has changed since last week)\n",
      " \n",
      "# Brief Description of the approach you will take for *model one*\n",
      "\n",
      "# Now try it out!"
     ]
    },
    {
     "cell_type": "code",
     "collapsed": false,
     "input": [
      "__________________________________"
     ],
     "language": "python",
     "metadata": {},
     "outputs": []
    },
    {
     "cell_type": "markdown",
     "metadata": {},
     "source": [
      "## How did it do?\n",
      "\n",
      "## What are the most promising directions to explore next?\n"
     ]
    },
    {
     "cell_type": "code",
     "collapsed": false,
     "input": [],
     "language": "python",
     "metadata": {},
     "outputs": []
    }
   ],
   "metadata": {}
  }
 ]
}